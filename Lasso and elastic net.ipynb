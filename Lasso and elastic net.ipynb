{
  "nbformat": 4,
  "nbformat_minor": 0,
  "metadata": {
    "kernelspec": {
      "display_name": "Python 3",
      "language": "python",
      "name": "python3"
    },
    "language_info": {
      "codemirror_mode": {
        "name": "ipython",
        "version": 3
      },
      "file_extension": ".py",
      "mimetype": "text/x-python",
      "name": "python",
      "nbconvert_exporter": "python",
      "pygments_lexer": "ipython3",
      "version": "3.7.1"
    },
    "colab": {
      "name": "New Models",
      "provenance": [],
      "collapsed_sections": [],
      "toc_visible": true
    }
  },
  "cells": [
    {
      "cell_type": "code",
      "metadata": {
        "id": "owLOTkvvzO1y",
        "colab_type": "code",
        "outputId": "07b3d3ad-e0ff-41fb-db21-14f7ac9cc6fe",
        "colab": {
          "base_uri": "https://localhost:8080/",
          "height": 122
        }
      },
      "source": [
        "# Mount Google Drive\n",
        "\n",
        "from google.colab import drive\n",
        "\n",
        "# The following command will prompt a URL for you to click and obtain the\n",
        "# authorization code\n",
        "\n",
        "drive.mount(\"/content/drive\")"
      ],
      "execution_count": 1,
      "outputs": [
        {
          "output_type": "stream",
          "text": [
            "Go to this URL in a browser: https://accounts.google.com/o/oauth2/auth?client_id=947318989803-6bn6qk8qdgf4n4g3pfee6491hc0brc4i.apps.googleusercontent.com&redirect_uri=urn%3aietf%3awg%3aoauth%3a2.0%3aoob&response_type=code&scope=email%20https%3a%2f%2fwww.googleapis.com%2fauth%2fdocs.test%20https%3a%2f%2fwww.googleapis.com%2fauth%2fdrive%20https%3a%2f%2fwww.googleapis.com%2fauth%2fdrive.photos.readonly%20https%3a%2f%2fwww.googleapis.com%2fauth%2fpeopleapi.readonly\n",
            "\n",
            "Enter your authorization code:\n",
            "··········\n",
            "Mounted at /content/drive\n"
          ],
          "name": "stdout"
        }
      ]
    },
    {
      "cell_type": "code",
      "metadata": {
        "id": "BiKoiLzQHT0N",
        "colab_type": "code",
        "colab": {}
      },
      "source": [
        "# Set up data folder\n",
        "from pathlib import Path\n",
        "DATA = Path('/content/drive/My Drive/Mutation_Load/data_used')"
      ],
      "execution_count": 0,
      "outputs": []
    },
    {
      "cell_type": "code",
      "metadata": {
        "id": "KyCCsltecE24",
        "colab_type": "code",
        "outputId": "04f44e0a-ae24-4e6f-c753-c0158ab8e5c1",
        "colab": {
          "base_uri": "https://localhost:8080/",
          "height": 530
        }
      },
      "source": [
        "# install package for BIC and Cox\n",
        "!pip install RegscorePy\n",
        "!pip install lifelines"
      ],
      "execution_count": 3,
      "outputs": [
        {
          "output_type": "stream",
          "text": [
            "Collecting RegscorePy\n",
            "  Downloading https://files.pythonhosted.org/packages/39/40/e51956be9f942c976c8c45056649b6e2a90dd18a48262396296944900b51/RegscorePy-1.1-py3-none-any.whl\n",
            "Requirement already satisfied: pandas in /usr/local/lib/python3.6/dist-packages (from RegscorePy) (0.25.3)\n",
            "Requirement already satisfied: numpy in /usr/local/lib/python3.6/dist-packages (from RegscorePy) (1.17.4)\n",
            "Requirement already satisfied: pytz>=2017.2 in /usr/local/lib/python3.6/dist-packages (from pandas->RegscorePy) (2018.9)\n",
            "Requirement already satisfied: python-dateutil>=2.6.1 in /usr/local/lib/python3.6/dist-packages (from pandas->RegscorePy) (2.6.1)\n",
            "Requirement already satisfied: six>=1.5 in /usr/local/lib/python3.6/dist-packages (from python-dateutil>=2.6.1->pandas->RegscorePy) (1.12.0)\n",
            "Installing collected packages: RegscorePy\n",
            "Successfully installed RegscorePy-1.1\n",
            "Collecting lifelines\n",
            "\u001b[?25l  Downloading https://files.pythonhosted.org/packages/6c/11/bf2c5f3418fbde5196f7e3354213c7c3330a072020323c2769a88b144169/lifelines-0.23.4-py2.py3-none-any.whl (385kB)\n",
            "\u001b[K     |████████████████████████████████| 389kB 2.7MB/s \n",
            "\u001b[?25hRequirement already satisfied: autograd>=1.3 in /usr/local/lib/python3.6/dist-packages (from lifelines) (1.3)\n",
            "Requirement already satisfied: scipy>=1.0 in /usr/local/lib/python3.6/dist-packages (from lifelines) (1.3.3)\n",
            "Collecting autograd-gamma>=0.3\n",
            "  Downloading https://files.pythonhosted.org/packages/3e/87/788c4bf90cc5c534cb3b7fdb5b719175e33e2658decce75e35e2ce69766f/autograd_gamma-0.4.1-py2.py3-none-any.whl\n",
            "Requirement already satisfied: numpy>=1.14.0 in /usr/local/lib/python3.6/dist-packages (from lifelines) (1.17.4)\n",
            "Requirement already satisfied: pandas>=0.23.0 in /usr/local/lib/python3.6/dist-packages (from lifelines) (0.25.3)\n",
            "Requirement already satisfied: matplotlib>=3.0 in /usr/local/lib/python3.6/dist-packages (from lifelines) (3.1.2)\n",
            "Requirement already satisfied: future>=0.15.2 in /usr/local/lib/python3.6/dist-packages (from autograd>=1.3->lifelines) (0.16.0)\n",
            "Requirement already satisfied: python-dateutil>=2.6.1 in /usr/local/lib/python3.6/dist-packages (from pandas>=0.23.0->lifelines) (2.6.1)\n",
            "Requirement already satisfied: pytz>=2017.2 in /usr/local/lib/python3.6/dist-packages (from pandas>=0.23.0->lifelines) (2018.9)\n",
            "Requirement already satisfied: cycler>=0.10 in /usr/local/lib/python3.6/dist-packages (from matplotlib>=3.0->lifelines) (0.10.0)\n",
            "Requirement already satisfied: pyparsing!=2.0.4,!=2.1.2,!=2.1.6,>=2.0.1 in /usr/local/lib/python3.6/dist-packages (from matplotlib>=3.0->lifelines) (2.4.5)\n",
            "Requirement already satisfied: kiwisolver>=1.0.1 in /usr/local/lib/python3.6/dist-packages (from matplotlib>=3.0->lifelines) (1.1.0)\n",
            "Requirement already satisfied: six>=1.5 in /usr/local/lib/python3.6/dist-packages (from python-dateutil>=2.6.1->pandas>=0.23.0->lifelines) (1.12.0)\n",
            "Requirement already satisfied: setuptools in /usr/local/lib/python3.6/dist-packages (from kiwisolver>=1.0.1->matplotlib>=3.0->lifelines) (42.0.2)\n",
            "Installing collected packages: autograd-gamma, lifelines\n",
            "Successfully installed autograd-gamma-0.4.1 lifelines-0.23.4\n"
          ],
          "name": "stdout"
        }
      ]
    },
    {
      "cell_type": "code",
      "metadata": {
        "id": "lFGgdvx_zFAj",
        "colab_type": "code",
        "colab": {}
      },
      "source": [
        "import pandas as pd\n",
        "import numpy as np\n",
        "pd.set_option('display.max_columns', None)"
      ],
      "execution_count": 0,
      "outputs": []
    },
    {
      "cell_type": "markdown",
      "metadata": {
        "id": "rQZn-tcOzFAn",
        "colab_type": "text"
      },
      "source": [
        "# Training data\n",
        "\n",
        "The following is commented out because mutation matrix csv has been generated. So we only need to read it in afterwards."
      ]
    },
    {
      "cell_type": "code",
      "metadata": {
        "id": "P5knsZl-9d0M",
        "colab_type": "code",
        "colab": {}
      },
      "source": [
        "tcga = pd.read_excel(DATA/'TCGA_LUAD.xlsx', header=1)"
      ],
      "execution_count": 0,
      "outputs": []
    },
    {
      "cell_type": "markdown",
      "metadata": {
        "id": "mZPEhx1NKU1F",
        "colab_type": "text"
      },
      "source": [
        "# Selection of nonsynonymous point mutations and the construction of mutation matrix"
      ]
    },
    {
      "cell_type": "markdown",
      "metadata": {
        "id": "vIFnDILKzFA3",
        "colab_type": "text"
      },
      "source": [
        "## Selection of nonsynonymous point mutations\n",
        "\n",
        "“Variant_Classification”: select nonsense mutation, nonstop mutation, and missense mutation. "
      ]
    },
    {
      "cell_type": "code",
      "metadata": {
        "id": "8r8uMP0WzFA5",
        "colab_type": "code",
        "colab": {}
      },
      "source": [
        "nonsyn = tcga[tcga['Variant_Classification'].isin([ 'Nonsense_Mutation', 'Nonstop_Mutation', 'Missense_Mutation'])]"
      ],
      "execution_count": 0,
      "outputs": []
    },
    {
      "cell_type": "markdown",
      "metadata": {
        "colab_type": "text",
        "id": "0OScREbKDeRu"
      },
      "source": [
        "## Construction of mutation matrix\n",
        "\n",
        "\"Variant_Type\": select SNP, DNP, and TNP (polymorphysm). The mutation counts are 1, 2, and 3, respectively."
      ]
    },
    {
      "cell_type": "code",
      "metadata": {
        "id": "dcoakARdzFBC",
        "colab_type": "code",
        "colab": {}
      },
      "source": [
        "poly = nonsyn[nonsyn['Variant_Type'].isin(['SNP', 'DNP', 'TNP'])]"
      ],
      "execution_count": 0,
      "outputs": []
    },
    {
      "cell_type": "code",
      "metadata": {
        "id": "q84oZXTHGIV3",
        "colab_type": "code",
        "colab": {}
      },
      "source": [
        "poly = poly[poly.Hugo_Symbol != 'Unknown']"
      ],
      "execution_count": 0,
      "outputs": []
    },
    {
      "cell_type": "code",
      "metadata": {
        "id": "acGW6mlJzFBH",
        "colab_type": "code",
        "colab": {}
      },
      "source": [
        "# # create an empty mutation matrix\n",
        "col = poly['Tumor_Sample_Barcode'].unique()\n",
        "idx = poly['Hugo_Symbol'].unique()\n",
        "mutmtx = pd.DataFrame(np.zeros([len(idx), len(col)]), columns=col, index=idx)\n",
        "\n",
        "# # fill in the mutation matrix\n",
        "vt = {'SNP': 1, 'DNP': 2, 'TNP': 3}\n",
        "for _, row in poly.iterrows():\n",
        "    mutmtx.loc[row.Hugo_Symbol, row.Tumor_Sample_Barcode] += vt[row.Variant_Type]"
      ],
      "execution_count": 0,
      "outputs": []
    },
    {
      "cell_type": "code",
      "metadata": {
        "id": "NaOFN8kvzFBa",
        "colab_type": "code",
        "colab": {}
      },
      "source": [
        "# mutmtx.to_csv(DATA/'mutmtx.csv')"
      ],
      "execution_count": 0,
      "outputs": []
    },
    {
      "cell_type": "markdown",
      "metadata": {
        "id": "hQ1hJMawMDL6",
        "colab_type": "text"
      },
      "source": [
        "This is the mutation matrix defined from the paper (13,526 genes and 230 patients). Mutation matrix has been saved to csv. Just load the csv from now on."
      ]
    },
    {
      "cell_type": "code",
      "metadata": {
        "scrolled": true,
        "id": "aIuqg6WEzFBG",
        "colab_type": "code",
        "outputId": "af4386e0-fbfb-4ac6-81e9-a85f26a7b0d0",
        "colab": {
          "base_uri": "https://localhost:8080/",
          "height": 326
        }
      },
      "source": [
        "#mutmtx = pd.read_csv(DATA/'mutmtx.csv', index_col=0)\n",
        "# remove genes that they do not exist in validation data and otherwise would be selected\n",
        "mutmtx = mutmtx.drop(['ZNF521', 'KMT2C', 'ADGRG4', 'COL6A3', 'ERICH3', 'NOTCH4', 'RIMS2'])\n",
        "mutmtx.head()"
      ],
      "execution_count": 10,
      "outputs": [
        {
          "output_type": "execute_result",
          "data": {
            "text/html": [
              "<div>\n",
              "<style scoped>\n",
              "    .dataframe tbody tr th:only-of-type {\n",
              "        vertical-align: middle;\n",
              "    }\n",
              "\n",
              "    .dataframe tbody tr th {\n",
              "        vertical-align: top;\n",
              "    }\n",
              "\n",
              "    .dataframe thead th {\n",
              "        text-align: right;\n",
              "    }\n",
              "</style>\n",
              "<table border=\"1\" class=\"dataframe\">\n",
              "  <thead>\n",
              "    <tr style=\"text-align: right;\">\n",
              "      <th></th>\n",
              "      <th>TCGA-05-4249-01A-01D-1105-08</th>\n",
              "      <th>TCGA-05-4382-01A-01D-1265-08</th>\n",
              "      <th>TCGA-05-4384-01A-01D-1753-08</th>\n",
              "      <th>TCGA-05-4389-01A-01D-1265-08</th>\n",
              "      <th>TCGA-05-4390-01A-02D-1753-08</th>\n",
              "      <th>TCGA-05-4395-01A-01D-1265-08</th>\n",
              "      <th>TCGA-05-4396-01A-21D-1855-08</th>\n",
              "      <th>TCGA-05-4398-01A-01D-1265-08</th>\n",
              "      <th>TCGA-05-4402-01A-01D-1265-08</th>\n",
              "      <th>TCGA-05-4403-01A-01D-1265-08</th>\n",
              "      <th>TCGA-05-4405-01A-21D-1855-08</th>\n",
              "      <th>TCGA-05-4410-01A-21D-1855-08</th>\n",
              "      <th>TCGA-05-4415-01A-22D-1855-08</th>\n",
              "      <th>TCGA-05-4417-01A-22D-1855-08</th>\n",
              "      <th>TCGA-05-4418-01A-01D-1265-08</th>\n",
              "      <th>TCGA-05-4420-01A-01D-1265-08</th>\n",
              "      <th>TCGA-05-4422-01A-01D-1265-08</th>\n",
              "      <th>TCGA-05-4424-01A-22D-1855-08</th>\n",
              "      <th>TCGA-05-4425-01A-01D-1753-08</th>\n",
              "      <th>TCGA-05-4426-01A-01D-1265-08</th>\n",
              "      <th>TCGA-05-4430-01A-02D-1265-08</th>\n",
              "      <th>TCGA-05-4432-01A-01D-1265-08</th>\n",
              "      <th>TCGA-05-4433-01A-22D-1855-08</th>\n",
              "      <th>TCGA-05-5420-01A-01D-1625-08</th>\n",
              "      <th>TCGA-05-5423-01A-01D-1625-08</th>\n",
              "      <th>TCGA-05-5428-01A-01D-1625-08</th>\n",
              "      <th>TCGA-05-5429-01A-01D-1625-08</th>\n",
              "      <th>TCGA-05-5715-01A-01D-1625-08</th>\n",
              "      <th>TCGA-35-3615-01A-01D-1040-01</th>\n",
              "      <th>TCGA-38-4626-01A-01D-1553-08</th>\n",
              "      <th>TCGA-38-4627-01A-01D-1553-08</th>\n",
              "      <th>TCGA-38-4628-01A-01D-1265-08</th>\n",
              "      <th>TCGA-38-4631-01A-01D-1753-08</th>\n",
              "      <th>TCGA-38-4632-01A-01D-1753-08</th>\n",
              "      <th>TCGA-38-6178-01A-11D-1753-08</th>\n",
              "      <th>TCGA-44-2655-01A-01D-1553-08</th>\n",
              "      <th>TCGA-44-2656-01A-02W-0928-08</th>\n",
              "      <th>TCGA-44-2657-01A-01D-1105-08</th>\n",
              "      <th>TCGA-44-2659-01A-01D-0969-08</th>\n",
              "      <th>TCGA-44-2661-01A-01D-1105-08</th>\n",
              "      <th>TCGA-44-2662-01A-01D-0969-08</th>\n",
              "      <th>TCGA-44-2665-01A-01D-1040-01</th>\n",
              "      <th>TCGA-44-2666-01A-01D-1489-08</th>\n",
              "      <th>TCGA-44-3396-01A-01D-1265-08</th>\n",
              "      <th>TCGA-44-3919-01A-02D-1458-08</th>\n",
              "      <th>TCGA-44-4112-01A-01D-1105-08</th>\n",
              "      <th>TCGA-44-5645-01A-01D-1625-08</th>\n",
              "      <th>TCGA-44-6145-01A-11D-1753-08</th>\n",
              "      <th>TCGA-44-6146-01A-11D-1753-08</th>\n",
              "      <th>TCGA-44-6147-01A-11D-1753-08</th>\n",
              "      <th>TCGA-44-6774-01A-21D-1855-08</th>\n",
              "      <th>TCGA-44-6775-01A-11D-1855-08</th>\n",
              "      <th>TCGA-44-6776-01A-11D-1855-08</th>\n",
              "      <th>TCGA-44-6777-01A-11D-1855-08</th>\n",
              "      <th>TCGA-44-6779-01A-11D-1855-08</th>\n",
              "      <th>TCGA-44-7659-01A-11D-2063-08</th>\n",
              "      <th>TCGA-44-7662-01A-11D-2063-08</th>\n",
              "      <th>TCGA-44-7670-01A-11D-2063-08</th>\n",
              "      <th>TCGA-44-7671-01A-11D-2063-08</th>\n",
              "      <th>TCGA-44-7672-01A-11D-2063-08</th>\n",
              "      <th>TCGA-49-4486-01A-01D-1265-08</th>\n",
              "      <th>TCGA-49-4487-01A-21D-1855-08</th>\n",
              "      <th>TCGA-49-4488-01A-01D-1753-08</th>\n",
              "      <th>TCGA-49-4490-01A-21D-1855-08</th>\n",
              "      <th>TCGA-49-4494-01A-01D-1265-08</th>\n",
              "      <th>TCGA-49-4501-01A-01D-1265-08</th>\n",
              "      <th>TCGA-49-4505-01A-01D-1265-08</th>\n",
              "      <th>TCGA-49-4506-01A-01D-1265-08</th>\n",
              "      <th>TCGA-49-4507-01A-01D-1265-08</th>\n",
              "      <th>TCGA-49-4510-01A-01D-1265-08</th>\n",
              "      <th>TCGA-49-4512-01A-21D-1855-08</th>\n",
              "      <th>TCGA-49-4514-01A-21D-1855-08</th>\n",
              "      <th>TCGA-49-6742-01A-11D-1855-08</th>\n",
              "      <th>TCGA-49-6744-01A-11D-1855-08</th>\n",
              "      <th>TCGA-49-6745-01A-11D-1855-08</th>\n",
              "      <th>TCGA-49-6761-01A-31D-1945-08</th>\n",
              "      <th>TCGA-49-6767-01A-11D-1855-08</th>\n",
              "      <th>TCGA-50-5044-01A-21D-1855-08</th>\n",
              "      <th>TCGA-50-5049-01A-01D-1625-08</th>\n",
              "      <th>TCGA-50-5051-01A-21D-1855-08</th>\n",
              "      <th>TCGA-50-5055-01A-01D-1625-08</th>\n",
              "      <th>TCGA-50-5068-01A-01D-1625-08</th>\n",
              "      <th>TCGA-50-5072-01A-21D-1855-08</th>\n",
              "      <th>TCGA-50-5931-01A-11D-1753-08</th>\n",
              "      <th>TCGA-50-5932-01A-11D-1753-08</th>\n",
              "      <th>TCGA-50-5933-01A-11D-1753-08</th>\n",
              "      <th>TCGA-50-5935-01A-11D-1753-08</th>\n",
              "      <th>TCGA-50-5936-01A-11D-1625-08</th>\n",
              "      <th>TCGA-50-5939-01A-11D-1625-08</th>\n",
              "      <th>TCGA-50-5941-01A-11D-1753-08</th>\n",
              "      <th>TCGA-50-5942-01A-21D-1753-08</th>\n",
              "      <th>TCGA-50-5944-01A-11D-1753-08</th>\n",
              "      <th>TCGA-50-6593-01A-11D-1753-08</th>\n",
              "      <th>TCGA-50-6595-01A-12D-1855-08</th>\n",
              "      <th>TCGA-50-6597-01A-11D-1855-08</th>\n",
              "      <th>TCGA-50-6673-01A-11D-1945-08</th>\n",
              "      <th>TCGA-50-7109-01A-11D-2036-08</th>\n",
              "      <th>TCGA-53-7626-01A-12D-2063-08</th>\n",
              "      <th>TCGA-53-7813-01A-11D-2167-08</th>\n",
              "      <th>TCGA-55-1592-01A-01D-0969-08</th>\n",
              "      <th>TCGA-55-1594-01A-01D-1040-01</th>\n",
              "      <th>TCGA-55-1596-01A-01D-1040-01</th>\n",
              "      <th>TCGA-55-6543-01A-11D-1753-08</th>\n",
              "      <th>TCGA-55-6642-01A-11D-1855-08</th>\n",
              "      <th>TCGA-55-6712-01A-11D-1855-08</th>\n",
              "      <th>TCGA-55-6970-01A-11D-1945-08</th>\n",
              "      <th>TCGA-55-6971-01A-11D-1945-08</th>\n",
              "      <th>TCGA-55-6972-01A-11D-1945-08</th>\n",
              "      <th>TCGA-55-6978-01A-11D-1945-08</th>\n",
              "      <th>TCGA-55-6979-01A-11D-1945-08</th>\n",
              "      <th>TCGA-55-6980-01A-11D-1945-08</th>\n",
              "      <th>TCGA-55-6981-01A-11D-1945-08</th>\n",
              "      <th>TCGA-55-6982-01A-11D-1945-08</th>\n",
              "      <th>TCGA-55-6983-01A-11D-1945-08</th>\n",
              "      <th>TCGA-55-6985-01A-11D-1945-08</th>\n",
              "      <th>TCGA-55-6986-01A-11D-1945-08</th>\n",
              "      <th>TCGA-55-7281-01A-11D-2036-08</th>\n",
              "      <th>TCGA-55-7283-01A-11D-2036-08</th>\n",
              "      <th>TCGA-55-7573-01A-11D-2036-08</th>\n",
              "      <th>TCGA-55-7574-01A-11D-2036-08</th>\n",
              "      <th>TCGA-55-7576-01A-11D-2063-08</th>\n",
              "      <th>TCGA-55-7724-01A-11D-2167-08</th>\n",
              "      <th>TCGA-55-7725-01A-11D-2167-08</th>\n",
              "      <th>TCGA-55-7726-01A-11D-2167-08</th>\n",
              "      <th>TCGA-55-7727-01A-11D-2167-08</th>\n",
              "      <th>TCGA-55-7728-01A-11D-2184-08</th>\n",
              "      <th>TCGA-55-7815-01A-11D-2167-08</th>\n",
              "      <th>TCGA-55-7903-01A-11D-2167-08</th>\n",
              "      <th>TCGA-55-7907-01A-11D-2167-08</th>\n",
              "      <th>TCGA-55-7911-01A-11D-2167-08</th>\n",
              "      <th>TCGA-55-7914-01A-11D-2167-08</th>\n",
              "      <th>TCGA-64-1676-01A-01D-0969-08</th>\n",
              "      <th>TCGA-64-1677-01A-01W-0928-08</th>\n",
              "      <th>TCGA-64-1678-01A-01W-0928-08</th>\n",
              "      <th>TCGA-64-1679-01A-21D-2063-08</th>\n",
              "      <th>TCGA-64-1680-01A-02D-0969-08</th>\n",
              "      <th>TCGA-64-1681-01A-11D-2063-08</th>\n",
              "      <th>TCGA-64-5774-01A-01D-1625-08</th>\n",
              "      <th>TCGA-64-5775-01A-01D-1625-08</th>\n",
              "      <th>TCGA-64-5778-01A-01D-1625-08</th>\n",
              "      <th>TCGA-64-5781-01A-01D-1625-08</th>\n",
              "      <th>TCGA-67-3771-01A-01D-1040-01</th>\n",
              "      <th>TCGA-67-3772-01A-01W-0928-08</th>\n",
              "      <th>TCGA-67-3773-01A-01D-1040-01</th>\n",
              "      <th>TCGA-67-3774-01A-01D-1040-01</th>\n",
              "      <th>TCGA-67-6215-01A-11D-1753-08</th>\n",
              "      <th>TCGA-67-6216-01A-11D-1753-08</th>\n",
              "      <th>TCGA-67-6217-01A-11D-1753-08</th>\n",
              "      <th>TCGA-69-7760-01A-11D-2167-08</th>\n",
              "      <th>TCGA-69-7761-01A-11D-2167-08</th>\n",
              "      <th>TCGA-69-7763-01A-11D-2167-08</th>\n",
              "      <th>TCGA-69-7764-01A-11D-2167-08</th>\n",
              "      <th>TCGA-69-7765-01A-11D-2167-08</th>\n",
              "      <th>TCGA-69-7980-01A-11D-2184-08</th>\n",
              "      <th>TCGA-71-6725-01A-11D-1855-08</th>\n",
              "      <th>TCGA-73-4658-01A-01D-1753-08</th>\n",
              "      <th>TCGA-73-4659-01A-01D-1265-08</th>\n",
              "      <th>TCGA-73-4662-01A-01D-1265-08</th>\n",
              "      <th>TCGA-73-4675-01A-01D-1265-08</th>\n",
              "      <th>TCGA-73-4676-01A-01D-1753-08</th>\n",
              "      <th>TCGA-73-7498-01A-12D-2184-08</th>\n",
              "      <th>TCGA-73-7499-01A-11D-2184-08</th>\n",
              "      <th>TCGA-75-5122-01A-01D-1753-08</th>\n",
              "      <th>TCGA-75-5126-01A-01D-1753-08</th>\n",
              "      <th>TCGA-75-5146-01A-01D-1625-08</th>\n",
              "      <th>TCGA-75-5147-01A-01D-1625-08</th>\n",
              "      <th>TCGA-75-6203-01A-11D-1753-08</th>\n",
              "      <th>TCGA-75-6205-01A-11D-1753-08</th>\n",
              "      <th>TCGA-75-6207-01A-11D-1753-08</th>\n",
              "      <th>TCGA-75-6211-01A-11D-1753-08</th>\n",
              "      <th>TCGA-75-6212-01A-11D-1753-08</th>\n",
              "      <th>TCGA-75-6214-01A-41D-1945-08</th>\n",
              "      <th>TCGA-75-7025-01A-12D-1945-08</th>\n",
              "      <th>TCGA-75-7027-01A-11D-1945-08</th>\n",
              "      <th>TCGA-75-7030-01A-11D-1945-08</th>\n",
              "      <th>TCGA-75-7031-01A-11D-1945-08</th>\n",
              "      <th>TCGA-78-7143-01A-11D-2036-08</th>\n",
              "      <th>TCGA-78-7145-01A-11D-2036-08</th>\n",
              "      <th>TCGA-78-7147-01A-11D-2036-08</th>\n",
              "      <th>TCGA-78-7148-01A-11D-2036-08</th>\n",
              "      <th>TCGA-78-7149-01A-11D-2036-08</th>\n",
              "      <th>TCGA-78-7150-01A-21D-2036-08</th>\n",
              "      <th>TCGA-78-7152-01A-11D-2036-08</th>\n",
              "      <th>TCGA-78-7153-01A-11D-2036-08</th>\n",
              "      <th>TCGA-78-7154-01A-11D-2036-08</th>\n",
              "      <th>TCGA-78-7155-01A-11D-2036-08</th>\n",
              "      <th>TCGA-78-7156-01A-11D-2036-08</th>\n",
              "      <th>TCGA-78-7158-01A-11D-2036-08</th>\n",
              "      <th>TCGA-78-7159-01A-11D-2036-08</th>\n",
              "      <th>TCGA-78-7160-01A-11D-2036-08</th>\n",
              "      <th>TCGA-78-7161-01A-11D-2036-08</th>\n",
              "      <th>TCGA-78-7162-01A-21D-2063-08</th>\n",
              "      <th>TCGA-78-7163-01A-12D-2063-08</th>\n",
              "      <th>TCGA-78-7166-01A-12D-2063-08</th>\n",
              "      <th>TCGA-78-7167-01A-11D-2063-08</th>\n",
              "      <th>TCGA-78-7535-01A-11D-2063-08</th>\n",
              "      <th>TCGA-78-7536-01A-11D-2063-08</th>\n",
              "      <th>TCGA-78-7537-01A-11D-2063-08</th>\n",
              "      <th>TCGA-78-7539-01A-11D-2063-08</th>\n",
              "      <th>TCGA-78-7540-01A-11D-2063-08</th>\n",
              "      <th>TCGA-78-7542-01A-21D-2063-08</th>\n",
              "      <th>TCGA-78-7633-01A-11D-2063-08</th>\n",
              "      <th>TCGA-80-5607-01A-31D-1945-08</th>\n",
              "      <th>TCGA-80-5608-01A-31D-1945-08</th>\n",
              "      <th>TCGA-86-6562-01A-11D-1753-08</th>\n",
              "      <th>TCGA-86-6851-01A-11D-1945-08</th>\n",
              "      <th>TCGA-86-7713-01A-11D-2063-08</th>\n",
              "      <th>TCGA-86-7714-01A-12D-2167-08</th>\n",
              "      <th>TCGA-91-6828-01A-11D-1855-08</th>\n",
              "      <th>TCGA-91-6829-01A-21D-1855-08</th>\n",
              "      <th>TCGA-91-6835-01A-11D-1855-08</th>\n",
              "      <th>TCGA-91-6840-01A-11D-1945-08</th>\n",
              "      <th>TCGA-91-6847-01A-11D-1945-08</th>\n",
              "      <th>TCGA-91-6849-01A-11D-1945-08</th>\n",
              "      <th>TCGA-91-7771-01A-11D-2167-08</th>\n",
              "      <th>TCGA-93-7347-01A-11D-2184-08</th>\n",
              "      <th>TCGA-93-7348-01A-21D-2036-08</th>\n",
              "      <th>TCGA-95-7039-01A-11D-1945-08</th>\n",
              "      <th>TCGA-95-7043-01A-11D-1945-08</th>\n",
              "      <th>TCGA-95-7567-01A-11D-2063-08</th>\n",
              "      <th>TCGA-95-7947-01A-11D-2184-08</th>\n",
              "      <th>TCGA-95-7948-01A-11D-2184-08</th>\n",
              "      <th>TCGA-97-7546-01A-11D-2036-08</th>\n",
              "      <th>TCGA-97-7552-01A-11D-2036-08</th>\n",
              "      <th>TCGA-97-7553-01A-21D-2036-08</th>\n",
              "      <th>TCGA-97-7554-01A-11D-2036-08</th>\n",
              "      <th>TCGA-97-7937-01A-11D-2167-08</th>\n",
              "      <th>TCGA-97-7938-01A-11D-2167-08</th>\n",
              "      <th>TCGA-97-7941-01A-11D-2184-08</th>\n",
              "      <th>TCGA-99-7458-01A-11D-2036-08</th>\n",
              "    </tr>\n",
              "  </thead>\n",
              "  <tbody>\n",
              "    <tr>\n",
              "      <th>PLEKHN1</th>\n",
              "      <td>1.0</td>\n",
              "      <td>0.0</td>\n",
              "      <td>0.0</td>\n",
              "      <td>0.0</td>\n",
              "      <td>0.0</td>\n",
              "      <td>0.0</td>\n",
              "      <td>0.0</td>\n",
              "      <td>0.0</td>\n",
              "      <td>0.0</td>\n",
              "      <td>0.0</td>\n",
              "      <td>0.0</td>\n",
              "      <td>0.0</td>\n",
              "      <td>0.0</td>\n",
              "      <td>0.0</td>\n",
              "      <td>0.0</td>\n",
              "      <td>0.0</td>\n",
              "      <td>0.0</td>\n",
              "      <td>0.0</td>\n",
              "      <td>0.0</td>\n",
              "      <td>0.0</td>\n",
              "      <td>0.0</td>\n",
              "      <td>0.0</td>\n",
              "      <td>0.0</td>\n",
              "      <td>0.0</td>\n",
              "      <td>0.0</td>\n",
              "      <td>0.0</td>\n",
              "      <td>0.0</td>\n",
              "      <td>0.0</td>\n",
              "      <td>0.0</td>\n",
              "      <td>0.0</td>\n",
              "      <td>0.0</td>\n",
              "      <td>0.0</td>\n",
              "      <td>0.0</td>\n",
              "      <td>0.0</td>\n",
              "      <td>0.0</td>\n",
              "      <td>0.0</td>\n",
              "      <td>0.0</td>\n",
              "      <td>0.0</td>\n",
              "      <td>0.0</td>\n",
              "      <td>0.0</td>\n",
              "      <td>0.0</td>\n",
              "      <td>0.0</td>\n",
              "      <td>0.0</td>\n",
              "      <td>0.0</td>\n",
              "      <td>0.0</td>\n",
              "      <td>0.0</td>\n",
              "      <td>0.0</td>\n",
              "      <td>0.0</td>\n",
              "      <td>0.0</td>\n",
              "      <td>0.0</td>\n",
              "      <td>0.0</td>\n",
              "      <td>0.0</td>\n",
              "      <td>0.0</td>\n",
              "      <td>0.0</td>\n",
              "      <td>0.0</td>\n",
              "      <td>0.0</td>\n",
              "      <td>0.0</td>\n",
              "      <td>0.0</td>\n",
              "      <td>0.0</td>\n",
              "      <td>0.0</td>\n",
              "      <td>0.0</td>\n",
              "      <td>0.0</td>\n",
              "      <td>0.0</td>\n",
              "      <td>0.0</td>\n",
              "      <td>0.0</td>\n",
              "      <td>0.0</td>\n",
              "      <td>0.0</td>\n",
              "      <td>0.0</td>\n",
              "      <td>0.0</td>\n",
              "      <td>0.0</td>\n",
              "      <td>0.0</td>\n",
              "      <td>0.0</td>\n",
              "      <td>0.0</td>\n",
              "      <td>0.0</td>\n",
              "      <td>0.0</td>\n",
              "      <td>0.0</td>\n",
              "      <td>0.0</td>\n",
              "      <td>0.0</td>\n",
              "      <td>0.0</td>\n",
              "      <td>0.0</td>\n",
              "      <td>0.0</td>\n",
              "      <td>0.0</td>\n",
              "      <td>0.0</td>\n",
              "      <td>0.0</td>\n",
              "      <td>0.0</td>\n",
              "      <td>0.0</td>\n",
              "      <td>0.0</td>\n",
              "      <td>0.0</td>\n",
              "      <td>0.0</td>\n",
              "      <td>0.0</td>\n",
              "      <td>0.0</td>\n",
              "      <td>0.0</td>\n",
              "      <td>0.0</td>\n",
              "      <td>0.0</td>\n",
              "      <td>0.0</td>\n",
              "      <td>0.0</td>\n",
              "      <td>0.0</td>\n",
              "      <td>0.0</td>\n",
              "      <td>0.0</td>\n",
              "      <td>0.0</td>\n",
              "      <td>0.0</td>\n",
              "      <td>0.0</td>\n",
              "      <td>0.0</td>\n",
              "      <td>0.0</td>\n",
              "      <td>0.0</td>\n",
              "      <td>0.0</td>\n",
              "      <td>0.0</td>\n",
              "      <td>0.0</td>\n",
              "      <td>0.0</td>\n",
              "      <td>0.0</td>\n",
              "      <td>0.0</td>\n",
              "      <td>0.0</td>\n",
              "      <td>0.0</td>\n",
              "      <td>0.0</td>\n",
              "      <td>0.0</td>\n",
              "      <td>0.0</td>\n",
              "      <td>0.0</td>\n",
              "      <td>0.0</td>\n",
              "      <td>0.0</td>\n",
              "      <td>0.0</td>\n",
              "      <td>0.0</td>\n",
              "      <td>0.0</td>\n",
              "      <td>0.0</td>\n",
              "      <td>0.0</td>\n",
              "      <td>0.0</td>\n",
              "      <td>0.0</td>\n",
              "      <td>0.0</td>\n",
              "      <td>0.0</td>\n",
              "      <td>0.0</td>\n",
              "      <td>0.0</td>\n",
              "      <td>0.0</td>\n",
              "      <td>0.0</td>\n",
              "      <td>0.0</td>\n",
              "      <td>0.0</td>\n",
              "      <td>0.0</td>\n",
              "      <td>0.0</td>\n",
              "      <td>0.0</td>\n",
              "      <td>0.0</td>\n",
              "      <td>0.0</td>\n",
              "      <td>0.0</td>\n",
              "      <td>0.0</td>\n",
              "      <td>0.0</td>\n",
              "      <td>0.0</td>\n",
              "      <td>0.0</td>\n",
              "      <td>0.0</td>\n",
              "      <td>0.0</td>\n",
              "      <td>0.0</td>\n",
              "      <td>0.0</td>\n",
              "      <td>0.0</td>\n",
              "      <td>0.0</td>\n",
              "      <td>0.0</td>\n",
              "      <td>0.0</td>\n",
              "      <td>0.0</td>\n",
              "      <td>0.0</td>\n",
              "      <td>0.0</td>\n",
              "      <td>0.0</td>\n",
              "      <td>0.0</td>\n",
              "      <td>0.0</td>\n",
              "      <td>0.0</td>\n",
              "      <td>0.0</td>\n",
              "      <td>0.0</td>\n",
              "      <td>0.0</td>\n",
              "      <td>0.0</td>\n",
              "      <td>0.0</td>\n",
              "      <td>0.0</td>\n",
              "      <td>0.0</td>\n",
              "      <td>0.0</td>\n",
              "      <td>0.0</td>\n",
              "      <td>0.0</td>\n",
              "      <td>0.0</td>\n",
              "      <td>0.0</td>\n",
              "      <td>0.0</td>\n",
              "      <td>0.0</td>\n",
              "      <td>0.0</td>\n",
              "      <td>0.0</td>\n",
              "      <td>0.0</td>\n",
              "      <td>0.0</td>\n",
              "      <td>0.0</td>\n",
              "      <td>0.0</td>\n",
              "      <td>0.0</td>\n",
              "      <td>0.0</td>\n",
              "      <td>0.0</td>\n",
              "      <td>0.0</td>\n",
              "      <td>0.0</td>\n",
              "      <td>0.0</td>\n",
              "      <td>0.0</td>\n",
              "      <td>0.0</td>\n",
              "      <td>0.0</td>\n",
              "      <td>0.0</td>\n",
              "      <td>0.0</td>\n",
              "      <td>0.0</td>\n",
              "      <td>0.0</td>\n",
              "      <td>0.0</td>\n",
              "      <td>0.0</td>\n",
              "      <td>0.0</td>\n",
              "      <td>0.0</td>\n",
              "      <td>0.0</td>\n",
              "      <td>0.0</td>\n",
              "      <td>0.0</td>\n",
              "      <td>0.0</td>\n",
              "      <td>0.0</td>\n",
              "      <td>0.0</td>\n",
              "      <td>0.0</td>\n",
              "      <td>0.0</td>\n",
              "      <td>0.0</td>\n",
              "      <td>0.0</td>\n",
              "      <td>0.0</td>\n",
              "      <td>0.0</td>\n",
              "      <td>0.0</td>\n",
              "      <td>0.0</td>\n",
              "      <td>0.0</td>\n",
              "      <td>0.0</td>\n",
              "      <td>0.0</td>\n",
              "      <td>0.0</td>\n",
              "      <td>0.0</td>\n",
              "      <td>0.0</td>\n",
              "      <td>0.0</td>\n",
              "      <td>0.0</td>\n",
              "      <td>0.0</td>\n",
              "      <td>0.0</td>\n",
              "      <td>0.0</td>\n",
              "      <td>0.0</td>\n",
              "      <td>0.0</td>\n",
              "      <td>0.0</td>\n",
              "      <td>0.0</td>\n",
              "      <td>0.0</td>\n",
              "      <td>0.0</td>\n",
              "      <td>0.0</td>\n",
              "      <td>0.0</td>\n",
              "      <td>0.0</td>\n",
              "    </tr>\n",
              "    <tr>\n",
              "      <th>C1orf200</th>\n",
              "      <td>1.0</td>\n",
              "      <td>0.0</td>\n",
              "      <td>0.0</td>\n",
              "      <td>0.0</td>\n",
              "      <td>0.0</td>\n",
              "      <td>0.0</td>\n",
              "      <td>0.0</td>\n",
              "      <td>0.0</td>\n",
              "      <td>0.0</td>\n",
              "      <td>0.0</td>\n",
              "      <td>0.0</td>\n",
              "      <td>0.0</td>\n",
              "      <td>0.0</td>\n",
              "      <td>0.0</td>\n",
              "      <td>0.0</td>\n",
              "      <td>0.0</td>\n",
              "      <td>0.0</td>\n",
              "      <td>0.0</td>\n",
              "      <td>0.0</td>\n",
              "      <td>0.0</td>\n",
              "      <td>0.0</td>\n",
              "      <td>0.0</td>\n",
              "      <td>0.0</td>\n",
              "      <td>0.0</td>\n",
              "      <td>0.0</td>\n",
              "      <td>0.0</td>\n",
              "      <td>0.0</td>\n",
              "      <td>0.0</td>\n",
              "      <td>0.0</td>\n",
              "      <td>0.0</td>\n",
              "      <td>0.0</td>\n",
              "      <td>0.0</td>\n",
              "      <td>0.0</td>\n",
              "      <td>0.0</td>\n",
              "      <td>0.0</td>\n",
              "      <td>0.0</td>\n",
              "      <td>0.0</td>\n",
              "      <td>0.0</td>\n",
              "      <td>0.0</td>\n",
              "      <td>0.0</td>\n",
              "      <td>0.0</td>\n",
              "      <td>0.0</td>\n",
              "      <td>0.0</td>\n",
              "      <td>0.0</td>\n",
              "      <td>0.0</td>\n",
              "      <td>0.0</td>\n",
              "      <td>0.0</td>\n",
              "      <td>0.0</td>\n",
              "      <td>0.0</td>\n",
              "      <td>0.0</td>\n",
              "      <td>0.0</td>\n",
              "      <td>0.0</td>\n",
              "      <td>0.0</td>\n",
              "      <td>0.0</td>\n",
              "      <td>0.0</td>\n",
              "      <td>0.0</td>\n",
              "      <td>0.0</td>\n",
              "      <td>0.0</td>\n",
              "      <td>0.0</td>\n",
              "      <td>0.0</td>\n",
              "      <td>0.0</td>\n",
              "      <td>0.0</td>\n",
              "      <td>0.0</td>\n",
              "      <td>0.0</td>\n",
              "      <td>0.0</td>\n",
              "      <td>0.0</td>\n",
              "      <td>0.0</td>\n",
              "      <td>0.0</td>\n",
              "      <td>0.0</td>\n",
              "      <td>0.0</td>\n",
              "      <td>0.0</td>\n",
              "      <td>0.0</td>\n",
              "      <td>0.0</td>\n",
              "      <td>0.0</td>\n",
              "      <td>0.0</td>\n",
              "      <td>0.0</td>\n",
              "      <td>0.0</td>\n",
              "      <td>0.0</td>\n",
              "      <td>0.0</td>\n",
              "      <td>0.0</td>\n",
              "      <td>0.0</td>\n",
              "      <td>0.0</td>\n",
              "      <td>0.0</td>\n",
              "      <td>0.0</td>\n",
              "      <td>0.0</td>\n",
              "      <td>0.0</td>\n",
              "      <td>0.0</td>\n",
              "      <td>0.0</td>\n",
              "      <td>0.0</td>\n",
              "      <td>0.0</td>\n",
              "      <td>0.0</td>\n",
              "      <td>0.0</td>\n",
              "      <td>0.0</td>\n",
              "      <td>0.0</td>\n",
              "      <td>0.0</td>\n",
              "      <td>0.0</td>\n",
              "      <td>0.0</td>\n",
              "      <td>0.0</td>\n",
              "      <td>0.0</td>\n",
              "      <td>0.0</td>\n",
              "      <td>0.0</td>\n",
              "      <td>0.0</td>\n",
              "      <td>0.0</td>\n",
              "      <td>0.0</td>\n",
              "      <td>0.0</td>\n",
              "      <td>0.0</td>\n",
              "      <td>0.0</td>\n",
              "      <td>0.0</td>\n",
              "      <td>0.0</td>\n",
              "      <td>0.0</td>\n",
              "      <td>0.0</td>\n",
              "      <td>0.0</td>\n",
              "      <td>0.0</td>\n",
              "      <td>0.0</td>\n",
              "      <td>0.0</td>\n",
              "      <td>0.0</td>\n",
              "      <td>0.0</td>\n",
              "      <td>0.0</td>\n",
              "      <td>0.0</td>\n",
              "      <td>0.0</td>\n",
              "      <td>0.0</td>\n",
              "      <td>0.0</td>\n",
              "      <td>0.0</td>\n",
              "      <td>0.0</td>\n",
              "      <td>0.0</td>\n",
              "      <td>0.0</td>\n",
              "      <td>0.0</td>\n",
              "      <td>0.0</td>\n",
              "      <td>0.0</td>\n",
              "      <td>0.0</td>\n",
              "      <td>0.0</td>\n",
              "      <td>0.0</td>\n",
              "      <td>0.0</td>\n",
              "      <td>0.0</td>\n",
              "      <td>0.0</td>\n",
              "      <td>0.0</td>\n",
              "      <td>0.0</td>\n",
              "      <td>0.0</td>\n",
              "      <td>0.0</td>\n",
              "      <td>0.0</td>\n",
              "      <td>0.0</td>\n",
              "      <td>0.0</td>\n",
              "      <td>0.0</td>\n",
              "      <td>0.0</td>\n",
              "      <td>0.0</td>\n",
              "      <td>0.0</td>\n",
              "      <td>0.0</td>\n",
              "      <td>0.0</td>\n",
              "      <td>0.0</td>\n",
              "      <td>0.0</td>\n",
              "      <td>0.0</td>\n",
              "      <td>0.0</td>\n",
              "      <td>0.0</td>\n",
              "      <td>0.0</td>\n",
              "      <td>0.0</td>\n",
              "      <td>0.0</td>\n",
              "      <td>0.0</td>\n",
              "      <td>0.0</td>\n",
              "      <td>0.0</td>\n",
              "      <td>0.0</td>\n",
              "      <td>0.0</td>\n",
              "      <td>0.0</td>\n",
              "      <td>0.0</td>\n",
              "      <td>0.0</td>\n",
              "      <td>0.0</td>\n",
              "      <td>0.0</td>\n",
              "      <td>0.0</td>\n",
              "      <td>0.0</td>\n",
              "      <td>0.0</td>\n",
              "      <td>0.0</td>\n",
              "      <td>0.0</td>\n",
              "      <td>0.0</td>\n",
              "      <td>0.0</td>\n",
              "      <td>0.0</td>\n",
              "      <td>0.0</td>\n",
              "      <td>0.0</td>\n",
              "      <td>0.0</td>\n",
              "      <td>0.0</td>\n",
              "      <td>0.0</td>\n",
              "      <td>0.0</td>\n",
              "      <td>0.0</td>\n",
              "      <td>0.0</td>\n",
              "      <td>0.0</td>\n",
              "      <td>0.0</td>\n",
              "      <td>0.0</td>\n",
              "      <td>0.0</td>\n",
              "      <td>0.0</td>\n",
              "      <td>0.0</td>\n",
              "      <td>0.0</td>\n",
              "      <td>0.0</td>\n",
              "      <td>0.0</td>\n",
              "      <td>0.0</td>\n",
              "      <td>0.0</td>\n",
              "      <td>0.0</td>\n",
              "      <td>0.0</td>\n",
              "      <td>0.0</td>\n",
              "      <td>0.0</td>\n",
              "      <td>0.0</td>\n",
              "      <td>0.0</td>\n",
              "      <td>0.0</td>\n",
              "      <td>0.0</td>\n",
              "      <td>0.0</td>\n",
              "      <td>0.0</td>\n",
              "      <td>0.0</td>\n",
              "      <td>0.0</td>\n",
              "      <td>0.0</td>\n",
              "      <td>0.0</td>\n",
              "      <td>0.0</td>\n",
              "      <td>0.0</td>\n",
              "      <td>0.0</td>\n",
              "      <td>0.0</td>\n",
              "      <td>0.0</td>\n",
              "      <td>0.0</td>\n",
              "      <td>0.0</td>\n",
              "      <td>0.0</td>\n",
              "      <td>0.0</td>\n",
              "      <td>0.0</td>\n",
              "      <td>0.0</td>\n",
              "      <td>0.0</td>\n",
              "      <td>0.0</td>\n",
              "      <td>0.0</td>\n",
              "      <td>0.0</td>\n",
              "      <td>0.0</td>\n",
              "      <td>0.0</td>\n",
              "      <td>0.0</td>\n",
              "      <td>0.0</td>\n",
              "      <td>0.0</td>\n",
              "      <td>0.0</td>\n",
              "      <td>0.0</td>\n",
              "      <td>0.0</td>\n",
              "    </tr>\n",
              "    <tr>\n",
              "      <th>LOC649330</th>\n",
              "      <td>1.0</td>\n",
              "      <td>0.0</td>\n",
              "      <td>0.0</td>\n",
              "      <td>0.0</td>\n",
              "      <td>1.0</td>\n",
              "      <td>0.0</td>\n",
              "      <td>0.0</td>\n",
              "      <td>0.0</td>\n",
              "      <td>0.0</td>\n",
              "      <td>0.0</td>\n",
              "      <td>0.0</td>\n",
              "      <td>0.0</td>\n",
              "      <td>0.0</td>\n",
              "      <td>0.0</td>\n",
              "      <td>0.0</td>\n",
              "      <td>0.0</td>\n",
              "      <td>0.0</td>\n",
              "      <td>0.0</td>\n",
              "      <td>0.0</td>\n",
              "      <td>0.0</td>\n",
              "      <td>0.0</td>\n",
              "      <td>0.0</td>\n",
              "      <td>0.0</td>\n",
              "      <td>0.0</td>\n",
              "      <td>0.0</td>\n",
              "      <td>0.0</td>\n",
              "      <td>0.0</td>\n",
              "      <td>0.0</td>\n",
              "      <td>0.0</td>\n",
              "      <td>0.0</td>\n",
              "      <td>0.0</td>\n",
              "      <td>0.0</td>\n",
              "      <td>0.0</td>\n",
              "      <td>0.0</td>\n",
              "      <td>0.0</td>\n",
              "      <td>0.0</td>\n",
              "      <td>0.0</td>\n",
              "      <td>0.0</td>\n",
              "      <td>0.0</td>\n",
              "      <td>0.0</td>\n",
              "      <td>0.0</td>\n",
              "      <td>0.0</td>\n",
              "      <td>0.0</td>\n",
              "      <td>0.0</td>\n",
              "      <td>0.0</td>\n",
              "      <td>0.0</td>\n",
              "      <td>0.0</td>\n",
              "      <td>0.0</td>\n",
              "      <td>0.0</td>\n",
              "      <td>0.0</td>\n",
              "      <td>0.0</td>\n",
              "      <td>0.0</td>\n",
              "      <td>0.0</td>\n",
              "      <td>0.0</td>\n",
              "      <td>0.0</td>\n",
              "      <td>0.0</td>\n",
              "      <td>0.0</td>\n",
              "      <td>0.0</td>\n",
              "      <td>0.0</td>\n",
              "      <td>0.0</td>\n",
              "      <td>0.0</td>\n",
              "      <td>0.0</td>\n",
              "      <td>0.0</td>\n",
              "      <td>0.0</td>\n",
              "      <td>0.0</td>\n",
              "      <td>0.0</td>\n",
              "      <td>0.0</td>\n",
              "      <td>0.0</td>\n",
              "      <td>0.0</td>\n",
              "      <td>0.0</td>\n",
              "      <td>0.0</td>\n",
              "      <td>0.0</td>\n",
              "      <td>0.0</td>\n",
              "      <td>0.0</td>\n",
              "      <td>0.0</td>\n",
              "      <td>0.0</td>\n",
              "      <td>0.0</td>\n",
              "      <td>0.0</td>\n",
              "      <td>0.0</td>\n",
              "      <td>0.0</td>\n",
              "      <td>0.0</td>\n",
              "      <td>1.0</td>\n",
              "      <td>0.0</td>\n",
              "      <td>0.0</td>\n",
              "      <td>0.0</td>\n",
              "      <td>0.0</td>\n",
              "      <td>0.0</td>\n",
              "      <td>0.0</td>\n",
              "      <td>0.0</td>\n",
              "      <td>0.0</td>\n",
              "      <td>0.0</td>\n",
              "      <td>0.0</td>\n",
              "      <td>0.0</td>\n",
              "      <td>0.0</td>\n",
              "      <td>0.0</td>\n",
              "      <td>0.0</td>\n",
              "      <td>0.0</td>\n",
              "      <td>0.0</td>\n",
              "      <td>0.0</td>\n",
              "      <td>0.0</td>\n",
              "      <td>0.0</td>\n",
              "      <td>0.0</td>\n",
              "      <td>0.0</td>\n",
              "      <td>0.0</td>\n",
              "      <td>0.0</td>\n",
              "      <td>0.0</td>\n",
              "      <td>0.0</td>\n",
              "      <td>0.0</td>\n",
              "      <td>0.0</td>\n",
              "      <td>0.0</td>\n",
              "      <td>0.0</td>\n",
              "      <td>0.0</td>\n",
              "      <td>0.0</td>\n",
              "      <td>0.0</td>\n",
              "      <td>0.0</td>\n",
              "      <td>0.0</td>\n",
              "      <td>0.0</td>\n",
              "      <td>0.0</td>\n",
              "      <td>0.0</td>\n",
              "      <td>0.0</td>\n",
              "      <td>0.0</td>\n",
              "      <td>0.0</td>\n",
              "      <td>0.0</td>\n",
              "      <td>0.0</td>\n",
              "      <td>0.0</td>\n",
              "      <td>0.0</td>\n",
              "      <td>0.0</td>\n",
              "      <td>0.0</td>\n",
              "      <td>0.0</td>\n",
              "      <td>0.0</td>\n",
              "      <td>0.0</td>\n",
              "      <td>0.0</td>\n",
              "      <td>0.0</td>\n",
              "      <td>0.0</td>\n",
              "      <td>0.0</td>\n",
              "      <td>0.0</td>\n",
              "      <td>0.0</td>\n",
              "      <td>0.0</td>\n",
              "      <td>0.0</td>\n",
              "      <td>0.0</td>\n",
              "      <td>0.0</td>\n",
              "      <td>0.0</td>\n",
              "      <td>0.0</td>\n",
              "      <td>0.0</td>\n",
              "      <td>0.0</td>\n",
              "      <td>0.0</td>\n",
              "      <td>0.0</td>\n",
              "      <td>0.0</td>\n",
              "      <td>0.0</td>\n",
              "      <td>0.0</td>\n",
              "      <td>0.0</td>\n",
              "      <td>0.0</td>\n",
              "      <td>0.0</td>\n",
              "      <td>0.0</td>\n",
              "      <td>0.0</td>\n",
              "      <td>0.0</td>\n",
              "      <td>0.0</td>\n",
              "      <td>0.0</td>\n",
              "      <td>0.0</td>\n",
              "      <td>0.0</td>\n",
              "      <td>0.0</td>\n",
              "      <td>0.0</td>\n",
              "      <td>0.0</td>\n",
              "      <td>0.0</td>\n",
              "      <td>0.0</td>\n",
              "      <td>0.0</td>\n",
              "      <td>0.0</td>\n",
              "      <td>0.0</td>\n",
              "      <td>0.0</td>\n",
              "      <td>0.0</td>\n",
              "      <td>0.0</td>\n",
              "      <td>0.0</td>\n",
              "      <td>0.0</td>\n",
              "      <td>0.0</td>\n",
              "      <td>0.0</td>\n",
              "      <td>0.0</td>\n",
              "      <td>0.0</td>\n",
              "      <td>0.0</td>\n",
              "      <td>0.0</td>\n",
              "      <td>0.0</td>\n",
              "      <td>0.0</td>\n",
              "      <td>0.0</td>\n",
              "      <td>0.0</td>\n",
              "      <td>0.0</td>\n",
              "      <td>0.0</td>\n",
              "      <td>1.0</td>\n",
              "      <td>0.0</td>\n",
              "      <td>0.0</td>\n",
              "      <td>0.0</td>\n",
              "      <td>0.0</td>\n",
              "      <td>0.0</td>\n",
              "      <td>0.0</td>\n",
              "      <td>0.0</td>\n",
              "      <td>0.0</td>\n",
              "      <td>0.0</td>\n",
              "      <td>0.0</td>\n",
              "      <td>0.0</td>\n",
              "      <td>0.0</td>\n",
              "      <td>0.0</td>\n",
              "      <td>0.0</td>\n",
              "      <td>0.0</td>\n",
              "      <td>0.0</td>\n",
              "      <td>0.0</td>\n",
              "      <td>0.0</td>\n",
              "      <td>0.0</td>\n",
              "      <td>0.0</td>\n",
              "      <td>0.0</td>\n",
              "      <td>0.0</td>\n",
              "      <td>0.0</td>\n",
              "      <td>0.0</td>\n",
              "      <td>0.0</td>\n",
              "      <td>0.0</td>\n",
              "      <td>0.0</td>\n",
              "      <td>0.0</td>\n",
              "      <td>0.0</td>\n",
              "      <td>0.0</td>\n",
              "      <td>0.0</td>\n",
              "      <td>0.0</td>\n",
              "      <td>0.0</td>\n",
              "      <td>0.0</td>\n",
              "      <td>0.0</td>\n",
              "      <td>0.0</td>\n",
              "      <td>0.0</td>\n",
              "      <td>0.0</td>\n",
              "      <td>0.0</td>\n",
              "      <td>0.0</td>\n",
              "      <td>0.0</td>\n",
              "      <td>1.0</td>\n",
              "      <td>0.0</td>\n",
              "      <td>0.0</td>\n",
              "    </tr>\n",
              "    <tr>\n",
              "      <th>CROCC</th>\n",
              "      <td>1.0</td>\n",
              "      <td>0.0</td>\n",
              "      <td>0.0</td>\n",
              "      <td>0.0</td>\n",
              "      <td>0.0</td>\n",
              "      <td>0.0</td>\n",
              "      <td>0.0</td>\n",
              "      <td>0.0</td>\n",
              "      <td>0.0</td>\n",
              "      <td>0.0</td>\n",
              "      <td>0.0</td>\n",
              "      <td>0.0</td>\n",
              "      <td>0.0</td>\n",
              "      <td>1.0</td>\n",
              "      <td>0.0</td>\n",
              "      <td>0.0</td>\n",
              "      <td>0.0</td>\n",
              "      <td>0.0</td>\n",
              "      <td>0.0</td>\n",
              "      <td>0.0</td>\n",
              "      <td>0.0</td>\n",
              "      <td>1.0</td>\n",
              "      <td>0.0</td>\n",
              "      <td>0.0</td>\n",
              "      <td>1.0</td>\n",
              "      <td>0.0</td>\n",
              "      <td>0.0</td>\n",
              "      <td>0.0</td>\n",
              "      <td>0.0</td>\n",
              "      <td>0.0</td>\n",
              "      <td>0.0</td>\n",
              "      <td>0.0</td>\n",
              "      <td>0.0</td>\n",
              "      <td>0.0</td>\n",
              "      <td>0.0</td>\n",
              "      <td>0.0</td>\n",
              "      <td>0.0</td>\n",
              "      <td>0.0</td>\n",
              "      <td>0.0</td>\n",
              "      <td>0.0</td>\n",
              "      <td>0.0</td>\n",
              "      <td>0.0</td>\n",
              "      <td>0.0</td>\n",
              "      <td>0.0</td>\n",
              "      <td>0.0</td>\n",
              "      <td>0.0</td>\n",
              "      <td>0.0</td>\n",
              "      <td>0.0</td>\n",
              "      <td>0.0</td>\n",
              "      <td>0.0</td>\n",
              "      <td>0.0</td>\n",
              "      <td>0.0</td>\n",
              "      <td>0.0</td>\n",
              "      <td>0.0</td>\n",
              "      <td>0.0</td>\n",
              "      <td>0.0</td>\n",
              "      <td>0.0</td>\n",
              "      <td>0.0</td>\n",
              "      <td>0.0</td>\n",
              "      <td>0.0</td>\n",
              "      <td>0.0</td>\n",
              "      <td>0.0</td>\n",
              "      <td>0.0</td>\n",
              "      <td>0.0</td>\n",
              "      <td>0.0</td>\n",
              "      <td>0.0</td>\n",
              "      <td>0.0</td>\n",
              "      <td>0.0</td>\n",
              "      <td>0.0</td>\n",
              "      <td>0.0</td>\n",
              "      <td>0.0</td>\n",
              "      <td>0.0</td>\n",
              "      <td>0.0</td>\n",
              "      <td>0.0</td>\n",
              "      <td>0.0</td>\n",
              "      <td>0.0</td>\n",
              "      <td>0.0</td>\n",
              "      <td>0.0</td>\n",
              "      <td>0.0</td>\n",
              "      <td>0.0</td>\n",
              "      <td>0.0</td>\n",
              "      <td>0.0</td>\n",
              "      <td>0.0</td>\n",
              "      <td>0.0</td>\n",
              "      <td>0.0</td>\n",
              "      <td>0.0</td>\n",
              "      <td>0.0</td>\n",
              "      <td>0.0</td>\n",
              "      <td>0.0</td>\n",
              "      <td>0.0</td>\n",
              "      <td>0.0</td>\n",
              "      <td>0.0</td>\n",
              "      <td>0.0</td>\n",
              "      <td>0.0</td>\n",
              "      <td>0.0</td>\n",
              "      <td>0.0</td>\n",
              "      <td>0.0</td>\n",
              "      <td>0.0</td>\n",
              "      <td>0.0</td>\n",
              "      <td>0.0</td>\n",
              "      <td>0.0</td>\n",
              "      <td>0.0</td>\n",
              "      <td>0.0</td>\n",
              "      <td>0.0</td>\n",
              "      <td>0.0</td>\n",
              "      <td>0.0</td>\n",
              "      <td>0.0</td>\n",
              "      <td>0.0</td>\n",
              "      <td>0.0</td>\n",
              "      <td>0.0</td>\n",
              "      <td>0.0</td>\n",
              "      <td>0.0</td>\n",
              "      <td>0.0</td>\n",
              "      <td>0.0</td>\n",
              "      <td>0.0</td>\n",
              "      <td>0.0</td>\n",
              "      <td>0.0</td>\n",
              "      <td>0.0</td>\n",
              "      <td>0.0</td>\n",
              "      <td>0.0</td>\n",
              "      <td>0.0</td>\n",
              "      <td>0.0</td>\n",
              "      <td>0.0</td>\n",
              "      <td>0.0</td>\n",
              "      <td>0.0</td>\n",
              "      <td>0.0</td>\n",
              "      <td>0.0</td>\n",
              "      <td>0.0</td>\n",
              "      <td>0.0</td>\n",
              "      <td>0.0</td>\n",
              "      <td>0.0</td>\n",
              "      <td>0.0</td>\n",
              "      <td>0.0</td>\n",
              "      <td>0.0</td>\n",
              "      <td>0.0</td>\n",
              "      <td>0.0</td>\n",
              "      <td>0.0</td>\n",
              "      <td>0.0</td>\n",
              "      <td>0.0</td>\n",
              "      <td>0.0</td>\n",
              "      <td>0.0</td>\n",
              "      <td>0.0</td>\n",
              "      <td>0.0</td>\n",
              "      <td>0.0</td>\n",
              "      <td>0.0</td>\n",
              "      <td>0.0</td>\n",
              "      <td>0.0</td>\n",
              "      <td>0.0</td>\n",
              "      <td>0.0</td>\n",
              "      <td>0.0</td>\n",
              "      <td>0.0</td>\n",
              "      <td>0.0</td>\n",
              "      <td>0.0</td>\n",
              "      <td>0.0</td>\n",
              "      <td>0.0</td>\n",
              "      <td>0.0</td>\n",
              "      <td>0.0</td>\n",
              "      <td>1.0</td>\n",
              "      <td>0.0</td>\n",
              "      <td>0.0</td>\n",
              "      <td>0.0</td>\n",
              "      <td>0.0</td>\n",
              "      <td>0.0</td>\n",
              "      <td>0.0</td>\n",
              "      <td>0.0</td>\n",
              "      <td>0.0</td>\n",
              "      <td>0.0</td>\n",
              "      <td>0.0</td>\n",
              "      <td>0.0</td>\n",
              "      <td>0.0</td>\n",
              "      <td>0.0</td>\n",
              "      <td>0.0</td>\n",
              "      <td>0.0</td>\n",
              "      <td>0.0</td>\n",
              "      <td>0.0</td>\n",
              "      <td>0.0</td>\n",
              "      <td>0.0</td>\n",
              "      <td>0.0</td>\n",
              "      <td>0.0</td>\n",
              "      <td>0.0</td>\n",
              "      <td>0.0</td>\n",
              "      <td>0.0</td>\n",
              "      <td>0.0</td>\n",
              "      <td>0.0</td>\n",
              "      <td>0.0</td>\n",
              "      <td>0.0</td>\n",
              "      <td>0.0</td>\n",
              "      <td>0.0</td>\n",
              "      <td>0.0</td>\n",
              "      <td>0.0</td>\n",
              "      <td>0.0</td>\n",
              "      <td>0.0</td>\n",
              "      <td>0.0</td>\n",
              "      <td>0.0</td>\n",
              "      <td>0.0</td>\n",
              "      <td>0.0</td>\n",
              "      <td>0.0</td>\n",
              "      <td>0.0</td>\n",
              "      <td>0.0</td>\n",
              "      <td>0.0</td>\n",
              "      <td>0.0</td>\n",
              "      <td>0.0</td>\n",
              "      <td>0.0</td>\n",
              "      <td>0.0</td>\n",
              "      <td>0.0</td>\n",
              "      <td>1.0</td>\n",
              "      <td>0.0</td>\n",
              "      <td>0.0</td>\n",
              "      <td>0.0</td>\n",
              "      <td>0.0</td>\n",
              "      <td>0.0</td>\n",
              "      <td>0.0</td>\n",
              "      <td>0.0</td>\n",
              "      <td>0.0</td>\n",
              "      <td>0.0</td>\n",
              "      <td>0.0</td>\n",
              "      <td>0.0</td>\n",
              "      <td>1.0</td>\n",
              "      <td>0.0</td>\n",
              "      <td>0.0</td>\n",
              "      <td>0.0</td>\n",
              "      <td>0.0</td>\n",
              "      <td>0.0</td>\n",
              "      <td>0.0</td>\n",
              "      <td>0.0</td>\n",
              "      <td>0.0</td>\n",
              "      <td>0.0</td>\n",
              "      <td>0.0</td>\n",
              "      <td>0.0</td>\n",
              "      <td>0.0</td>\n",
              "    </tr>\n",
              "    <tr>\n",
              "      <th>TAS1R2</th>\n",
              "      <td>1.0</td>\n",
              "      <td>0.0</td>\n",
              "      <td>0.0</td>\n",
              "      <td>0.0</td>\n",
              "      <td>0.0</td>\n",
              "      <td>0.0</td>\n",
              "      <td>0.0</td>\n",
              "      <td>0.0</td>\n",
              "      <td>0.0</td>\n",
              "      <td>0.0</td>\n",
              "      <td>1.0</td>\n",
              "      <td>0.0</td>\n",
              "      <td>0.0</td>\n",
              "      <td>0.0</td>\n",
              "      <td>0.0</td>\n",
              "      <td>0.0</td>\n",
              "      <td>0.0</td>\n",
              "      <td>0.0</td>\n",
              "      <td>0.0</td>\n",
              "      <td>0.0</td>\n",
              "      <td>0.0</td>\n",
              "      <td>0.0</td>\n",
              "      <td>0.0</td>\n",
              "      <td>0.0</td>\n",
              "      <td>0.0</td>\n",
              "      <td>0.0</td>\n",
              "      <td>0.0</td>\n",
              "      <td>0.0</td>\n",
              "      <td>0.0</td>\n",
              "      <td>0.0</td>\n",
              "      <td>0.0</td>\n",
              "      <td>0.0</td>\n",
              "      <td>0.0</td>\n",
              "      <td>0.0</td>\n",
              "      <td>0.0</td>\n",
              "      <td>0.0</td>\n",
              "      <td>0.0</td>\n",
              "      <td>0.0</td>\n",
              "      <td>0.0</td>\n",
              "      <td>0.0</td>\n",
              "      <td>0.0</td>\n",
              "      <td>0.0</td>\n",
              "      <td>0.0</td>\n",
              "      <td>0.0</td>\n",
              "      <td>0.0</td>\n",
              "      <td>0.0</td>\n",
              "      <td>0.0</td>\n",
              "      <td>0.0</td>\n",
              "      <td>0.0</td>\n",
              "      <td>0.0</td>\n",
              "      <td>0.0</td>\n",
              "      <td>0.0</td>\n",
              "      <td>0.0</td>\n",
              "      <td>0.0</td>\n",
              "      <td>0.0</td>\n",
              "      <td>0.0</td>\n",
              "      <td>0.0</td>\n",
              "      <td>0.0</td>\n",
              "      <td>0.0</td>\n",
              "      <td>0.0</td>\n",
              "      <td>0.0</td>\n",
              "      <td>0.0</td>\n",
              "      <td>0.0</td>\n",
              "      <td>0.0</td>\n",
              "      <td>0.0</td>\n",
              "      <td>0.0</td>\n",
              "      <td>0.0</td>\n",
              "      <td>0.0</td>\n",
              "      <td>0.0</td>\n",
              "      <td>0.0</td>\n",
              "      <td>0.0</td>\n",
              "      <td>0.0</td>\n",
              "      <td>0.0</td>\n",
              "      <td>0.0</td>\n",
              "      <td>0.0</td>\n",
              "      <td>0.0</td>\n",
              "      <td>0.0</td>\n",
              "      <td>0.0</td>\n",
              "      <td>1.0</td>\n",
              "      <td>0.0</td>\n",
              "      <td>0.0</td>\n",
              "      <td>0.0</td>\n",
              "      <td>0.0</td>\n",
              "      <td>0.0</td>\n",
              "      <td>0.0</td>\n",
              "      <td>0.0</td>\n",
              "      <td>0.0</td>\n",
              "      <td>0.0</td>\n",
              "      <td>0.0</td>\n",
              "      <td>0.0</td>\n",
              "      <td>0.0</td>\n",
              "      <td>0.0</td>\n",
              "      <td>0.0</td>\n",
              "      <td>0.0</td>\n",
              "      <td>0.0</td>\n",
              "      <td>0.0</td>\n",
              "      <td>0.0</td>\n",
              "      <td>0.0</td>\n",
              "      <td>0.0</td>\n",
              "      <td>0.0</td>\n",
              "      <td>0.0</td>\n",
              "      <td>0.0</td>\n",
              "      <td>0.0</td>\n",
              "      <td>0.0</td>\n",
              "      <td>0.0</td>\n",
              "      <td>0.0</td>\n",
              "      <td>0.0</td>\n",
              "      <td>0.0</td>\n",
              "      <td>0.0</td>\n",
              "      <td>0.0</td>\n",
              "      <td>0.0</td>\n",
              "      <td>0.0</td>\n",
              "      <td>0.0</td>\n",
              "      <td>0.0</td>\n",
              "      <td>0.0</td>\n",
              "      <td>0.0</td>\n",
              "      <td>0.0</td>\n",
              "      <td>0.0</td>\n",
              "      <td>0.0</td>\n",
              "      <td>0.0</td>\n",
              "      <td>1.0</td>\n",
              "      <td>0.0</td>\n",
              "      <td>0.0</td>\n",
              "      <td>0.0</td>\n",
              "      <td>0.0</td>\n",
              "      <td>0.0</td>\n",
              "      <td>0.0</td>\n",
              "      <td>0.0</td>\n",
              "      <td>0.0</td>\n",
              "      <td>0.0</td>\n",
              "      <td>0.0</td>\n",
              "      <td>0.0</td>\n",
              "      <td>0.0</td>\n",
              "      <td>0.0</td>\n",
              "      <td>0.0</td>\n",
              "      <td>0.0</td>\n",
              "      <td>0.0</td>\n",
              "      <td>0.0</td>\n",
              "      <td>0.0</td>\n",
              "      <td>0.0</td>\n",
              "      <td>1.0</td>\n",
              "      <td>0.0</td>\n",
              "      <td>0.0</td>\n",
              "      <td>0.0</td>\n",
              "      <td>0.0</td>\n",
              "      <td>0.0</td>\n",
              "      <td>0.0</td>\n",
              "      <td>0.0</td>\n",
              "      <td>0.0</td>\n",
              "      <td>0.0</td>\n",
              "      <td>0.0</td>\n",
              "      <td>0.0</td>\n",
              "      <td>0.0</td>\n",
              "      <td>0.0</td>\n",
              "      <td>0.0</td>\n",
              "      <td>0.0</td>\n",
              "      <td>0.0</td>\n",
              "      <td>0.0</td>\n",
              "      <td>0.0</td>\n",
              "      <td>0.0</td>\n",
              "      <td>0.0</td>\n",
              "      <td>0.0</td>\n",
              "      <td>0.0</td>\n",
              "      <td>0.0</td>\n",
              "      <td>0.0</td>\n",
              "      <td>0.0</td>\n",
              "      <td>0.0</td>\n",
              "      <td>0.0</td>\n",
              "      <td>0.0</td>\n",
              "      <td>0.0</td>\n",
              "      <td>0.0</td>\n",
              "      <td>0.0</td>\n",
              "      <td>0.0</td>\n",
              "      <td>0.0</td>\n",
              "      <td>0.0</td>\n",
              "      <td>0.0</td>\n",
              "      <td>0.0</td>\n",
              "      <td>0.0</td>\n",
              "      <td>0.0</td>\n",
              "      <td>0.0</td>\n",
              "      <td>0.0</td>\n",
              "      <td>0.0</td>\n",
              "      <td>0.0</td>\n",
              "      <td>0.0</td>\n",
              "      <td>0.0</td>\n",
              "      <td>0.0</td>\n",
              "      <td>0.0</td>\n",
              "      <td>1.0</td>\n",
              "      <td>0.0</td>\n",
              "      <td>0.0</td>\n",
              "      <td>0.0</td>\n",
              "      <td>0.0</td>\n",
              "      <td>0.0</td>\n",
              "      <td>0.0</td>\n",
              "      <td>0.0</td>\n",
              "      <td>1.0</td>\n",
              "      <td>0.0</td>\n",
              "      <td>0.0</td>\n",
              "      <td>0.0</td>\n",
              "      <td>0.0</td>\n",
              "      <td>0.0</td>\n",
              "      <td>0.0</td>\n",
              "      <td>0.0</td>\n",
              "      <td>0.0</td>\n",
              "      <td>0.0</td>\n",
              "      <td>0.0</td>\n",
              "      <td>0.0</td>\n",
              "      <td>0.0</td>\n",
              "      <td>0.0</td>\n",
              "      <td>0.0</td>\n",
              "      <td>0.0</td>\n",
              "      <td>0.0</td>\n",
              "      <td>0.0</td>\n",
              "      <td>0.0</td>\n",
              "      <td>0.0</td>\n",
              "      <td>0.0</td>\n",
              "      <td>0.0</td>\n",
              "      <td>0.0</td>\n",
              "      <td>0.0</td>\n",
              "      <td>0.0</td>\n",
              "      <td>0.0</td>\n",
              "      <td>0.0</td>\n",
              "      <td>0.0</td>\n",
              "      <td>0.0</td>\n",
              "      <td>0.0</td>\n",
              "      <td>0.0</td>\n",
              "      <td>1.0</td>\n",
              "      <td>0.0</td>\n",
              "      <td>0.0</td>\n",
              "      <td>0.0</td>\n",
              "    </tr>\n",
              "  </tbody>\n",
              "</table>\n",
              "</div>"
            ],
            "text/plain": [
              "           TCGA-05-4249-01A-01D-1105-08  TCGA-05-4382-01A-01D-1265-08  \\\n",
              "PLEKHN1                             1.0                           0.0   \n",
              "C1orf200                            1.0                           0.0   \n",
              "LOC649330                           1.0                           0.0   \n",
              "CROCC                               1.0                           0.0   \n",
              "TAS1R2                              1.0                           0.0   \n",
              "\n",
              "           TCGA-05-4384-01A-01D-1753-08  TCGA-05-4389-01A-01D-1265-08  \\\n",
              "PLEKHN1                             0.0                           0.0   \n",
              "C1orf200                            0.0                           0.0   \n",
              "LOC649330                           0.0                           0.0   \n",
              "CROCC                               0.0                           0.0   \n",
              "TAS1R2                              0.0                           0.0   \n",
              "\n",
              "           TCGA-05-4390-01A-02D-1753-08  TCGA-05-4395-01A-01D-1265-08  \\\n",
              "PLEKHN1                             0.0                           0.0   \n",
              "C1orf200                            0.0                           0.0   \n",
              "LOC649330                           1.0                           0.0   \n",
              "CROCC                               0.0                           0.0   \n",
              "TAS1R2                              0.0                           0.0   \n",
              "\n",
              "           TCGA-05-4396-01A-21D-1855-08  TCGA-05-4398-01A-01D-1265-08  \\\n",
              "PLEKHN1                             0.0                           0.0   \n",
              "C1orf200                            0.0                           0.0   \n",
              "LOC649330                           0.0                           0.0   \n",
              "CROCC                               0.0                           0.0   \n",
              "TAS1R2                              0.0                           0.0   \n",
              "\n",
              "           TCGA-05-4402-01A-01D-1265-08  TCGA-05-4403-01A-01D-1265-08  \\\n",
              "PLEKHN1                             0.0                           0.0   \n",
              "C1orf200                            0.0                           0.0   \n",
              "LOC649330                           0.0                           0.0   \n",
              "CROCC                               0.0                           0.0   \n",
              "TAS1R2                              0.0                           0.0   \n",
              "\n",
              "           TCGA-05-4405-01A-21D-1855-08  TCGA-05-4410-01A-21D-1855-08  \\\n",
              "PLEKHN1                             0.0                           0.0   \n",
              "C1orf200                            0.0                           0.0   \n",
              "LOC649330                           0.0                           0.0   \n",
              "CROCC                               0.0                           0.0   \n",
              "TAS1R2                              1.0                           0.0   \n",
              "\n",
              "           TCGA-05-4415-01A-22D-1855-08  TCGA-05-4417-01A-22D-1855-08  \\\n",
              "PLEKHN1                             0.0                           0.0   \n",
              "C1orf200                            0.0                           0.0   \n",
              "LOC649330                           0.0                           0.0   \n",
              "CROCC                               0.0                           1.0   \n",
              "TAS1R2                              0.0                           0.0   \n",
              "\n",
              "           TCGA-05-4418-01A-01D-1265-08  TCGA-05-4420-01A-01D-1265-08  \\\n",
              "PLEKHN1                             0.0                           0.0   \n",
              "C1orf200                            0.0                           0.0   \n",
              "LOC649330                           0.0                           0.0   \n",
              "CROCC                               0.0                           0.0   \n",
              "TAS1R2                              0.0                           0.0   \n",
              "\n",
              "           TCGA-05-4422-01A-01D-1265-08  TCGA-05-4424-01A-22D-1855-08  \\\n",
              "PLEKHN1                             0.0                           0.0   \n",
              "C1orf200                            0.0                           0.0   \n",
              "LOC649330                           0.0                           0.0   \n",
              "CROCC                               0.0                           0.0   \n",
              "TAS1R2                              0.0                           0.0   \n",
              "\n",
              "           TCGA-05-4425-01A-01D-1753-08  TCGA-05-4426-01A-01D-1265-08  \\\n",
              "PLEKHN1                             0.0                           0.0   \n",
              "C1orf200                            0.0                           0.0   \n",
              "LOC649330                           0.0                           0.0   \n",
              "CROCC                               0.0                           0.0   \n",
              "TAS1R2                              0.0                           0.0   \n",
              "\n",
              "           TCGA-05-4430-01A-02D-1265-08  TCGA-05-4432-01A-01D-1265-08  \\\n",
              "PLEKHN1                             0.0                           0.0   \n",
              "C1orf200                            0.0                           0.0   \n",
              "LOC649330                           0.0                           0.0   \n",
              "CROCC                               0.0                           1.0   \n",
              "TAS1R2                              0.0                           0.0   \n",
              "\n",
              "           TCGA-05-4433-01A-22D-1855-08  TCGA-05-5420-01A-01D-1625-08  \\\n",
              "PLEKHN1                             0.0                           0.0   \n",
              "C1orf200                            0.0                           0.0   \n",
              "LOC649330                           0.0                           0.0   \n",
              "CROCC                               0.0                           0.0   \n",
              "TAS1R2                              0.0                           0.0   \n",
              "\n",
              "           TCGA-05-5423-01A-01D-1625-08  TCGA-05-5428-01A-01D-1625-08  \\\n",
              "PLEKHN1                             0.0                           0.0   \n",
              "C1orf200                            0.0                           0.0   \n",
              "LOC649330                           0.0                           0.0   \n",
              "CROCC                               1.0                           0.0   \n",
              "TAS1R2                              0.0                           0.0   \n",
              "\n",
              "           TCGA-05-5429-01A-01D-1625-08  TCGA-05-5715-01A-01D-1625-08  \\\n",
              "PLEKHN1                             0.0                           0.0   \n",
              "C1orf200                            0.0                           0.0   \n",
              "LOC649330                           0.0                           0.0   \n",
              "CROCC                               0.0                           0.0   \n",
              "TAS1R2                              0.0                           0.0   \n",
              "\n",
              "           TCGA-35-3615-01A-01D-1040-01  TCGA-38-4626-01A-01D-1553-08  \\\n",
              "PLEKHN1                             0.0                           0.0   \n",
              "C1orf200                            0.0                           0.0   \n",
              "LOC649330                           0.0                           0.0   \n",
              "CROCC                               0.0                           0.0   \n",
              "TAS1R2                              0.0                           0.0   \n",
              "\n",
              "           TCGA-38-4627-01A-01D-1553-08  TCGA-38-4628-01A-01D-1265-08  \\\n",
              "PLEKHN1                             0.0                           0.0   \n",
              "C1orf200                            0.0                           0.0   \n",
              "LOC649330                           0.0                           0.0   \n",
              "CROCC                               0.0                           0.0   \n",
              "TAS1R2                              0.0                           0.0   \n",
              "\n",
              "           TCGA-38-4631-01A-01D-1753-08  TCGA-38-4632-01A-01D-1753-08  \\\n",
              "PLEKHN1                             0.0                           0.0   \n",
              "C1orf200                            0.0                           0.0   \n",
              "LOC649330                           0.0                           0.0   \n",
              "CROCC                               0.0                           0.0   \n",
              "TAS1R2                              0.0                           0.0   \n",
              "\n",
              "           TCGA-38-6178-01A-11D-1753-08  TCGA-44-2655-01A-01D-1553-08  \\\n",
              "PLEKHN1                             0.0                           0.0   \n",
              "C1orf200                            0.0                           0.0   \n",
              "LOC649330                           0.0                           0.0   \n",
              "CROCC                               0.0                           0.0   \n",
              "TAS1R2                              0.0                           0.0   \n",
              "\n",
              "           TCGA-44-2656-01A-02W-0928-08  TCGA-44-2657-01A-01D-1105-08  \\\n",
              "PLEKHN1                             0.0                           0.0   \n",
              "C1orf200                            0.0                           0.0   \n",
              "LOC649330                           0.0                           0.0   \n",
              "CROCC                               0.0                           0.0   \n",
              "TAS1R2                              0.0                           0.0   \n",
              "\n",
              "           TCGA-44-2659-01A-01D-0969-08  TCGA-44-2661-01A-01D-1105-08  \\\n",
              "PLEKHN1                             0.0                           0.0   \n",
              "C1orf200                            0.0                           0.0   \n",
              "LOC649330                           0.0                           0.0   \n",
              "CROCC                               0.0                           0.0   \n",
              "TAS1R2                              0.0                           0.0   \n",
              "\n",
              "           TCGA-44-2662-01A-01D-0969-08  TCGA-44-2665-01A-01D-1040-01  \\\n",
              "PLEKHN1                             0.0                           0.0   \n",
              "C1orf200                            0.0                           0.0   \n",
              "LOC649330                           0.0                           0.0   \n",
              "CROCC                               0.0                           0.0   \n",
              "TAS1R2                              0.0                           0.0   \n",
              "\n",
              "           TCGA-44-2666-01A-01D-1489-08  TCGA-44-3396-01A-01D-1265-08  \\\n",
              "PLEKHN1                             0.0                           0.0   \n",
              "C1orf200                            0.0                           0.0   \n",
              "LOC649330                           0.0                           0.0   \n",
              "CROCC                               0.0                           0.0   \n",
              "TAS1R2                              0.0                           0.0   \n",
              "\n",
              "           TCGA-44-3919-01A-02D-1458-08  TCGA-44-4112-01A-01D-1105-08  \\\n",
              "PLEKHN1                             0.0                           0.0   \n",
              "C1orf200                            0.0                           0.0   \n",
              "LOC649330                           0.0                           0.0   \n",
              "CROCC                               0.0                           0.0   \n",
              "TAS1R2                              0.0                           0.0   \n",
              "\n",
              "           TCGA-44-5645-01A-01D-1625-08  TCGA-44-6145-01A-11D-1753-08  \\\n",
              "PLEKHN1                             0.0                           0.0   \n",
              "C1orf200                            0.0                           0.0   \n",
              "LOC649330                           0.0                           0.0   \n",
              "CROCC                               0.0                           0.0   \n",
              "TAS1R2                              0.0                           0.0   \n",
              "\n",
              "           TCGA-44-6146-01A-11D-1753-08  TCGA-44-6147-01A-11D-1753-08  \\\n",
              "PLEKHN1                             0.0                           0.0   \n",
              "C1orf200                            0.0                           0.0   \n",
              "LOC649330                           0.0                           0.0   \n",
              "CROCC                               0.0                           0.0   \n",
              "TAS1R2                              0.0                           0.0   \n",
              "\n",
              "           TCGA-44-6774-01A-21D-1855-08  TCGA-44-6775-01A-11D-1855-08  \\\n",
              "PLEKHN1                             0.0                           0.0   \n",
              "C1orf200                            0.0                           0.0   \n",
              "LOC649330                           0.0                           0.0   \n",
              "CROCC                               0.0                           0.0   \n",
              "TAS1R2                              0.0                           0.0   \n",
              "\n",
              "           TCGA-44-6776-01A-11D-1855-08  TCGA-44-6777-01A-11D-1855-08  \\\n",
              "PLEKHN1                             0.0                           0.0   \n",
              "C1orf200                            0.0                           0.0   \n",
              "LOC649330                           0.0                           0.0   \n",
              "CROCC                               0.0                           0.0   \n",
              "TAS1R2                              0.0                           0.0   \n",
              "\n",
              "           TCGA-44-6779-01A-11D-1855-08  TCGA-44-7659-01A-11D-2063-08  \\\n",
              "PLEKHN1                             0.0                           0.0   \n",
              "C1orf200                            0.0                           0.0   \n",
              "LOC649330                           0.0                           0.0   \n",
              "CROCC                               0.0                           0.0   \n",
              "TAS1R2                              0.0                           0.0   \n",
              "\n",
              "           TCGA-44-7662-01A-11D-2063-08  TCGA-44-7670-01A-11D-2063-08  \\\n",
              "PLEKHN1                             0.0                           0.0   \n",
              "C1orf200                            0.0                           0.0   \n",
              "LOC649330                           0.0                           0.0   \n",
              "CROCC                               0.0                           0.0   \n",
              "TAS1R2                              0.0                           0.0   \n",
              "\n",
              "           TCGA-44-7671-01A-11D-2063-08  TCGA-44-7672-01A-11D-2063-08  \\\n",
              "PLEKHN1                             0.0                           0.0   \n",
              "C1orf200                            0.0                           0.0   \n",
              "LOC649330                           0.0                           0.0   \n",
              "CROCC                               0.0                           0.0   \n",
              "TAS1R2                              0.0                           0.0   \n",
              "\n",
              "           TCGA-49-4486-01A-01D-1265-08  TCGA-49-4487-01A-21D-1855-08  \\\n",
              "PLEKHN1                             0.0                           0.0   \n",
              "C1orf200                            0.0                           0.0   \n",
              "LOC649330                           0.0                           0.0   \n",
              "CROCC                               0.0                           0.0   \n",
              "TAS1R2                              0.0                           0.0   \n",
              "\n",
              "           TCGA-49-4488-01A-01D-1753-08  TCGA-49-4490-01A-21D-1855-08  \\\n",
              "PLEKHN1                             0.0                           0.0   \n",
              "C1orf200                            0.0                           0.0   \n",
              "LOC649330                           0.0                           0.0   \n",
              "CROCC                               0.0                           0.0   \n",
              "TAS1R2                              0.0                           0.0   \n",
              "\n",
              "           TCGA-49-4494-01A-01D-1265-08  TCGA-49-4501-01A-01D-1265-08  \\\n",
              "PLEKHN1                             0.0                           0.0   \n",
              "C1orf200                            0.0                           0.0   \n",
              "LOC649330                           0.0                           0.0   \n",
              "CROCC                               0.0                           0.0   \n",
              "TAS1R2                              0.0                           0.0   \n",
              "\n",
              "           TCGA-49-4505-01A-01D-1265-08  TCGA-49-4506-01A-01D-1265-08  \\\n",
              "PLEKHN1                             0.0                           0.0   \n",
              "C1orf200                            0.0                           0.0   \n",
              "LOC649330                           0.0                           0.0   \n",
              "CROCC                               0.0                           0.0   \n",
              "TAS1R2                              0.0                           0.0   \n",
              "\n",
              "           TCGA-49-4507-01A-01D-1265-08  TCGA-49-4510-01A-01D-1265-08  \\\n",
              "PLEKHN1                             0.0                           0.0   \n",
              "C1orf200                            0.0                           0.0   \n",
              "LOC649330                           0.0                           0.0   \n",
              "CROCC                               0.0                           0.0   \n",
              "TAS1R2                              0.0                           0.0   \n",
              "\n",
              "           TCGA-49-4512-01A-21D-1855-08  TCGA-49-4514-01A-21D-1855-08  \\\n",
              "PLEKHN1                             0.0                           0.0   \n",
              "C1orf200                            0.0                           0.0   \n",
              "LOC649330                           0.0                           0.0   \n",
              "CROCC                               0.0                           0.0   \n",
              "TAS1R2                              0.0                           0.0   \n",
              "\n",
              "           TCGA-49-6742-01A-11D-1855-08  TCGA-49-6744-01A-11D-1855-08  \\\n",
              "PLEKHN1                             0.0                           0.0   \n",
              "C1orf200                            0.0                           0.0   \n",
              "LOC649330                           0.0                           0.0   \n",
              "CROCC                               0.0                           0.0   \n",
              "TAS1R2                              0.0                           0.0   \n",
              "\n",
              "           TCGA-49-6745-01A-11D-1855-08  TCGA-49-6761-01A-31D-1945-08  \\\n",
              "PLEKHN1                             0.0                           0.0   \n",
              "C1orf200                            0.0                           0.0   \n",
              "LOC649330                           0.0                           0.0   \n",
              "CROCC                               0.0                           0.0   \n",
              "TAS1R2                              0.0                           0.0   \n",
              "\n",
              "           TCGA-49-6767-01A-11D-1855-08  TCGA-50-5044-01A-21D-1855-08  \\\n",
              "PLEKHN1                             0.0                           0.0   \n",
              "C1orf200                            0.0                           0.0   \n",
              "LOC649330                           0.0                           0.0   \n",
              "CROCC                               0.0                           0.0   \n",
              "TAS1R2                              0.0                           0.0   \n",
              "\n",
              "           TCGA-50-5049-01A-01D-1625-08  TCGA-50-5051-01A-21D-1855-08  \\\n",
              "PLEKHN1                             0.0                           0.0   \n",
              "C1orf200                            0.0                           0.0   \n",
              "LOC649330                           0.0                           0.0   \n",
              "CROCC                               0.0                           0.0   \n",
              "TAS1R2                              1.0                           0.0   \n",
              "\n",
              "           TCGA-50-5055-01A-01D-1625-08  TCGA-50-5068-01A-01D-1625-08  \\\n",
              "PLEKHN1                             0.0                           0.0   \n",
              "C1orf200                            0.0                           0.0   \n",
              "LOC649330                           0.0                           1.0   \n",
              "CROCC                               0.0                           0.0   \n",
              "TAS1R2                              0.0                           0.0   \n",
              "\n",
              "           TCGA-50-5072-01A-21D-1855-08  TCGA-50-5931-01A-11D-1753-08  \\\n",
              "PLEKHN1                             0.0                           0.0   \n",
              "C1orf200                            0.0                           0.0   \n",
              "LOC649330                           0.0                           0.0   \n",
              "CROCC                               0.0                           0.0   \n",
              "TAS1R2                              0.0                           0.0   \n",
              "\n",
              "           TCGA-50-5932-01A-11D-1753-08  TCGA-50-5933-01A-11D-1753-08  \\\n",
              "PLEKHN1                             0.0                           0.0   \n",
              "C1orf200                            0.0                           0.0   \n",
              "LOC649330                           0.0                           0.0   \n",
              "CROCC                               0.0                           0.0   \n",
              "TAS1R2                              0.0                           0.0   \n",
              "\n",
              "           TCGA-50-5935-01A-11D-1753-08  TCGA-50-5936-01A-11D-1625-08  \\\n",
              "PLEKHN1                             0.0                           0.0   \n",
              "C1orf200                            0.0                           0.0   \n",
              "LOC649330                           0.0                           0.0   \n",
              "CROCC                               0.0                           0.0   \n",
              "TAS1R2                              0.0                           0.0   \n",
              "\n",
              "           TCGA-50-5939-01A-11D-1625-08  TCGA-50-5941-01A-11D-1753-08  \\\n",
              "PLEKHN1                             0.0                           0.0   \n",
              "C1orf200                            0.0                           0.0   \n",
              "LOC649330                           0.0                           0.0   \n",
              "CROCC                               0.0                           0.0   \n",
              "TAS1R2                              0.0                           0.0   \n",
              "\n",
              "           TCGA-50-5942-01A-21D-1753-08  TCGA-50-5944-01A-11D-1753-08  \\\n",
              "PLEKHN1                             0.0                           0.0   \n",
              "C1orf200                            0.0                           0.0   \n",
              "LOC649330                           0.0                           0.0   \n",
              "CROCC                               0.0                           0.0   \n",
              "TAS1R2                              0.0                           0.0   \n",
              "\n",
              "           TCGA-50-6593-01A-11D-1753-08  TCGA-50-6595-01A-12D-1855-08  \\\n",
              "PLEKHN1                             0.0                           0.0   \n",
              "C1orf200                            0.0                           0.0   \n",
              "LOC649330                           0.0                           0.0   \n",
              "CROCC                               0.0                           0.0   \n",
              "TAS1R2                              0.0                           0.0   \n",
              "\n",
              "           TCGA-50-6597-01A-11D-1855-08  TCGA-50-6673-01A-11D-1945-08  \\\n",
              "PLEKHN1                             0.0                           0.0   \n",
              "C1orf200                            0.0                           0.0   \n",
              "LOC649330                           0.0                           0.0   \n",
              "CROCC                               0.0                           0.0   \n",
              "TAS1R2                              0.0                           0.0   \n",
              "\n",
              "           TCGA-50-7109-01A-11D-2036-08  TCGA-53-7626-01A-12D-2063-08  \\\n",
              "PLEKHN1                             0.0                           0.0   \n",
              "C1orf200                            0.0                           0.0   \n",
              "LOC649330                           0.0                           0.0   \n",
              "CROCC                               0.0                           0.0   \n",
              "TAS1R2                              0.0                           0.0   \n",
              "\n",
              "           TCGA-53-7813-01A-11D-2167-08  TCGA-55-1592-01A-01D-0969-08  \\\n",
              "PLEKHN1                             0.0                           0.0   \n",
              "C1orf200                            0.0                           0.0   \n",
              "LOC649330                           0.0                           0.0   \n",
              "CROCC                               0.0                           0.0   \n",
              "TAS1R2                              0.0                           0.0   \n",
              "\n",
              "           TCGA-55-1594-01A-01D-1040-01  TCGA-55-1596-01A-01D-1040-01  \\\n",
              "PLEKHN1                             0.0                           0.0   \n",
              "C1orf200                            0.0                           0.0   \n",
              "LOC649330                           0.0                           0.0   \n",
              "CROCC                               0.0                           0.0   \n",
              "TAS1R2                              0.0                           0.0   \n",
              "\n",
              "           TCGA-55-6543-01A-11D-1753-08  TCGA-55-6642-01A-11D-1855-08  \\\n",
              "PLEKHN1                             0.0                           0.0   \n",
              "C1orf200                            0.0                           0.0   \n",
              "LOC649330                           0.0                           0.0   \n",
              "CROCC                               0.0                           0.0   \n",
              "TAS1R2                              0.0                           0.0   \n",
              "\n",
              "           TCGA-55-6712-01A-11D-1855-08  TCGA-55-6970-01A-11D-1945-08  \\\n",
              "PLEKHN1                             0.0                           0.0   \n",
              "C1orf200                            0.0                           0.0   \n",
              "LOC649330                           0.0                           0.0   \n",
              "CROCC                               0.0                           0.0   \n",
              "TAS1R2                              0.0                           0.0   \n",
              "\n",
              "           TCGA-55-6971-01A-11D-1945-08  TCGA-55-6972-01A-11D-1945-08  \\\n",
              "PLEKHN1                             0.0                           0.0   \n",
              "C1orf200                            0.0                           0.0   \n",
              "LOC649330                           0.0                           0.0   \n",
              "CROCC                               0.0                           0.0   \n",
              "TAS1R2                              0.0                           0.0   \n",
              "\n",
              "           TCGA-55-6978-01A-11D-1945-08  TCGA-55-6979-01A-11D-1945-08  \\\n",
              "PLEKHN1                             0.0                           0.0   \n",
              "C1orf200                            0.0                           0.0   \n",
              "LOC649330                           0.0                           0.0   \n",
              "CROCC                               0.0                           0.0   \n",
              "TAS1R2                              0.0                           0.0   \n",
              "\n",
              "           TCGA-55-6980-01A-11D-1945-08  TCGA-55-6981-01A-11D-1945-08  \\\n",
              "PLEKHN1                             0.0                           0.0   \n",
              "C1orf200                            0.0                           0.0   \n",
              "LOC649330                           0.0                           0.0   \n",
              "CROCC                               0.0                           0.0   \n",
              "TAS1R2                              0.0                           0.0   \n",
              "\n",
              "           TCGA-55-6982-01A-11D-1945-08  TCGA-55-6983-01A-11D-1945-08  \\\n",
              "PLEKHN1                             0.0                           0.0   \n",
              "C1orf200                            0.0                           0.0   \n",
              "LOC649330                           0.0                           0.0   \n",
              "CROCC                               0.0                           0.0   \n",
              "TAS1R2                              0.0                           0.0   \n",
              "\n",
              "           TCGA-55-6985-01A-11D-1945-08  TCGA-55-6986-01A-11D-1945-08  \\\n",
              "PLEKHN1                             0.0                           0.0   \n",
              "C1orf200                            0.0                           0.0   \n",
              "LOC649330                           0.0                           0.0   \n",
              "CROCC                               0.0                           0.0   \n",
              "TAS1R2                              0.0                           0.0   \n",
              "\n",
              "           TCGA-55-7281-01A-11D-2036-08  TCGA-55-7283-01A-11D-2036-08  \\\n",
              "PLEKHN1                             0.0                           0.0   \n",
              "C1orf200                            0.0                           0.0   \n",
              "LOC649330                           0.0                           0.0   \n",
              "CROCC                               0.0                           0.0   \n",
              "TAS1R2                              0.0                           0.0   \n",
              "\n",
              "           TCGA-55-7573-01A-11D-2036-08  TCGA-55-7574-01A-11D-2036-08  \\\n",
              "PLEKHN1                             0.0                           0.0   \n",
              "C1orf200                            0.0                           0.0   \n",
              "LOC649330                           0.0                           0.0   \n",
              "CROCC                               0.0                           0.0   \n",
              "TAS1R2                              0.0                           0.0   \n",
              "\n",
              "           TCGA-55-7576-01A-11D-2063-08  TCGA-55-7724-01A-11D-2167-08  \\\n",
              "PLEKHN1                             0.0                           0.0   \n",
              "C1orf200                            0.0                           0.0   \n",
              "LOC649330                           0.0                           0.0   \n",
              "CROCC                               0.0                           0.0   \n",
              "TAS1R2                              1.0                           0.0   \n",
              "\n",
              "           TCGA-55-7725-01A-11D-2167-08  TCGA-55-7726-01A-11D-2167-08  \\\n",
              "PLEKHN1                             0.0                           0.0   \n",
              "C1orf200                            0.0                           0.0   \n",
              "LOC649330                           0.0                           0.0   \n",
              "CROCC                               0.0                           0.0   \n",
              "TAS1R2                              0.0                           0.0   \n",
              "\n",
              "           TCGA-55-7727-01A-11D-2167-08  TCGA-55-7728-01A-11D-2184-08  \\\n",
              "PLEKHN1                             0.0                           0.0   \n",
              "C1orf200                            0.0                           0.0   \n",
              "LOC649330                           0.0                           0.0   \n",
              "CROCC                               0.0                           0.0   \n",
              "TAS1R2                              0.0                           0.0   \n",
              "\n",
              "           TCGA-55-7815-01A-11D-2167-08  TCGA-55-7903-01A-11D-2167-08  \\\n",
              "PLEKHN1                             0.0                           0.0   \n",
              "C1orf200                            0.0                           0.0   \n",
              "LOC649330                           0.0                           0.0   \n",
              "CROCC                               0.0                           0.0   \n",
              "TAS1R2                              0.0                           0.0   \n",
              "\n",
              "           TCGA-55-7907-01A-11D-2167-08  TCGA-55-7911-01A-11D-2167-08  \\\n",
              "PLEKHN1                             0.0                           0.0   \n",
              "C1orf200                            0.0                           0.0   \n",
              "LOC649330                           0.0                           0.0   \n",
              "CROCC                               0.0                           0.0   \n",
              "TAS1R2                              0.0                           0.0   \n",
              "\n",
              "           TCGA-55-7914-01A-11D-2167-08  TCGA-64-1676-01A-01D-0969-08  \\\n",
              "PLEKHN1                             0.0                           0.0   \n",
              "C1orf200                            0.0                           0.0   \n",
              "LOC649330                           0.0                           0.0   \n",
              "CROCC                               0.0                           0.0   \n",
              "TAS1R2                              0.0                           0.0   \n",
              "\n",
              "           TCGA-64-1677-01A-01W-0928-08  TCGA-64-1678-01A-01W-0928-08  \\\n",
              "PLEKHN1                             0.0                           0.0   \n",
              "C1orf200                            0.0                           0.0   \n",
              "LOC649330                           0.0                           0.0   \n",
              "CROCC                               0.0                           0.0   \n",
              "TAS1R2                              0.0                           0.0   \n",
              "\n",
              "           TCGA-64-1679-01A-21D-2063-08  TCGA-64-1680-01A-02D-0969-08  \\\n",
              "PLEKHN1                             0.0                           0.0   \n",
              "C1orf200                            0.0                           0.0   \n",
              "LOC649330                           0.0                           0.0   \n",
              "CROCC                               0.0                           0.0   \n",
              "TAS1R2                              0.0                           0.0   \n",
              "\n",
              "           TCGA-64-1681-01A-11D-2063-08  TCGA-64-5774-01A-01D-1625-08  \\\n",
              "PLEKHN1                             0.0                           0.0   \n",
              "C1orf200                            0.0                           0.0   \n",
              "LOC649330                           0.0                           0.0   \n",
              "CROCC                               0.0                           0.0   \n",
              "TAS1R2                              0.0                           0.0   \n",
              "\n",
              "           TCGA-64-5775-01A-01D-1625-08  TCGA-64-5778-01A-01D-1625-08  \\\n",
              "PLEKHN1                             0.0                           0.0   \n",
              "C1orf200                            0.0                           0.0   \n",
              "LOC649330                           0.0                           0.0   \n",
              "CROCC                               0.0                           0.0   \n",
              "TAS1R2                              0.0                           0.0   \n",
              "\n",
              "           TCGA-64-5781-01A-01D-1625-08  TCGA-67-3771-01A-01D-1040-01  \\\n",
              "PLEKHN1                             0.0                           0.0   \n",
              "C1orf200                            0.0                           0.0   \n",
              "LOC649330                           0.0                           0.0   \n",
              "CROCC                               0.0                           0.0   \n",
              "TAS1R2                              1.0                           0.0   \n",
              "\n",
              "           TCGA-67-3772-01A-01W-0928-08  TCGA-67-3773-01A-01D-1040-01  \\\n",
              "PLEKHN1                             0.0                           0.0   \n",
              "C1orf200                            0.0                           0.0   \n",
              "LOC649330                           0.0                           0.0   \n",
              "CROCC                               0.0                           0.0   \n",
              "TAS1R2                              0.0                           0.0   \n",
              "\n",
              "           TCGA-67-3774-01A-01D-1040-01  TCGA-67-6215-01A-11D-1753-08  \\\n",
              "PLEKHN1                             0.0                           0.0   \n",
              "C1orf200                            0.0                           0.0   \n",
              "LOC649330                           0.0                           0.0   \n",
              "CROCC                               0.0                           0.0   \n",
              "TAS1R2                              0.0                           0.0   \n",
              "\n",
              "           TCGA-67-6216-01A-11D-1753-08  TCGA-67-6217-01A-11D-1753-08  \\\n",
              "PLEKHN1                             0.0                           0.0   \n",
              "C1orf200                            0.0                           0.0   \n",
              "LOC649330                           0.0                           0.0   \n",
              "CROCC                               0.0                           0.0   \n",
              "TAS1R2                              0.0                           0.0   \n",
              "\n",
              "           TCGA-69-7760-01A-11D-2167-08  TCGA-69-7761-01A-11D-2167-08  \\\n",
              "PLEKHN1                             0.0                           0.0   \n",
              "C1orf200                            0.0                           0.0   \n",
              "LOC649330                           0.0                           0.0   \n",
              "CROCC                               0.0                           0.0   \n",
              "TAS1R2                              0.0                           0.0   \n",
              "\n",
              "           TCGA-69-7763-01A-11D-2167-08  TCGA-69-7764-01A-11D-2167-08  \\\n",
              "PLEKHN1                             0.0                           0.0   \n",
              "C1orf200                            0.0                           0.0   \n",
              "LOC649330                           0.0                           0.0   \n",
              "CROCC                               0.0                           0.0   \n",
              "TAS1R2                              0.0                           0.0   \n",
              "\n",
              "           TCGA-69-7765-01A-11D-2167-08  TCGA-69-7980-01A-11D-2184-08  \\\n",
              "PLEKHN1                             0.0                           0.0   \n",
              "C1orf200                            0.0                           0.0   \n",
              "LOC649330                           0.0                           0.0   \n",
              "CROCC                               0.0                           0.0   \n",
              "TAS1R2                              0.0                           0.0   \n",
              "\n",
              "           TCGA-71-6725-01A-11D-1855-08  TCGA-73-4658-01A-01D-1753-08  \\\n",
              "PLEKHN1                             0.0                           0.0   \n",
              "C1orf200                            0.0                           0.0   \n",
              "LOC649330                           0.0                           0.0   \n",
              "CROCC                               0.0                           0.0   \n",
              "TAS1R2                              0.0                           0.0   \n",
              "\n",
              "           TCGA-73-4659-01A-01D-1265-08  TCGA-73-4662-01A-01D-1265-08  \\\n",
              "PLEKHN1                             0.0                           0.0   \n",
              "C1orf200                            0.0                           0.0   \n",
              "LOC649330                           0.0                           0.0   \n",
              "CROCC                               0.0                           1.0   \n",
              "TAS1R2                              0.0                           0.0   \n",
              "\n",
              "           TCGA-73-4675-01A-01D-1265-08  TCGA-73-4676-01A-01D-1753-08  \\\n",
              "PLEKHN1                             0.0                           0.0   \n",
              "C1orf200                            0.0                           0.0   \n",
              "LOC649330                           0.0                           0.0   \n",
              "CROCC                               0.0                           0.0   \n",
              "TAS1R2                              0.0                           0.0   \n",
              "\n",
              "           TCGA-73-7498-01A-12D-2184-08  TCGA-73-7499-01A-11D-2184-08  \\\n",
              "PLEKHN1                             0.0                           0.0   \n",
              "C1orf200                            0.0                           0.0   \n",
              "LOC649330                           0.0                           0.0   \n",
              "CROCC                               0.0                           0.0   \n",
              "TAS1R2                              0.0                           0.0   \n",
              "\n",
              "           TCGA-75-5122-01A-01D-1753-08  TCGA-75-5126-01A-01D-1753-08  \\\n",
              "PLEKHN1                             0.0                           0.0   \n",
              "C1orf200                            0.0                           0.0   \n",
              "LOC649330                           0.0                           0.0   \n",
              "CROCC                               0.0                           0.0   \n",
              "TAS1R2                              0.0                           0.0   \n",
              "\n",
              "           TCGA-75-5146-01A-01D-1625-08  TCGA-75-5147-01A-01D-1625-08  \\\n",
              "PLEKHN1                             0.0                           0.0   \n",
              "C1orf200                            0.0                           0.0   \n",
              "LOC649330                           0.0                           0.0   \n",
              "CROCC                               0.0                           0.0   \n",
              "TAS1R2                              0.0                           0.0   \n",
              "\n",
              "           TCGA-75-6203-01A-11D-1753-08  TCGA-75-6205-01A-11D-1753-08  \\\n",
              "PLEKHN1                             0.0                           0.0   \n",
              "C1orf200                            0.0                           0.0   \n",
              "LOC649330                           0.0                           0.0   \n",
              "CROCC                               0.0                           0.0   \n",
              "TAS1R2                              0.0                           0.0   \n",
              "\n",
              "           TCGA-75-6207-01A-11D-1753-08  TCGA-75-6211-01A-11D-1753-08  \\\n",
              "PLEKHN1                             0.0                           0.0   \n",
              "C1orf200                            0.0                           0.0   \n",
              "LOC649330                           0.0                           0.0   \n",
              "CROCC                               0.0                           0.0   \n",
              "TAS1R2                              0.0                           0.0   \n",
              "\n",
              "           TCGA-75-6212-01A-11D-1753-08  TCGA-75-6214-01A-41D-1945-08  \\\n",
              "PLEKHN1                             0.0                           0.0   \n",
              "C1orf200                            0.0                           0.0   \n",
              "LOC649330                           0.0                           0.0   \n",
              "CROCC                               0.0                           0.0   \n",
              "TAS1R2                              0.0                           0.0   \n",
              "\n",
              "           TCGA-75-7025-01A-12D-1945-08  TCGA-75-7027-01A-11D-1945-08  \\\n",
              "PLEKHN1                             0.0                           0.0   \n",
              "C1orf200                            0.0                           0.0   \n",
              "LOC649330                           0.0                           0.0   \n",
              "CROCC                               0.0                           0.0   \n",
              "TAS1R2                              0.0                           0.0   \n",
              "\n",
              "           TCGA-75-7030-01A-11D-1945-08  TCGA-75-7031-01A-11D-1945-08  \\\n",
              "PLEKHN1                             0.0                           0.0   \n",
              "C1orf200                            0.0                           0.0   \n",
              "LOC649330                           0.0                           0.0   \n",
              "CROCC                               0.0                           0.0   \n",
              "TAS1R2                              0.0                           0.0   \n",
              "\n",
              "           TCGA-78-7143-01A-11D-2036-08  TCGA-78-7145-01A-11D-2036-08  \\\n",
              "PLEKHN1                             0.0                           0.0   \n",
              "C1orf200                            0.0                           0.0   \n",
              "LOC649330                           0.0                           0.0   \n",
              "CROCC                               0.0                           0.0   \n",
              "TAS1R2                              0.0                           0.0   \n",
              "\n",
              "           TCGA-78-7147-01A-11D-2036-08  TCGA-78-7148-01A-11D-2036-08  \\\n",
              "PLEKHN1                             0.0                           0.0   \n",
              "C1orf200                            0.0                           0.0   \n",
              "LOC649330                           0.0                           0.0   \n",
              "CROCC                               0.0                           0.0   \n",
              "TAS1R2                              0.0                           0.0   \n",
              "\n",
              "           TCGA-78-7149-01A-11D-2036-08  TCGA-78-7150-01A-21D-2036-08  \\\n",
              "PLEKHN1                             0.0                           0.0   \n",
              "C1orf200                            0.0                           0.0   \n",
              "LOC649330                           0.0                           0.0   \n",
              "CROCC                               0.0                           0.0   \n",
              "TAS1R2                              0.0                           0.0   \n",
              "\n",
              "           TCGA-78-7152-01A-11D-2036-08  TCGA-78-7153-01A-11D-2036-08  \\\n",
              "PLEKHN1                             0.0                           0.0   \n",
              "C1orf200                            0.0                           0.0   \n",
              "LOC649330                           0.0                           0.0   \n",
              "CROCC                               0.0                           0.0   \n",
              "TAS1R2                              0.0                           0.0   \n",
              "\n",
              "           TCGA-78-7154-01A-11D-2036-08  TCGA-78-7155-01A-11D-2036-08  \\\n",
              "PLEKHN1                             0.0                           0.0   \n",
              "C1orf200                            0.0                           0.0   \n",
              "LOC649330                           0.0                           1.0   \n",
              "CROCC                               0.0                           0.0   \n",
              "TAS1R2                              0.0                           0.0   \n",
              "\n",
              "           TCGA-78-7156-01A-11D-2036-08  TCGA-78-7158-01A-11D-2036-08  \\\n",
              "PLEKHN1                             0.0                           0.0   \n",
              "C1orf200                            0.0                           0.0   \n",
              "LOC649330                           0.0                           0.0   \n",
              "CROCC                               0.0                           0.0   \n",
              "TAS1R2                              0.0                           1.0   \n",
              "\n",
              "           TCGA-78-7159-01A-11D-2036-08  TCGA-78-7160-01A-11D-2036-08  \\\n",
              "PLEKHN1                             0.0                           0.0   \n",
              "C1orf200                            0.0                           0.0   \n",
              "LOC649330                           0.0                           0.0   \n",
              "CROCC                               0.0                           0.0   \n",
              "TAS1R2                              0.0                           0.0   \n",
              "\n",
              "           TCGA-78-7161-01A-11D-2036-08  TCGA-78-7162-01A-21D-2063-08  \\\n",
              "PLEKHN1                             0.0                           0.0   \n",
              "C1orf200                            0.0                           0.0   \n",
              "LOC649330                           0.0                           0.0   \n",
              "CROCC                               0.0                           0.0   \n",
              "TAS1R2                              0.0                           0.0   \n",
              "\n",
              "           TCGA-78-7163-01A-12D-2063-08  TCGA-78-7166-01A-12D-2063-08  \\\n",
              "PLEKHN1                             0.0                           0.0   \n",
              "C1orf200                            0.0                           0.0   \n",
              "LOC649330                           0.0                           0.0   \n",
              "CROCC                               0.0                           0.0   \n",
              "TAS1R2                              0.0                           0.0   \n",
              "\n",
              "           TCGA-78-7167-01A-11D-2063-08  TCGA-78-7535-01A-11D-2063-08  \\\n",
              "PLEKHN1                             0.0                           0.0   \n",
              "C1orf200                            0.0                           0.0   \n",
              "LOC649330                           0.0                           0.0   \n",
              "CROCC                               0.0                           0.0   \n",
              "TAS1R2                              0.0                           1.0   \n",
              "\n",
              "           TCGA-78-7536-01A-11D-2063-08  TCGA-78-7537-01A-11D-2063-08  \\\n",
              "PLEKHN1                             0.0                           0.0   \n",
              "C1orf200                            0.0                           0.0   \n",
              "LOC649330                           0.0                           0.0   \n",
              "CROCC                               0.0                           0.0   \n",
              "TAS1R2                              0.0                           0.0   \n",
              "\n",
              "           TCGA-78-7539-01A-11D-2063-08  TCGA-78-7540-01A-11D-2063-08  \\\n",
              "PLEKHN1                             0.0                           0.0   \n",
              "C1orf200                            0.0                           0.0   \n",
              "LOC649330                           0.0                           0.0   \n",
              "CROCC                               0.0                           0.0   \n",
              "TAS1R2                              0.0                           0.0   \n",
              "\n",
              "           TCGA-78-7542-01A-21D-2063-08  TCGA-78-7633-01A-11D-2063-08  \\\n",
              "PLEKHN1                             0.0                           0.0   \n",
              "C1orf200                            0.0                           0.0   \n",
              "LOC649330                           0.0                           0.0   \n",
              "CROCC                               0.0                           0.0   \n",
              "TAS1R2                              0.0                           0.0   \n",
              "\n",
              "           TCGA-80-5607-01A-31D-1945-08  TCGA-80-5608-01A-31D-1945-08  \\\n",
              "PLEKHN1                             0.0                           0.0   \n",
              "C1orf200                            0.0                           0.0   \n",
              "LOC649330                           0.0                           0.0   \n",
              "CROCC                               0.0                           0.0   \n",
              "TAS1R2                              0.0                           0.0   \n",
              "\n",
              "           TCGA-86-6562-01A-11D-1753-08  TCGA-86-6851-01A-11D-1945-08  \\\n",
              "PLEKHN1                             0.0                           0.0   \n",
              "C1orf200                            0.0                           0.0   \n",
              "LOC649330                           0.0                           0.0   \n",
              "CROCC                               0.0                           1.0   \n",
              "TAS1R2                              0.0                           0.0   \n",
              "\n",
              "           TCGA-86-7713-01A-11D-2063-08  TCGA-86-7714-01A-12D-2167-08  \\\n",
              "PLEKHN1                             0.0                           0.0   \n",
              "C1orf200                            0.0                           0.0   \n",
              "LOC649330                           0.0                           0.0   \n",
              "CROCC                               0.0                           0.0   \n",
              "TAS1R2                              0.0                           0.0   \n",
              "\n",
              "           TCGA-91-6828-01A-11D-1855-08  TCGA-91-6829-01A-21D-1855-08  \\\n",
              "PLEKHN1                             0.0                           0.0   \n",
              "C1orf200                            0.0                           0.0   \n",
              "LOC649330                           0.0                           0.0   \n",
              "CROCC                               0.0                           0.0   \n",
              "TAS1R2                              0.0                           0.0   \n",
              "\n",
              "           TCGA-91-6835-01A-11D-1855-08  TCGA-91-6840-01A-11D-1945-08  \\\n",
              "PLEKHN1                             0.0                           0.0   \n",
              "C1orf200                            0.0                           0.0   \n",
              "LOC649330                           0.0                           0.0   \n",
              "CROCC                               0.0                           0.0   \n",
              "TAS1R2                              0.0                           0.0   \n",
              "\n",
              "           TCGA-91-6847-01A-11D-1945-08  TCGA-91-6849-01A-11D-1945-08  \\\n",
              "PLEKHN1                             0.0                           0.0   \n",
              "C1orf200                            0.0                           0.0   \n",
              "LOC649330                           0.0                           0.0   \n",
              "CROCC                               0.0                           0.0   \n",
              "TAS1R2                              0.0                           0.0   \n",
              "\n",
              "           TCGA-91-7771-01A-11D-2167-08  TCGA-93-7347-01A-11D-2184-08  \\\n",
              "PLEKHN1                             0.0                           0.0   \n",
              "C1orf200                            0.0                           0.0   \n",
              "LOC649330                           0.0                           0.0   \n",
              "CROCC                               0.0                           0.0   \n",
              "TAS1R2                              0.0                           0.0   \n",
              "\n",
              "           TCGA-93-7348-01A-21D-2036-08  TCGA-95-7039-01A-11D-1945-08  \\\n",
              "PLEKHN1                             0.0                           0.0   \n",
              "C1orf200                            0.0                           0.0   \n",
              "LOC649330                           0.0                           0.0   \n",
              "CROCC                               0.0                           1.0   \n",
              "TAS1R2                              0.0                           0.0   \n",
              "\n",
              "           TCGA-95-7043-01A-11D-1945-08  TCGA-95-7567-01A-11D-2063-08  \\\n",
              "PLEKHN1                             0.0                           0.0   \n",
              "C1orf200                            0.0                           0.0   \n",
              "LOC649330                           0.0                           0.0   \n",
              "CROCC                               0.0                           0.0   \n",
              "TAS1R2                              0.0                           0.0   \n",
              "\n",
              "           TCGA-95-7947-01A-11D-2184-08  TCGA-95-7948-01A-11D-2184-08  \\\n",
              "PLEKHN1                             0.0                           0.0   \n",
              "C1orf200                            0.0                           0.0   \n",
              "LOC649330                           0.0                           0.0   \n",
              "CROCC                               0.0                           0.0   \n",
              "TAS1R2                              0.0                           0.0   \n",
              "\n",
              "           TCGA-97-7546-01A-11D-2036-08  TCGA-97-7552-01A-11D-2036-08  \\\n",
              "PLEKHN1                             0.0                           0.0   \n",
              "C1orf200                            0.0                           0.0   \n",
              "LOC649330                           0.0                           0.0   \n",
              "CROCC                               0.0                           0.0   \n",
              "TAS1R2                              0.0                           0.0   \n",
              "\n",
              "           TCGA-97-7553-01A-21D-2036-08  TCGA-97-7554-01A-11D-2036-08  \\\n",
              "PLEKHN1                             0.0                           0.0   \n",
              "C1orf200                            0.0                           0.0   \n",
              "LOC649330                           0.0                           0.0   \n",
              "CROCC                               0.0                           0.0   \n",
              "TAS1R2                              0.0                           0.0   \n",
              "\n",
              "           TCGA-97-7937-01A-11D-2167-08  TCGA-97-7938-01A-11D-2167-08  \\\n",
              "PLEKHN1                             0.0                           0.0   \n",
              "C1orf200                            0.0                           0.0   \n",
              "LOC649330                           0.0                           1.0   \n",
              "CROCC                               0.0                           0.0   \n",
              "TAS1R2                              1.0                           0.0   \n",
              "\n",
              "           TCGA-97-7941-01A-11D-2184-08  TCGA-99-7458-01A-11D-2036-08  \n",
              "PLEKHN1                             0.0                           0.0  \n",
              "C1orf200                            0.0                           0.0  \n",
              "LOC649330                           0.0                           0.0  \n",
              "CROCC                               0.0                           0.0  \n",
              "TAS1R2                              0.0                           0.0  "
            ]
          },
          "metadata": {
            "tags": []
          },
          "execution_count": 10
        }
      ]
    },
    {
      "cell_type": "markdown",
      "metadata": {
        "id": "7A5XA2hSk6ex",
        "colab_type": "text"
      },
      "source": [
        "# Validation data"
      ]
    },
    {
      "cell_type": "markdown",
      "metadata": {
        "id": "aHNwhm6FuW0k",
        "colab_type": "text"
      },
      "source": [
        "## Imielinski et al. (n=181)\n",
        "\n",
        "The original data has 183 patitents, but after keeping only the nonsynonymous point mutations, it is 181 patients. This matches the 181 patients used in the paper."
      ]
    },
    {
      "cell_type": "code",
      "metadata": {
        "id": "Tnf19QKQAshU",
        "colab_type": "code",
        "colab": {}
      },
      "source": [
        "val183 = pd.read_csv(DATA/'ValidationDataN183.txt',sep=\"\\t\", comment='#', low_memory=False)"
      ],
      "execution_count": 0,
      "outputs": []
    },
    {
      "cell_type": "code",
      "metadata": {
        "id": "jNmHPfFKtXP5",
        "colab_type": "code",
        "colab": {}
      },
      "source": [
        "val183_nonsyn = val183[val183['Variant_Classification'].isin([ 'Nonsense_Mutation', 'Nonstop_Mutation', 'Missense_Mutation'])]\n",
        "val183_poly = val183_nonsyn[val183_nonsyn['Variant_Type'].isin(['SNP', 'DNP', 'TNP'])]"
      ],
      "execution_count": 0,
      "outputs": []
    },
    {
      "cell_type": "code",
      "metadata": {
        "id": "5GmqmVOSt3R_",
        "colab_type": "code",
        "colab": {}
      },
      "source": [
        "# create an empty mutation matrix\n",
        "val183_col = val183_poly['Tumor_Sample_Barcode'].unique()\n",
        "val183_idx = val183_poly['Hugo_Symbol'].unique()\n",
        "val183_mutmtx = pd.DataFrame(np.zeros([len(val183_idx), len(val183_col)]), \n",
        "                             columns=val183_col, index=val183_idx)\n",
        "\n",
        "# fill in the mutation matrix\n",
        "vt = {'SNP': 1, 'DNP': 2, 'TNP': 3}\n",
        "for _, row in val183_poly.iterrows():\n",
        "    val183_mutmtx.loc[row.Hugo_Symbol, row.Tumor_Sample_Barcode] += vt[row.Variant_Type]"
      ],
      "execution_count": 0,
      "outputs": []
    },
    {
      "cell_type": "markdown",
      "metadata": {
        "id": "GoRqWgi8ujvK",
        "colab_type": "text"
      },
      "source": [
        "## Rizvi et al. (n=34)\n",
        "\n",
        "The original data has 34 patients, but some patients left the program or had no overlapping data between the two forms. After removing such invalid patients information, there are 30 patients left. This matches the 30 patients used in the paper."
      ]
    },
    {
      "cell_type": "code",
      "metadata": {
        "id": "X6I8E-zwoLew",
        "colab_type": "code",
        "colab": {}
      },
      "source": [
        "# Mutation data\n",
        "val34 = pd.read_excel(DATA/'ValidationDataN34_mut.xlsx', header=6)"
      ],
      "execution_count": 0,
      "outputs": []
    },
    {
      "cell_type": "code",
      "metadata": {
        "id": "HEfPBD7cW0OW",
        "colab_type": "code",
        "colab": {}
      },
      "source": [
        "# Immuno-therapy response data\n",
        "xlsl = pd.read_excel(DATA/'ValidationDataN34_Immuno_Response.xlsx', header=1, index_col=1, skipfooter=13)"
      ],
      "execution_count": 0,
      "outputs": []
    },
    {
      "cell_type": "code",
      "metadata": {
        "id": "EnLBciiPXyMG",
        "colab_type": "code",
        "colab": {}
      },
      "source": [
        "# following the paper, only keep patients with DCB and NDB\n",
        "therapy = xlsl[xlsl['Durable Clinical Benefit'].isin(['DCB', 'NDB'])]\n",
        "therapy = therapy[therapy.index.isin(val34.Sample.unique())]"
      ],
      "execution_count": 0,
      "outputs": []
    },
    {
      "cell_type": "code",
      "metadata": {
        "id": "bvWylLoCd2JF",
        "colab_type": "code",
        "colab": {}
      },
      "source": [
        "# go back to remove patients without immuno-response data out of mutation data\n",
        "val34_valid = val34[val34.Sample.isin(therapy.index)]"
      ],
      "execution_count": 0,
      "outputs": []
    },
    {
      "cell_type": "code",
      "metadata": {
        "id": "H1n2jTY8y3vi",
        "colab_type": "code",
        "colab": {}
      },
      "source": [
        "# create an empty mutation matrix\n",
        "val34_col = val34_valid['Sample'].unique()\n",
        "val34_idx = val34_valid['Gene'].unique()\n",
        "val34_mutmtx = pd.DataFrame(np.zeros([len(val34_idx), len(val34_col)]), \n",
        "                             columns=val34_col, index=val34_idx)\n",
        "\n",
        "# fill in the mutation matrix\n",
        "for _, row in val34_valid.iterrows():\n",
        "    val34_mutmtx.loc[row.Gene, row.Sample] += 1"
      ],
      "execution_count": 0,
      "outputs": []
    },
    {
      "cell_type": "markdown",
      "metadata": {
        "id": "bGZVFPWqzFBb",
        "colab_type": "text"
      },
      "source": [
        "# For elastic net - Candidate gene selection (CGS) "
      ]
    },
    {
      "cell_type": "markdown",
      "metadata": {
        "id": "Xo1F8G9-WJy9",
        "colab_type": "text"
      },
      "source": [
        "1)\tmutation frequency ≥ 10%,\n",
        "\n",
        "2)\tcoding DNA sequence (CDS) length ≤ 15,000, \n",
        "\n",
        "3)\tBonferroni corrected p-value < 0.05 in Wilcoxon test.\n",
        "\n",
        "Construct a table with each row being a gene and three main columns: Mut_Freq, CDS, P_Value. An additional column EntrezGeneID is kept to be consistant with the paper.\n"
      ]
    },
    {
      "cell_type": "markdown",
      "metadata": {
        "id": "3oUjw5VMqN5C",
        "colab_type": "text"
      },
      "source": [
        "### Mutation frequency"
      ]
    },
    {
      "cell_type": "code",
      "metadata": {
        "id": "NGT0xQW8x9Qp",
        "colab_type": "code",
        "colab": {}
      },
      "source": [
        "# get mutation frequency\n",
        "cgs = pd.DataFrame(index=mutmtx.index, columns=['Mut_Freq'])\n",
        "cgs.Mut_Freq = mutmtx.sum(axis=1)/mutmtx.shape[1]"
      ],
      "execution_count": 0,
      "outputs": []
    },
    {
      "cell_type": "markdown",
      "metadata": {
        "id": "S_FQ1B38qfRu",
        "colab_type": "text"
      },
      "source": [
        "### DNA sequence length"
      ]
    },
    {
      "cell_type": "code",
      "metadata": {
        "id": "PZzqQVQpFPzk",
        "colab_type": "code",
        "colab": {}
      },
      "source": [
        "# get DNA sequence length (CDS)\n",
        "cds_len = pd.read_excel(DATA/'CDS_Length.xlsx')\n",
        "# Remove duplicate rows for easy processing\n",
        "cds_len.drop_duplicates(subset='GeneName', keep='first', inplace=True)\n",
        "# set 'GeneName' column as index\n",
        "cds_len.set_index('GeneName', inplace=True)\n",
        "# the resulting table should be 54070 rows"
      ],
      "execution_count": 0,
      "outputs": []
    },
    {
      "cell_type": "code",
      "metadata": {
        "id": "dTgitBmamhUr",
        "colab_type": "code",
        "colab": {}
      },
      "source": [
        "# trim cds_len to contain only the genes in cgs\n",
        "cds_len_trim = cds_len[cds_len.index.isin(cgs.index)]"
      ],
      "execution_count": 0,
      "outputs": []
    },
    {
      "cell_type": "code",
      "metadata": {
        "id": "MWjCEN1fcnbR",
        "colab_type": "code",
        "colab": {}
      },
      "source": [
        "# sort cds_len_trim indexes (GeneName) to the same order as cgs\n",
        "cds_len_sort = cds_len_trim.reindex(cgs.index)"
      ],
      "execution_count": 0,
      "outputs": []
    },
    {
      "cell_type": "code",
      "metadata": {
        "id": "FlvBwDosUTsx",
        "colab_type": "code",
        "colab": {}
      },
      "source": [
        "# finally, add 'CDS' column to cgs table\n",
        "cgs['CDS'] = cds_len_sort['CDS length']\n",
        "# also keep the EntrezGeneID because the original paper has it\n",
        "cgs['EntrezGeneID'] = cds_len_sort['EntrezGeneID']"
      ],
      "execution_count": 0,
      "outputs": []
    },
    {
      "cell_type": "markdown",
      "metadata": {
        "id": "gcHbBX6rrbqJ",
        "colab_type": "text"
      },
      "source": [
        "### Wilcoxon test"
      ]
    },
    {
      "cell_type": "code",
      "metadata": {
        "colab_type": "code",
        "id": "wEAdJWp0rVgD",
        "colab": {}
      },
      "source": [
        "# use ranksums() function in python, not wilcoxon() function\n",
        "# wilcoxon() function is the non-parametric equivalency of paired-ttest, which\n",
        "# does not apply to this case\n",
        "from scipy.stats import ranksums\n",
        "\n",
        "# For each gene, \n",
        "# one vector contains the mutation loads of patients that have a mutation in that gene;\n",
        "# the other vector contains the mutation loads of petients that do not have a mutation in that gene."
      ],
      "execution_count": 0,
      "outputs": []
    },
    {
      "cell_type": "code",
      "metadata": {
        "id": "uaAieEnYHxks",
        "colab_type": "code",
        "colab": {}
      },
      "source": [
        "# first calculate the mutation load for each patient\n",
        "mut_load = mutmtx.sum(axis=0)"
      ],
      "execution_count": 0,
      "outputs": []
    },
    {
      "cell_type": "code",
      "metadata": {
        "id": "kgFqPKmZMpOh",
        "colab_type": "code",
        "colab": {}
      },
      "source": [
        "# loop through each gene to get muted (pov) and not muted (neg)\n",
        "cgs['P_Value'] = 0   #add a column called P_Value\n",
        "\n",
        "for index, row in mutmtx.iterrows():\n",
        "    pov = np.array(row>0)\n",
        "    neg = np.array(row==0) \n",
        "    cgs.loc[index, 'P_Value'] = ranksums(mut_load[pov], mut_load[neg])[1]  # ranksums returns two values: \n",
        "    # the first is statistics; the second is the p value. We want p value."
      ],
      "execution_count": 0,
      "outputs": []
    },
    {
      "cell_type": "code",
      "metadata": {
        "id": "LQTmi0csddFe",
        "colab_type": "code",
        "outputId": "6651fdce-b3a5-4315-cde4-ba38856b1b5e",
        "colab": {
          "base_uri": "https://localhost:8080/",
          "height": 102
        }
      },
      "source": [
        "# CDS column has '-' in some cells, which are invalid\n",
        "cgs.CDS[cgs.CDS=='-'] = np.nan\n",
        "# remove genes with NaN from cgs\n",
        "cgs_nona = cgs.dropna()"
      ],
      "execution_count": 125,
      "outputs": [
        {
          "output_type": "stream",
          "text": [
            "/usr/local/lib/python3.6/dist-packages/ipykernel_launcher.py:1: SettingWithCopyWarning: \n",
            "A value is trying to be set on a copy of a slice from a DataFrame\n",
            "\n",
            "See the caveats in the documentation: http://pandas.pydata.org/pandas-docs/stable/user_guide/indexing.html#returning-a-view-versus-a-copy\n",
            "  \"\"\"Entry point for launching an IPython kernel.\n"
          ],
          "name": "stderr"
        }
      ]
    },
    {
      "cell_type": "code",
      "metadata": {
        "id": "HyF4z9IQOBTe",
        "colab_type": "code",
        "colab": {}
      },
      "source": [
        "# get selected genes based the three criteria\n",
        "# notice the original author used the Bonferroni-corrected p value\n",
        "selected = cgs_nona.loc[(cgs_nona.Mut_Freq >= 0.1) & \n",
        "                        (cgs_nona.CDS.astype(int) <= 15000) & \n",
        "                        (cgs_nona.P_Value < 0.05/mutmtx.shape[0])]"
      ],
      "execution_count": 0,
      "outputs": []
    },
    {
      "cell_type": "code",
      "metadata": {
        "id": "8tDRn3u6NsR6",
        "colab_type": "code",
        "outputId": "9eb8ab58-c9cd-4b96-d262-4b34426f2d07",
        "colab": {
          "base_uri": "https://localhost:8080/",
          "height": 1000
        }
      },
      "source": [
        "# # print out all selected genes to double check\n",
        "for i in range(len(selected)): \n",
        "     print(selected.index[i])"
      ],
      "execution_count": 127,
      "outputs": [
        {
          "output_type": "stream",
          "text": [
            "FLG\n",
            "TNR\n",
            "RYR2\n",
            "NALCN\n",
            "ZNF208\n",
            "APOB\n",
            "NRXN1\n",
            "FAT4\n",
            "ADAMTS12\n",
            "LAMA2\n",
            "RELN\n",
            "RP1L1\n",
            "CSMD3\n",
            "PTPRD\n",
            "COL11A1\n",
            "HRNR\n",
            "FLG2\n",
            "PAPPA2\n",
            "ASTN1\n",
            "ASPM\n",
            "GPR158\n",
            "PCDH15\n",
            "SORCS1\n",
            "NAV3\n",
            "RYR3\n",
            "DNAH3\n",
            "MYH1\n",
            "DNAH9\n",
            "ZNF536\n",
            "CNTNAP5\n",
            "LRP1B\n",
            "XIRP2\n",
            "LRP2\n",
            "ZNF804A\n",
            "CPS1\n",
            "TSHZ2\n",
            "SI\n",
            "ANK2\n",
            "CDH12\n",
            "CDH10\n",
            "PKHD1\n",
            "HGF\n",
            "MUC17\n",
            "PXDNL\n",
            "ZFHX4\n",
            "PKHD1L1\n",
            "FAM135B\n",
            "SVEP1\n",
            "MXRA5\n",
            "FAM47C\n",
            "PCDH11X\n",
            "TAF1L\n",
            "TPTE\n",
            "CSMD2\n",
            "CACNA1E\n",
            "ZNF831\n",
            "FBN2\n",
            "DOCK2\n",
            "SORCS3\n",
            "ASXL3\n",
            "CNTNAP2\n",
            "COL3A1\n",
            "PRDM9\n",
            "PRUNE2\n",
            "PLCB1\n"
          ],
          "name": "stdout"
        }
      ]
    },
    {
      "cell_type": "code",
      "metadata": {
        "id": "aaT7y4bNiUA-",
        "colab_type": "code",
        "outputId": "ce8b802c-7fbd-494c-8de1-acaca414594f",
        "colab": {
          "base_uri": "https://localhost:8080/",
          "height": 187
        }
      },
      "source": [
        "# double check selected genes all exist in the small set of validation data\n",
        "np.sort(selected.index[selected.index.isin(val34_mutmtx.index.unique())])"
      ],
      "execution_count": 128,
      "outputs": [
        {
          "output_type": "execute_result",
          "data": {
            "text/plain": [
              "array(['ADAMTS12', 'ANK2', 'APOB', 'ASPM', 'ASTN1', 'ASXL3', 'CACNA1E',\n",
              "       'CDH10', 'CDH12', 'CNTNAP2', 'CNTNAP5', 'COL11A1', 'COL3A1',\n",
              "       'CPS1', 'CSMD2', 'CSMD3', 'DNAH3', 'DNAH9', 'DOCK2', 'FAM135B',\n",
              "       'FAM47C', 'FAT4', 'FBN2', 'FLG', 'FLG2', 'GPR158', 'HGF', 'HRNR',\n",
              "       'LAMA2', 'LRP1B', 'LRP2', 'MUC17', 'MXRA5', 'MYH1', 'NALCN',\n",
              "       'NAV3', 'NRXN1', 'PAPPA2', 'PCDH11X', 'PCDH15', 'PKHD1', 'PKHD1L1',\n",
              "       'PLCB1', 'PRDM9', 'PRUNE2', 'PTPRD', 'PXDNL', 'RELN', 'RP1L1',\n",
              "       'RYR2', 'RYR3', 'SI', 'SORCS1', 'SORCS3', 'SVEP1', 'TAF1L', 'TNR',\n",
              "       'TPTE', 'TSHZ2', 'XIRP2', 'ZFHX4', 'ZNF208', 'ZNF536', 'ZNF804A',\n",
              "       'ZNF831'], dtype=object)"
            ]
          },
          "metadata": {
            "tags": []
          },
          "execution_count": 128
        }
      ]
    },
    {
      "cell_type": "code",
      "metadata": {
        "id": "_DGQQd64jyTR",
        "colab_type": "code",
        "outputId": "2b2beb62-3fbb-4954-968e-b474a5b4f64f",
        "colab": {
          "base_uri": "https://localhost:8080/",
          "height": 34
        }
      },
      "source": [
        "len(selected.index[selected.index.isin(val34_mutmtx.index.unique())])"
      ],
      "execution_count": 129,
      "outputs": [
        {
          "output_type": "execute_result",
          "data": {
            "text/plain": [
              "65"
            ]
          },
          "metadata": {
            "tags": []
          },
          "execution_count": 129
        }
      ]
    },
    {
      "cell_type": "code",
      "metadata": {
        "id": "A5jWrCeSillV",
        "colab_type": "code",
        "outputId": "d200d268-1b60-4673-fa5a-fd6ef315c804",
        "colab": {
          "base_uri": "https://localhost:8080/",
          "height": 187
        }
      },
      "source": [
        "np.sort(selected.index)"
      ],
      "execution_count": 130,
      "outputs": [
        {
          "output_type": "execute_result",
          "data": {
            "text/plain": [
              "array(['ADAMTS12', 'ANK2', 'APOB', 'ASPM', 'ASTN1', 'ASXL3', 'CACNA1E',\n",
              "       'CDH10', 'CDH12', 'CNTNAP2', 'CNTNAP5', 'COL11A1', 'COL3A1',\n",
              "       'CPS1', 'CSMD2', 'CSMD3', 'DNAH3', 'DNAH9', 'DOCK2', 'FAM135B',\n",
              "       'FAM47C', 'FAT4', 'FBN2', 'FLG', 'FLG2', 'GPR158', 'HGF', 'HRNR',\n",
              "       'LAMA2', 'LRP1B', 'LRP2', 'MUC17', 'MXRA5', 'MYH1', 'NALCN',\n",
              "       'NAV3', 'NRXN1', 'PAPPA2', 'PCDH11X', 'PCDH15', 'PKHD1', 'PKHD1L1',\n",
              "       'PLCB1', 'PRDM9', 'PRUNE2', 'PTPRD', 'PXDNL', 'RELN', 'RP1L1',\n",
              "       'RYR2', 'RYR3', 'SI', 'SORCS1', 'SORCS3', 'SVEP1', 'TAF1L', 'TNR',\n",
              "       'TPTE', 'TSHZ2', 'XIRP2', 'ZFHX4', 'ZNF208', 'ZNF536', 'ZNF804A',\n",
              "       'ZNF831'], dtype=object)"
            ]
          },
          "metadata": {
            "tags": []
          },
          "execution_count": 130
        }
      ]
    },
    {
      "cell_type": "code",
      "metadata": {
        "id": "yIudJJz1j71s",
        "colab_type": "code",
        "outputId": "5e5c192b-aa07-4e3c-cfd5-f5d100caf458",
        "colab": {
          "base_uri": "https://localhost:8080/",
          "height": 34
        }
      },
      "source": [
        "len(selected.index)"
      ],
      "execution_count": 131,
      "outputs": [
        {
          "output_type": "execute_result",
          "data": {
            "text/plain": [
              "65"
            ]
          },
          "metadata": {
            "tags": []
          },
          "execution_count": 131
        }
      ]
    },
    {
      "cell_type": "markdown",
      "metadata": {
        "id": "O0FI1JchWYCP",
        "colab_type": "text"
      },
      "source": [
        "# Construction of the mutation load estimation model\n",
        "1. Data processing\n",
        "2. Feature selection by Lasso and train a linear regression model\n",
        "3. Lasso regression based on the pre-filtered features\n",
        "4. Elastic net based on the pre-filtered features\n",
        "\n"
      ]
    },
    {
      "cell_type": "markdown",
      "metadata": {
        "id": "JIckON1Lqisg",
        "colab_type": "text"
      },
      "source": [
        "## Data processing"
      ]
    },
    {
      "cell_type": "markdown",
      "metadata": {
        "id": "iiROP8cDsKuv",
        "colab_type": "text"
      },
      "source": [
        "### For Lasso feature selection\n",
        "All the genes shared between the training data and the testing data are used for feature selection"
      ]
    },
    {
      "cell_type": "code",
      "metadata": {
        "id": "RwkjUl0Y8p9A",
        "colab_type": "code",
        "colab": {
          "base_uri": "https://localhost:8080/",
          "height": 34
        },
        "outputId": "260c7df6-b2c0-4bbc-e8cc-a1ff8b74a731"
      },
      "source": [
        "#mutation matrix with genes overlapping the test data\n",
        "mutmtx_overlap = mutmtx[mutmtx.index.isin(val183_mutmtx.index) & \n",
        "                        mutmtx.index.isin(val34_mutmtx.index)]\n",
        "\n",
        "# define the mutation matrix that contains shared genes\n",
        "x = mutmtx_overlap.transpose() \n",
        "y = mut_load.transpose()\n",
        "\n",
        "#for the feature selection by Lasso\n",
        "x_r = x\n",
        "model_gene=list(x_r.columns)\n",
        "print(\"Number of genes used in the model:\", len(model_gene))\n",
        "\n",
        "#validation data processing\n",
        "#x_val183\n",
        "val183_model = val183_mutmtx[val183_mutmtx.index.isin(model_gene)]\n",
        "val183_model = val183_model.reindex(x_r.columns)\n",
        "val183_model = val183_model.transpose()\n",
        "#x_val34\n",
        "val34_model = val34_mutmtx[val34_mutmtx.index.isin(model_gene)]\n",
        "val34_model = val34_model.reindex(x_r.columns)\n",
        "val34_model = val34_model.transpose()\n",
        "#y_val183\n",
        "val183_mut_load = val183_mutmtx.sum(axis=0)\n",
        "#y_val34\n",
        "val34_mut_load = val34_mutmtx.sum(axis=0)\n",
        "\n",
        "# concatenate the matrix with model genes and patients. x\n",
        "concat_model = pd.concat([val183_model, val34_model])\n",
        "\n",
        "# concatenate the mutation load information. y\n",
        "concat_mut_load = pd.concat([val183_mut_load, val34_mut_load])\n"
      ],
      "execution_count": 115,
      "outputs": [
        {
          "output_type": "stream",
          "text": [
            "Number of genes used in the model: 3668\n"
          ],
          "name": "stdout"
        }
      ]
    },
    {
      "cell_type": "markdown",
      "metadata": {
        "id": "5mL3DHh2s5PN",
        "colab_type": "text"
      },
      "source": [
        "### For elastic net \n",
        "All the 65 genes filtered according to the criteria in the paper are used to train a Lasso regression model and a elastic net model."
      ]
    },
    {
      "cell_type": "code",
      "metadata": {
        "id": "G4XJsxiWtiuA",
        "colab_type": "code",
        "colab": {
          "base_uri": "https://localhost:8080/",
          "height": 34
        },
        "outputId": "765ce594-5708-48c6-cc9e-28385ca8128c"
      },
      "source": [
        "x = mutmtx[mutmtx.index.isin(selected.index)].transpose() # mutation matrix with only selected genes\n",
        "y = mut_load.transpose()\n",
        "\n",
        "#define genes for the test data\n",
        "x_r = x\n",
        "model_gene=list(x_r.columns)\n",
        "print(\"Number of genes used in the model:\", len(model_gene))\n",
        "\n",
        "#validation data processing\n",
        "#x_val183\n",
        "val183_model = val183_mutmtx[val183_mutmtx.index.isin(model_gene)]\n",
        "val183_model = val183_model.reindex(x_r.columns)\n",
        "val183_model = val183_model.transpose()\n",
        "#x_val34\n",
        "val34_model = val34_mutmtx[val34_mutmtx.index.isin(model_gene)]\n",
        "val34_model = val34_model.reindex(x_r.columns)\n",
        "val34_model = val34_model.transpose()\n",
        "#y_val183\n",
        "val183_mut_load = val183_mutmtx.sum(axis=0)\n",
        "#y_val34\n",
        "val34_mut_load = val34_mutmtx.sum(axis=0)\n",
        "\n",
        "# concatenate the matrix with model genes and patients. x\n",
        "concat_model = pd.concat([val183_model, val34_model])\n",
        "\n",
        "# concatenate the mutation load information. y\n",
        "concat_mut_load = pd.concat([val183_mut_load, val34_mut_load])\n"
      ],
      "execution_count": 133,
      "outputs": [
        {
          "output_type": "stream",
          "text": [
            "Number of genes used in the model: 65\n"
          ],
          "name": "stdout"
        }
      ]
    },
    {
      "cell_type": "markdown",
      "metadata": {
        "id": "kp6G76FSvrJ9",
        "colab_type": "text"
      },
      "source": [
        "# **Model training**"
      ]
    },
    {
      "cell_type": "markdown",
      "metadata": {
        "id": "4AAVt5ASvwZW",
        "colab_type": "text"
      },
      "source": [
        "## Define functions for model evaluation"
      ]
    },
    {
      "cell_type": "code",
      "metadata": {
        "id": "rIpMUeQnbT-Q",
        "colab_type": "code",
        "colab": {}
      },
      "source": [
        "def performance_training(model,x,y):\n",
        "  import matplotlib.pyplot as plt\n",
        "  from sklearn.metrics import r2_score\n",
        "\n",
        "  y_pred = model.predict(x)\n",
        "\n",
        "  r2=model.score(x,y)\n",
        "\n",
        "  # This corresponds to Fig.2 in the supplementary material (NOT Fig.2 in the paper)\n",
        "  fig, ax = plt.subplots(dpi=150, figsize=(5, 5))\n",
        "  plt.plot([0, 1400], [0, 1400], linestyle='-', color='gray')\n",
        "  plt.plot(y, y_pred, '.')\n",
        "  ax.text(50, 1200, f\"$R^2$={r2}\")\n",
        "  plt.xlabel('Actual mutation load')\n",
        "  plt.ylabel('Estimated mutation load')\n",
        "  plt.axis([0, 1400, 0, 1400])"
      ],
      "execution_count": 0,
      "outputs": []
    },
    {
      "cell_type": "code",
      "metadata": {
        "id": "fub4KR2BbYus",
        "colab_type": "code",
        "colab": {}
      },
      "source": [
        "def performance_validation(model):\n",
        "  \n",
        "  import matplotlib.pyplot as plt\n",
        "  from sklearn.metrics import r2_score\n",
        " \n",
        "  concat_model = pd.concat([val183_model, val34_model])\n",
        "  concat_pred = model.predict(concat_model)\n",
        "  concat_r2 = r2_score(concat_mut_load, concat_pred)\n",
        "  print('R2 score of concatenated testing data is {}'.format(round(concat_r2,3)))\n",
        "\n",
        "  val34_pred=model.predict(val34_model)\n",
        "  print('R2 score of val34 data is {}'.format(round(r2_score(val34_mut_load,val34_pred),3)))\n",
        "\n",
        "  val183_pred=model.predict(val183_model)\n",
        "  print('R2 score of val183 data is {}'.format(round(r2_score(val183_mut_load,val183_pred),3)))\n",
        "\n",
        "  fig, ax = plt.subplots(dpi=150, figsize=(5, 5))\n",
        "  plt.plot([0, 3000], [0, 3000], linestyle='-', color='gray')\n",
        "  plt.plot(val183_mut_load, val183_pred, '.', color='orange', label='Imielinski et al.')\n",
        "  plt.plot(val34_mut_load, val34_pred, '.', color='purple', label='Rizvi et al.')\n",
        "  ax.text(100, 2400, f\"$R^2$={round(concat_r2, 4)}\")\n",
        "  plt.legend(loc='upper left')\n",
        "  plt.xlabel('Actual mutation load')\n",
        "  plt.ylabel('Estimated mutation load')\n",
        "  plt.axis([0, 3000, 0, 3000])\n"
      ],
      "execution_count": 0,
      "outputs": []
    },
    {
      "cell_type": "markdown",
      "metadata": {
        "colab_type": "text",
        "id": "VtGfJGP-AIA3"
      },
      "source": [
        "## **Lasso + Linear Regression**"
      ]
    },
    {
      "cell_type": "markdown",
      "metadata": {
        "id": "NJPtC-6Uw3Y6",
        "colab_type": "text"
      },
      "source": [
        "### Select top 25 features by Lasso"
      ]
    },
    {
      "cell_type": "code",
      "metadata": {
        "id": "YW3wPWlNhG4g",
        "colab_type": "code",
        "colab": {}
      },
      "source": [
        "# model training\n",
        "from sklearn.linear_model import LassoCV\n",
        "model_lasso2=LassoCV(alphas = [10],cv=5).fit(x, y)\n",
        "model_lasso2.alpha_"
      ],
      "execution_count": 0,
      "outputs": []
    },
    {
      "cell_type": "code",
      "metadata": {
        "id": "anJOZMt_AEpD",
        "colab_type": "code",
        "colab": {
          "base_uri": "https://localhost:8080/",
          "height": 102
        },
        "outputId": "bc2e87dd-7a0f-42a1-d0cc-8194be7b39d8"
      },
      "source": [
        "#select top 25 features\n",
        "coef = pd.Series(model_lasso2.coef_, index = x.columns)\n",
        "imp_coef = coef.sort_values(ascending=True).tail(25)\n",
        "imp_coef.index"
      ],
      "execution_count": 78,
      "outputs": [
        {
          "output_type": "execute_result",
          "data": {
            "text/plain": [
              "Index(['DNAH9', 'RYR2', 'XIRP2', 'PTPRD', 'HRNR', 'PCLO', 'LTBP1', 'SORCS1',\n",
              "       'FLG2', 'USH2A', 'DMD', 'MUC17', 'TRRAP', 'ZFHX4', 'CSMD2', 'MUC16',\n",
              "       'RELN', 'PXDNL', 'NRXN1', 'FLG', 'NAV3', 'CSMD3', 'LRP1B', 'TTN',\n",
              "       'ADAMTS12'],\n",
              "      dtype='object')"
            ]
          },
          "metadata": {
            "tags": []
          },
          "execution_count": 78
        }
      ]
    },
    {
      "cell_type": "code",
      "metadata": {
        "id": "Bl4eDj_g80B1",
        "colab_type": "code",
        "outputId": "53aef032-f47a-45d5-df46-cc603cd61de1",
        "colab": {
          "base_uri": "https://localhost:8080/",
          "height": 624
        }
      },
      "source": [
        "#The coefficients of features\n",
        "import matplotlib\n",
        "import matplotlib.pyplot as plt\n",
        "matplotlib.rcParams['figure.figsize'] = (8.0, 10.0)\n",
        "imp_coef.plot( kind = \"barh\")\n",
        "plt.title(\"Coefficients in the Lasso Model\")   "
      ],
      "execution_count": 79,
      "outputs": [
        {
          "output_type": "execute_result",
          "data": {
            "text/plain": [
              "Text(0.5, 1.0, 'Coefficients in the Lasso Model')"
            ]
          },
          "metadata": {
            "tags": []
          },
          "execution_count": 79
        },
        {
          "output_type": "display_data",
          "data": {
            "image/png": "[encoded data removed]",
            "text/plain": [
              "<Figure size 576x720 with 1 Axes>"
            ]
          },
          "metadata": {
            "tags": []
          }
        }
      ]
    },
    {
      "cell_type": "markdown",
      "metadata": {
        "id": "Q0xrfhyLwjC5",
        "colab_type": "text"
      },
      "source": [
        "### Train a linear regression model with top 25 genes selected"
      ]
    },
    {
      "cell_type": "code",
      "metadata": {
        "id": "2aj27U5_VPGF",
        "colab_type": "code",
        "colab": {}
      },
      "source": [
        "#create a mutation matrix that contains only the gene selected\n",
        "x_r = mutmtx_overlap[mutmtx_overlap.index.isin(imp_coef.index)].transpose() # each column should be a feature\n",
        "y = mut_load.transpose()"
      ],
      "execution_count": 0,
      "outputs": []
    },
    {
      "cell_type": "code",
      "metadata": {
        "id": "ap-C7BKcd4T3",
        "colab_type": "code",
        "outputId": "6172dd46-26a0-4a85-b2ce-09eaf2b2ebcf",
        "colab": {
          "base_uri": "https://localhost:8080/",
          "height": 238
        }
      },
      "source": [
        "#train a linear model with the gene selected\n",
        "from sklearn.linear_model import LinearRegression\n",
        "estimator_r = LinearRegression()\n",
        "estimator_r.fit(x_r, y)\n",
        "model_gene = imp_coef.index\n",
        "print(\"Genes and parameters used in mutation load estimation model\")\n",
        "print(\"Number of genes used in the model:\", len(model_gene))\n",
        "val183_model = val183_mutmtx[val183_mutmtx.index.isin(model_gene)]\n",
        "val183_model = val183_model.reindex(x_r.columns)\n",
        "val183_model = val183_model.transpose()\n",
        "val183_model.head()\n",
        "val34_model = val34_mutmtx[val34_mutmtx.index.isin(model_gene)]\n",
        "val34_model = val34_model.reindex(x_r.columns)\n",
        "val34_model = val34_model.transpose()\n",
        "val34_model.head()\n",
        "val183_mut_load = val183_mutmtx.sum(axis=0)\n",
        "val183_mut_load\n",
        "val34_mut_load = val34_mutmtx.sum(axis=0)\n",
        "val34_mut_load[:10]"
      ],
      "execution_count": 81,
      "outputs": [
        {
          "output_type": "stream",
          "text": [
            "Genes and parameters used in mutation load estimation model\n",
            "Number of genes used in the model: 25\n"
          ],
          "name": "stdout"
        },
        {
          "output_type": "execute_result",
          "data": {
            "text/plain": [
              "AL4602      244.0\n",
              "AU5884       34.0\n",
              "BL3403      148.0\n",
              "CA9903      324.0\n",
              "DI6359      228.0\n",
              "DM123062    134.0\n",
              "GR0134       56.0\n",
              "GR4788      170.0\n",
              "HE3202      746.0\n",
              "JB112852    190.0\n",
              "dtype: float64"
            ]
          },
          "metadata": {
            "tags": []
          },
          "execution_count": 81
        }
      ]
    },
    {
      "cell_type": "code",
      "metadata": {
        "id": "VFDwuN5Kgc97",
        "colab_type": "code",
        "outputId": "5ef78d69-0289-49f5-fa89-ac70ef6225b7",
        "colab": {
          "base_uri": "https://localhost:8080/",
          "height": 405
        }
      },
      "source": [
        "#let's look at the residuals as well:\n",
        "matplotlib.rcParams['figure.figsize'] = (6.0, 6.0)\n",
        "preds = pd.DataFrame({\"preds\":estimator_r.predict(x_r), \"true\":y}) \n",
        "preds[\"residuals\"] = preds[\"true\"] - preds[\"preds\"]\n",
        "preds.plot(x = \"preds\", y = \"residuals\",kind = \"scatter\")"
      ],
      "execution_count": 82,
      "outputs": [
        {
          "output_type": "execute_result",
          "data": {
            "text/plain": [
              "<matplotlib.axes._subplots.AxesSubplot at 0x7f71a6e72320>"
            ]
          },
          "metadata": {
            "tags": []
          },
          "execution_count": 82
        },
        {
          "output_type": "display_data",
          "data": {
            "image/png": "[encoded data removed]",
            "text/plain": [
              "<Figure size 432x432 with 1 Axes>"
            ]
          },
          "metadata": {
            "tags": []
          }
        }
      ]
    },
    {
      "cell_type": "markdown",
      "metadata": {
        "id": "2RkQR8bbw_w7",
        "colab_type": "text"
      },
      "source": [
        "### Model evaluation"
      ]
    },
    {
      "cell_type": "code",
      "metadata": {
        "id": "78Gn6x7IeTq8",
        "colab_type": "code",
        "outputId": "e6c238d4-bed2-4fe1-afaa-b5a47edcb213",
        "colab": {
          "base_uri": "https://localhost:8080/",
          "height": 684
        }
      },
      "source": [
        "performance_training(estimator_r,x_r,y)"
      ],
      "execution_count": 83,
      "outputs": [
        {
          "output_type": "display_data",
          "data": {
            "image/png": "[encoded data removed]",
            "text/plain": [
              "<Figure size 750x750 with 1 Axes>"
            ]
          },
          "metadata": {
            "tags": []
          }
        }
      ]
    },
    {
      "cell_type": "code",
      "metadata": {
        "id": "YhTb6klAebKH",
        "colab_type": "code",
        "outputId": "91e652de-c46f-44cf-fed7-f82b579b54b8",
        "colab": {
          "base_uri": "https://localhost:8080/",
          "height": 735
        }
      },
      "source": [
        "performance_validation(estimator_r)"
      ],
      "execution_count": 84,
      "outputs": [
        {
          "output_type": "stream",
          "text": [
            "R2 score of concatenated testing data is 0.855\n",
            "R2 score of val34 data is 0.703\n",
            "R2 score of val183 data is 0.869\n"
          ],
          "name": "stdout"
        },
        {
          "output_type": "display_data",
          "data": {
            "image/png": "[encoded data removed]",
            "text/plain": [
              "<Figure size 750x750 with 1 Axes>"
            ]
          },
          "metadata": {
            "tags": []
          }
        }
      ]
    },
    {
      "cell_type": "markdown",
      "metadata": {
        "colab_type": "text",
        "id": "TEEYxyIuNESs"
      },
      "source": [
        "### Progression-free survial (Fig.2 (b))\n"
      ]
    },
    {
      "cell_type": "code",
      "metadata": {
        "colab_type": "code",
        "id": "iFsMaGySNESs",
        "colab": {}
      },
      "source": [
        "val34_pred=estimator_r.predict(val34_model)"
      ],
      "execution_count": 0,
      "outputs": []
    },
    {
      "cell_type": "code",
      "metadata": {
        "colab_type": "code",
        "id": "pKfSrfzANESt",
        "colab": {}
      },
      "source": [
        "# crease a dataframe to store info for pfs plot\n",
        "val34_df = pd.DataFrame(val34_pred, index=val34_mutmtx.columns, columns=['MutLoad_Pred'])\n",
        "val34_df['PFS'] = therapy['PFS (mos)']\n",
        "val34_df['Event'] = therapy['Event']\n",
        "val34_df = val34_df.sort_values(by=['MutLoad_Pred'])\n",
        "val34_df = val34_df.dropna()"
      ],
      "execution_count": 0,
      "outputs": []
    },
    {
      "cell_type": "code",
      "metadata": {
        "colab_type": "code",
        "outputId": "519c751f-e8a8-4ba8-985b-63730fa48b86",
        "id": "3bsqQrRuNESu",
        "colab": {
          "base_uri": "https://localhost:8080/",
          "height": 34
        }
      },
      "source": [
        "# define high and low estimated mutation load\n",
        "high_idx = val34_df.MutLoad_Pred>=150\n",
        "# The authors used log-rank test for this step (see Materials and Methods - Statistical analaysis)\n",
        "from lifelines.statistics import logrank_test\n",
        "sta_result = logrank_test(val34_df.PFS[high_idx], val34_df.PFS[~high_idx])\n",
        "sta_result.p_value"
      ],
      "execution_count": 89,
      "outputs": [
        {
          "output_type": "execute_result",
          "data": {
            "text/plain": [
              "0.12516720758836528"
            ]
          },
          "metadata": {
            "tags": []
          },
          "execution_count": 89
        }
      ]
    },
    {
      "cell_type": "code",
      "metadata": {
        "colab_type": "code",
        "outputId": "b4cd1c75-e1fe-46bd-e0f9-4b62fd0841de",
        "id": "hcvYa_roNESv",
        "colab": {
          "base_uri": "https://localhost:8080/",
          "height": 693
        }
      },
      "source": [
        "from lifelines import KaplanMeierFitter\n",
        "import matplotlib.pyplot as plt\n",
        "\n",
        "fig, ax = plt.subplots(dpi=150, figsize=(5, 5))\n",
        "ax.text(20, 0.85, f\"P={round(sta_result.p_value, 4)}\")\n",
        "kmf = KaplanMeierFitter()\n",
        "kmf.fit(val34_df.PFS[high_idx], val34_df.Event[high_idx], label='High estimated mutation load')\n",
        "kmf.plot(ax=ax)\n",
        "kmf.fit(val34_df.PFS[~high_idx], val34_df.Event[~high_idx], label='Low estimated mutation load')\n",
        "kmf.plot(ax=ax)\n",
        "plt.xlabel('Months')\n",
        "plt.ylabel('Progression-free survival (%)')"
      ],
      "execution_count": 90,
      "outputs": [
        {
          "output_type": "execute_result",
          "data": {
            "text/plain": [
              "Text(0, 0.5, 'Progression-free survival (%)')"
            ]
          },
          "metadata": {
            "tags": []
          },
          "execution_count": 90
        },
        {
          "output_type": "display_data",
          "data": {
            "image/png": "[encoded data removed]",
            "text/plain": [
              "<Figure size 750x750 with 1 Axes>"
            ]
          },
          "metadata": {
            "tags": []
          }
        }
      ]
    },
    {
      "cell_type": "markdown",
      "metadata": {
        "colab_type": "text",
        "id": "IDc5AJAgNESw"
      },
      "source": [
        "### Cox proportional-hazards model\n",
        "Compare Cox proportional-hazards between using acutual mutation load and mutation load predicted by our model."
      ]
    },
    {
      "cell_type": "code",
      "metadata": {
        "colab_type": "code",
        "outputId": "f2cb69f0-aeae-4e84-a3cd-44c977ea10f7",
        "id": "fCKdldGMNESw",
        "colab": {
          "base_uri": "https://localhost:8080/",
          "height": 97
        }
      },
      "source": [
        "# CoxPH summary based on predicted mutation load\n",
        "from lifelines import CoxPHFitter\n",
        "cph = CoxPHFitter()\n",
        "cph.fit(val34_df, duration_col='PFS', event_col='Event')\n",
        "cph_sum = cph.summary\n",
        "cph_sum"
      ],
      "execution_count": 91,
      "outputs": [
        {
          "output_type": "execute_result",
          "data": {
            "text/html": [
              "<div>\n",
              "<style scoped>\n",
              "    .dataframe tbody tr th:only-of-type {\n",
              "        vertical-align: middle;\n",
              "    }\n",
              "\n",
              "    .dataframe tbody tr th {\n",
              "        vertical-align: top;\n",
              "    }\n",
              "\n",
              "    .dataframe thead th {\n",
              "        text-align: right;\n",
              "    }\n",
              "</style>\n",
              "<table border=\"1\" class=\"dataframe\">\n",
              "  <thead>\n",
              "    <tr style=\"text-align: right;\">\n",
              "      <th></th>\n",
              "      <th>coef</th>\n",
              "      <th>exp(coef)</th>\n",
              "      <th>se(coef)</th>\n",
              "      <th>coef lower 95%</th>\n",
              "      <th>coef upper 95%</th>\n",
              "      <th>exp(coef) lower 95%</th>\n",
              "      <th>exp(coef) upper 95%</th>\n",
              "      <th>z</th>\n",
              "      <th>p</th>\n",
              "      <th>-log2(p)</th>\n",
              "    </tr>\n",
              "  </thead>\n",
              "  <tbody>\n",
              "    <tr>\n",
              "      <th>MutLoad_Pred</th>\n",
              "      <td>-0.004825</td>\n",
              "      <td>0.995187</td>\n",
              "      <td>0.002282</td>\n",
              "      <td>-0.009296</td>\n",
              "      <td>-0.000353</td>\n",
              "      <td>0.990747</td>\n",
              "      <td>0.999647</td>\n",
              "      <td>-2.114629</td>\n",
              "      <td>0.034462</td>\n",
              "      <td>4.858867</td>\n",
              "    </tr>\n",
              "  </tbody>\n",
              "</table>\n",
              "</div>"
            ],
            "text/plain": [
              "                  coef  exp(coef)  se(coef)  coef lower 95%  coef upper 95%  \\\n",
              "MutLoad_Pred -0.004825   0.995187  0.002282       -0.009296       -0.000353   \n",
              "\n",
              "              exp(coef) lower 95%  exp(coef) upper 95%         z         p  \\\n",
              "MutLoad_Pred             0.990747             0.999647 -2.114629  0.034462   \n",
              "\n",
              "              -log2(p)  \n",
              "MutLoad_Pred  4.858867  "
            ]
          },
          "metadata": {
            "tags": []
          },
          "execution_count": 91
        }
      ]
    },
    {
      "cell_type": "code",
      "metadata": {
        "colab_type": "code",
        "id": "m8rKI1kbNESx",
        "colab": {}
      },
      "source": [
        "val34_true = val34_df.drop(['MutLoad_Pred'], axis=1)\n",
        "val34_true['MutLoad'] = val34_mut_load"
      ],
      "execution_count": 0,
      "outputs": []
    },
    {
      "cell_type": "code",
      "metadata": {
        "colab_type": "code",
        "outputId": "7fdb79c4-a0e4-4928-b6d9-b6ed49035799",
        "id": "hy0noz7JNESx",
        "colab": {
          "base_uri": "https://localhost:8080/",
          "height": 97
        }
      },
      "source": [
        "# CoxPH summary based on actual mutation load\n",
        "cph_true = CoxPHFitter()\n",
        "cph_true.fit(val34_true, duration_col='PFS', event_col='Event')\n",
        "cph_true.summary"
      ],
      "execution_count": 93,
      "outputs": [
        {
          "output_type": "execute_result",
          "data": {
            "text/html": [
              "<div>\n",
              "<style scoped>\n",
              "    .dataframe tbody tr th:only-of-type {\n",
              "        vertical-align: middle;\n",
              "    }\n",
              "\n",
              "    .dataframe tbody tr th {\n",
              "        vertical-align: top;\n",
              "    }\n",
              "\n",
              "    .dataframe thead th {\n",
              "        text-align: right;\n",
              "    }\n",
              "</style>\n",
              "<table border=\"1\" class=\"dataframe\">\n",
              "  <thead>\n",
              "    <tr style=\"text-align: right;\">\n",
              "      <th></th>\n",
              "      <th>coef</th>\n",
              "      <th>exp(coef)</th>\n",
              "      <th>se(coef)</th>\n",
              "      <th>coef lower 95%</th>\n",
              "      <th>coef upper 95%</th>\n",
              "      <th>exp(coef) lower 95%</th>\n",
              "      <th>exp(coef) upper 95%</th>\n",
              "      <th>z</th>\n",
              "      <th>p</th>\n",
              "      <th>-log2(p)</th>\n",
              "    </tr>\n",
              "  </thead>\n",
              "  <tbody>\n",
              "    <tr>\n",
              "      <th>MutLoad</th>\n",
              "      <td>-0.003968</td>\n",
              "      <td>0.99604</td>\n",
              "      <td>0.001688</td>\n",
              "      <td>-0.007276</td>\n",
              "      <td>-0.00066</td>\n",
              "      <td>0.99275</td>\n",
              "      <td>0.99934</td>\n",
              "      <td>-2.350971</td>\n",
              "      <td>0.018725</td>\n",
              "      <td>5.738928</td>\n",
              "    </tr>\n",
              "  </tbody>\n",
              "</table>\n",
              "</div>"
            ],
            "text/plain": [
              "             coef  exp(coef)  se(coef)  coef lower 95%  coef upper 95%  \\\n",
              "MutLoad -0.003968    0.99604  0.001688       -0.007276        -0.00066   \n",
              "\n",
              "         exp(coef) lower 95%  exp(coef) upper 95%         z         p  \\\n",
              "MutLoad              0.99275              0.99934 -2.350971  0.018725   \n",
              "\n",
              "         -log2(p)  \n",
              "MutLoad  5.738928  "
            ]
          },
          "metadata": {
            "tags": []
          },
          "execution_count": 93
        }
      ]
    },
    {
      "cell_type": "markdown",
      "metadata": {
        "colab_type": "text",
        "id": "1VBllSIyNESy"
      },
      "source": [
        "### ROC curve (Fig.2(c))\n",
        "\n",
        "ROC curve is used to determine the discrimination threshold of DCB (durable clinical benefit) and NDB (no durable benefit)."
      ]
    },
    {
      "cell_type": "code",
      "metadata": {
        "colab_type": "code",
        "id": "cdc-1pseNESy",
        "colab": {}
      },
      "source": [
        "val34_roc = pd.DataFrame(val34_pred, index=val34_mutmtx.columns, columns=['MutLoad_Pred'])\n",
        "val34_roc['MutLoad'] = val34_mut_load\n",
        "val34_roc['DCB'] = therapy['Durable Clinical Benefit']\n",
        "val34_roc.DCB[val34_roc.DCB=='NR'] = np.nan\n",
        "val34_roc = val34_roc.dropna()\n",
        "val34_roc['y_score'] = val34_roc.MutLoad_Pred/max(val34_roc.MutLoad_Pred)\n",
        "val34_roc.DCB = val34_roc.DCB=='DCB'"
      ],
      "execution_count": 0,
      "outputs": []
    },
    {
      "cell_type": "code",
      "metadata": {
        "colab_type": "code",
        "outputId": "419924ca-51a1-4841-bcd6-f70479f420ae",
        "id": "Z58rG3j4NESy",
        "colab": {
          "base_uri": "https://localhost:8080/",
          "height": 289
        }
      },
      "source": [
        "from sklearn.metrics import roc_curve\n",
        "fpr, tpr, thresholds = roc_curve(val34_roc.DCB, val34_roc.y_score)\n",
        "np.c_[fpr, tpr, thresholds]"
      ],
      "execution_count": 95,
      "outputs": [
        {
          "output_type": "execute_result",
          "data": {
            "text/plain": [
              "array([[0.        , 0.        , 2.        ],\n",
              "       [0.        , 0.07142857, 1.        ],\n",
              "       [0.        , 0.14285714, 0.79167162],\n",
              "       [0.0625    , 0.14285714, 0.63712312],\n",
              "       [0.0625    , 0.42857143, 0.29763772],\n",
              "       [0.125     , 0.42857143, 0.27112965],\n",
              "       [0.125     , 0.71428571, 0.23429485],\n",
              "       [0.3125    , 0.71428571, 0.17883515],\n",
              "       [0.3125    , 0.78571429, 0.16966839],\n",
              "       [0.375     , 0.78571429, 0.16038926],\n",
              "       [0.375     , 1.        , 0.1332441 ],\n",
              "       [0.4375    , 1.        , 0.11052488],\n",
              "       [0.5625    , 1.        , 0.09877406],\n",
              "       [0.6875    , 1.        , 0.09587316],\n",
              "       [0.8125    , 1.        , 0.08958705],\n",
              "       [1.        , 1.        , 0.06715835]])"
            ]
          },
          "metadata": {
            "tags": []
          },
          "execution_count": 95
        }
      ]
    },
    {
      "cell_type": "code",
      "metadata": {
        "colab_type": "code",
        "outputId": "a2772f56-d4d5-43b8-fdc1-8424a2885373",
        "id": "7VMg73cSNESz",
        "colab": {
          "base_uri": "https://localhost:8080/",
          "height": 701
        }
      },
      "source": [
        "fig, ax = plt.subplots(dpi=150, figsize=(5, 5))\n",
        "plt.plot(fpr, tpr, '-')\n",
        "plt.plot(0.125 , 0.71428571, '.', color='red')\n",
        "plt.xlabel('1 - Specificity')\n",
        "plt.ylabel('Sensitivity')\n",
        "plt.axis([0, 1, 0, 1])"
      ],
      "execution_count": 102,
      "outputs": [
        {
          "output_type": "execute_result",
          "data": {
            "text/plain": [
              "[0, 1, 0, 1]"
            ]
          },
          "metadata": {
            "tags": []
          },
          "execution_count": 102
        },
        {
          "output_type": "display_data",
          "data": {
            "image/png": "[encoded data removed]",
            "text/plain": [
              "<Figure size 750x750 with 1 Axes>"
            ]
          },
          "metadata": {
            "tags": []
          }
        }
      ]
    },
    {
      "cell_type": "markdown",
      "metadata": {
        "colab_type": "text",
        "id": "sn1fc75zNESz"
      },
      "source": [
        "Notice that, in Fig.2 (C), the threshold is reported to be 141, and the AUC=0.8744. Here, we will also calculate the threshold and AUC as follows."
      ]
    },
    {
      "cell_type": "code",
      "metadata": {
        "colab_type": "code",
        "outputId": "aa497416-b701-40e0-ff01-48aae746db3d",
        "id": "dFKgK_ETNESz",
        "colab": {
          "base_uri": "https://localhost:8080/",
          "height": 34
        }
      },
      "source": [
        "# Select threshold based on ROC curve\n",
        "threshold = 0.1875*max(val34_roc.MutLoad_Pred)\n",
        "print(\"Optimal discrimination threshold:\", threshold)"
      ],
      "execution_count": 103,
      "outputs": [
        {
          "output_type": "stream",
          "text": [
            "Optimal discrimination threshold: 143.41112937345486\n"
          ],
          "name": "stdout"
        }
      ]
    },
    {
      "cell_type": "code",
      "metadata": {
        "colab_type": "code",
        "outputId": "1225dca0-f2a6-4b94-b1b8-35e85bd20020",
        "id": "8O3TdwdWNES0",
        "colab": {
          "base_uri": "https://localhost:8080/",
          "height": 34
        }
      },
      "source": [
        "from sklearn.metrics import roc_auc_score\n",
        "print(\"AUC =\", roc_auc_score(val34_roc.DCB, val34_roc.y_score))"
      ],
      "execution_count": 104,
      "outputs": [
        {
          "output_type": "stream",
          "text": [
            "AUC = 0.84375\n"
          ],
          "name": "stdout"
        }
      ]
    },
    {
      "cell_type": "markdown",
      "metadata": {
        "colab_type": "text",
        "id": "EVzfc3PoNES1"
      },
      "source": [
        "The threshold based on our results is the same as the authors'. AUC is slightly worse, but similar."
      ]
    },
    {
      "cell_type": "markdown",
      "metadata": {
        "colab_type": "text",
        "id": "PW2KXH54NES1"
      },
      "source": [
        "### Immunotherapy response prediction"
      ]
    },
    {
      "cell_type": "code",
      "metadata": {
        "colab_type": "code",
        "id": "rMU4JlPQNES1",
        "colab": {}
      },
      "source": [
        "val34_roc['DCB_pred'] = val34_roc.MutLoad_Pred>threshold"
      ],
      "execution_count": 0,
      "outputs": []
    },
    {
      "cell_type": "code",
      "metadata": {
        "colab_type": "code",
        "id": "v7v6VNcBNES1",
        "colab": {}
      },
      "source": [
        "#Classify all the patients into 4 categories: True Positive, False Positive, True Negative and False Negative.\n",
        "TP = val34_roc.loc[(val34_roc['DCB'] == True) & (val34_roc['DCB_pred'] == True)] #True Positive\n",
        "FP = val34_roc.loc[(val34_roc['DCB'] == False) & (val34_roc['DCB_pred'] == True)] #False Positive\n",
        "TN = val34_roc.loc[(val34_roc['DCB'] == False) & (val34_roc['DCB_pred'] == False)] #True Negative\n",
        "FN = val34_roc.loc[(val34_roc['DCB'] == True) & (val34_roc['DCB_pred'] == False)] #False Negative"
      ],
      "execution_count": 0,
      "outputs": []
    },
    {
      "cell_type": "code",
      "metadata": {
        "colab_type": "code",
        "outputId": "6728a51c-0703-4606-b9d4-75e21fc9fe80",
        "id": "wsvgToOwNES2",
        "colab": {
          "base_uri": "https://localhost:8080/",
          "height": 701
        }
      },
      "source": [
        "import matplotlib.pyplot as plt\n",
        "\n",
        "# we make the figure large here to have better resolution in the report\n",
        "# change the figure in proper size in the report\n",
        "fig, ax = plt.subplots(dpi=150, figsize=(5, 5))\n",
        "plt.plot([0, 1200], [0, 1200], linestyle='-', color='gray')  #draw the diagonal\n",
        "\n",
        "plt.plot(TP['MutLoad'], TP['MutLoad_Pred'], '.', color='blue', \n",
        "         label='True positive ({})'.format(str(TP.shape[0]))) \n",
        "plt.plot(FP['MutLoad'], FP['MutLoad_Pred'], '.', color='purple', \n",
        "         label='False positive ({})'.format(str(FP.shape[0])))\n",
        "plt.plot(TN['MutLoad'], TN['MutLoad_Pred'], '.', color='green', \n",
        "         label='True negative ({})'.format(str(TN.shape[0])))\n",
        "plt.plot(FN['MutLoad'], FN['MutLoad_Pred'], '.', color='red', \n",
        "         label='False negative ({})'.format(str(FN.shape[0])))\n",
        "\n",
        "plt.hlines(threshold, 0, 1200, colors='gold', linestyles='solid') #draw the threshold line\n",
        "plt.legend(loc='upper left')\n",
        "plt.xlabel('Actual mutation load')\n",
        "plt.ylabel('Estimated mutation load')\n",
        "plt.axis([0, 1200, 0, 1200])"
      ],
      "execution_count": 107,
      "outputs": [
        {
          "output_type": "execute_result",
          "data": {
            "text/plain": [
              "[0, 1200, 0, 1200]"
            ]
          },
          "metadata": {
            "tags": []
          },
          "execution_count": 107
        },
        {
          "output_type": "display_data",
          "data": {
            "image/png": "[encoded data removed]",
            "text/plain": [
              "<Figure size 750x750 with 1 Axes>"
            ]
          },
          "metadata": {
            "tags": []
          }
        }
      ]
    },
    {
      "cell_type": "code",
      "metadata": {
        "colab_type": "code",
        "outputId": "ff2527e7-3b43-4182-b6db-a85c74f5ea2e",
        "id": "wcadfXj0NES2",
        "colab": {
          "base_uri": "https://localhost:8080/",
          "height": 54
        }
      },
      "source": [
        "   #calculate the sensitivity and specificity\n",
        "sensitivity = TP.shape[0]/(TP.shape[0] + FN.shape[0]) #the probability that a test will indicate 'disease' among those with the disease\n",
        "sensitivity\n",
        "\n",
        "specificity = TN.shape[0]/(TN.shape[0] + FP.shape[0]) #the fraction of those without disease who will have a negative test result\n",
        "specificity\n",
        "\n",
        "print('The sensitivity and specificity of DCB/NDB classification using our constructed model were shown to be {} and {}, respectively.'.format(sensitivity, specificity))"
      ],
      "execution_count": 108,
      "outputs": [
        {
          "output_type": "stream",
          "text": [
            "The sensitivity and specificity of DCB/NDB classification using our constructed model were shown to be 0.7142857142857143 and 0.75, respectively.\n"
          ],
          "name": "stdout"
        }
      ]
    },
    {
      "cell_type": "markdown",
      "metadata": {
        "id": "K5Xb0UvC8ka1",
        "colab_type": "text"
      },
      "source": [
        "## **Elastic net**"
      ]
    },
    {
      "cell_type": "markdown",
      "metadata": {
        "id": "PGwgz91CycxM",
        "colab_type": "text"
      },
      "source": [
        "### Train an elastic net model with the 65 features pre-filtered"
      ]
    },
    {
      "cell_type": "code",
      "metadata": {
        "colab_type": "code",
        "id": "ndG2_GtocbIw",
        "colab": {
          "base_uri": "https://localhost:8080/",
          "height": 34
        },
        "outputId": "f704894c-0244-4d90-ef75-346f14293c69"
      },
      "source": [
        "#model training\n",
        "from sklearn.linear_model import ElasticNetCV\n",
        "model_elastic=ElasticNetCV(l1_ratio=0.3, alphas = [1, 0.1, 0.001, 0.0005],cv=10).fit(x, y)\n",
        "#The coefficient of regularization\n",
        "print('alpha used: {}'.format(model_elastic.alpha_))"
      ],
      "execution_count": 134,
      "outputs": [
        {
          "output_type": "stream",
          "text": [
            "alpha used: 0.1\n"
          ],
          "name": "stdout"
        }
      ]
    },
    {
      "cell_type": "code",
      "metadata": {
        "colab_type": "code",
        "outputId": "5e190fad-017c-4122-db5f-5475d0eceb57",
        "id": "AZiUKD4EcbIz",
        "colab": {
          "base_uri": "https://localhost:8080/",
          "height": 624
        }
      },
      "source": [
        "#The coefficients of features\n",
        "import matplotlib\n",
        "import matplotlib.pyplot as plt\n",
        "coef = pd.Series(model_elastic.coef_, index = x.columns)# \n",
        "imp_coef = pd.concat([coef.sort_values()])\n",
        "matplotlib.rcParams['figure.figsize'] = (8.0, 10.0)\n",
        "imp_coef.plot(kind = \"barh\")\n",
        "plt.title(\"Coefficients in the Lasso Model\")   "
      ],
      "execution_count": 136,
      "outputs": [
        {
          "output_type": "execute_result",
          "data": {
            "text/plain": [
              "Text(0.5, 1.0, 'Coefficients in the Lasso Model')"
            ]
          },
          "metadata": {
            "tags": []
          },
          "execution_count": 136
        },
        {
          "output_type": "display_data",
          "data": {
            "image/png": "[encoded data removed]",
            "text/plain": [
              "<Figure size 576x720 with 1 Axes>"
            ]
          },
          "metadata": {
            "tags": []
          }
        }
      ]
    },
    {
      "cell_type": "markdown",
      "metadata": {
        "id": "CqILv_x4yspd",
        "colab_type": "text"
      },
      "source": [
        "### Model evaluation"
      ]
    },
    {
      "cell_type": "code",
      "metadata": {
        "colab_type": "code",
        "outputId": "a1ca0128-be00-46e8-b1c8-0d7159625fa6",
        "id": "GpPOAYg7cbI0",
        "colab": {
          "base_uri": "https://localhost:8080/",
          "height": 405
        }
      },
      "source": [
        "#let's look at the residuals as well:\n",
        "matplotlib.rcParams['figure.figsize'] = (6.0, 6.0)\n",
        "preds = pd.DataFrame({\"preds\":model_elastic.predict(x), \"true\":y}) \n",
        "preds[\"residuals\"] = preds[\"true\"] - preds[\"preds\"]\n",
        "preds.plot(x = \"preds\", y = \"residuals\",kind = \"scatter\")"
      ],
      "execution_count": 138,
      "outputs": [
        {
          "output_type": "execute_result",
          "data": {
            "text/plain": [
              "<matplotlib.axes._subplots.AxesSubplot at 0x7f718ddb1b38>"
            ]
          },
          "metadata": {
            "tags": []
          },
          "execution_count": 138
        },
        {
          "output_type": "display_data",
          "data": {
            "image/png": "[encoded data removed]",
            "text/plain": [
              "<Figure size 432x432 with 1 Axes>"
            ]
          },
          "metadata": {
            "tags": []
          }
        }
      ]
    },
    {
      "cell_type": "code",
      "metadata": {
        "colab_type": "code",
        "outputId": "d757f013-081f-4190-9889-f358dbe55cd8",
        "id": "s-YgyS6zcbI1",
        "colab": {
          "base_uri": "https://localhost:8080/",
          "height": 684
        }
      },
      "source": [
        "#model performance on the training data\n",
        "performance_training(model_elastic,x,y)"
      ],
      "execution_count": 139,
      "outputs": [
        {
          "output_type": "display_data",
          "data": {
            "image/png": "[encoded data removed]",
            "text/plain": [
              "<Figure size 750x750 with 1 Axes>"
            ]
          },
          "metadata": {
            "tags": []
          }
        }
      ]
    },
    {
      "cell_type": "code",
      "metadata": {
        "colab_type": "code",
        "outputId": "d54bf402-3ddd-447a-a6a2-400a4aed11e1",
        "id": "kMc_ZI0_cbI1",
        "colab": {
          "base_uri": "https://localhost:8080/",
          "height": 735
        }
      },
      "source": [
        "performance_validation(model_elastic)"
      ],
      "execution_count": 140,
      "outputs": [
        {
          "output_type": "stream",
          "text": [
            "R2 score of concatenated testing data is 0.799\n",
            "R2 score of val34 data is 0.687\n",
            "R2 score of val183 data is 0.808\n"
          ],
          "name": "stdout"
        },
        {
          "output_type": "display_data",
          "data": {
            "image/png": "[encoded data removed]",
            "text/plain": [
              "<Figure size 750x750 with 1 Axes>"
            ]
          },
          "metadata": {
            "tags": []
          }
        }
      ]
    },
    {
      "cell_type": "markdown",
      "metadata": {
        "id": "M3mHjvWRc0gr",
        "colab_type": "text"
      },
      "source": [
        "### Progression-free survial (Fig.2 (b))\n"
      ]
    },
    {
      "cell_type": "code",
      "metadata": {
        "id": "YJhAEiOQ45tZ",
        "colab_type": "code",
        "colab": {}
      },
      "source": [
        "val34_pred=model_elastic.predict(val34_model)"
      ],
      "execution_count": 0,
      "outputs": []
    },
    {
      "cell_type": "code",
      "metadata": {
        "id": "gaHozzcpblwj",
        "colab_type": "code",
        "colab": {
          "base_uri": "https://localhost:8080/",
          "height": 979
        },
        "outputId": "03d595bd-5ca9-442f-b460-d207467828c1"
      },
      "source": [
        "# crease a dataframe to store info for pfs plot\n",
        "val34_df = pd.DataFrame(val34_pred, index=val34_mutmtx.columns, columns=['MutLoad_Pred'])\n",
        "val34_df['PFS'] = therapy['PFS (mos)']\n",
        "val34_df['Event'] = therapy['Event']\n",
        "val34_df = val34_df.sort_values(by=['MutLoad_Pred'])\n",
        "val34_df = val34_df.dropna()\n",
        "val34_df.reset_index()"
      ],
      "execution_count": 142,
      "outputs": [
        {
          "output_type": "execute_result",
          "data": {
            "text/html": [
              "<div>\n",
              "<style scoped>\n",
              "    .dataframe tbody tr th:only-of-type {\n",
              "        vertical-align: middle;\n",
              "    }\n",
              "\n",
              "    .dataframe tbody tr th {\n",
              "        vertical-align: top;\n",
              "    }\n",
              "\n",
              "    .dataframe thead th {\n",
              "        text-align: right;\n",
              "    }\n",
              "</style>\n",
              "<table border=\"1\" class=\"dataframe\">\n",
              "  <thead>\n",
              "    <tr style=\"text-align: right;\">\n",
              "      <th></th>\n",
              "      <th>index</th>\n",
              "      <th>MutLoad_Pred</th>\n",
              "      <th>PFS</th>\n",
              "      <th>Event</th>\n",
              "    </tr>\n",
              "  </thead>\n",
              "  <tbody>\n",
              "    <tr>\n",
              "      <th>0</th>\n",
              "      <td>VA7859</td>\n",
              "      <td>55.593338</td>\n",
              "      <td>6.266667</td>\n",
              "      <td>1</td>\n",
              "    </tr>\n",
              "    <tr>\n",
              "      <th>1</th>\n",
              "      <td>LO3793</td>\n",
              "      <td>55.593338</td>\n",
              "      <td>3.500000</td>\n",
              "      <td>1</td>\n",
              "    </tr>\n",
              "    <tr>\n",
              "      <th>2</th>\n",
              "      <td>NI9507</td>\n",
              "      <td>55.593338</td>\n",
              "      <td>1.866667</td>\n",
              "      <td>1</td>\n",
              "    </tr>\n",
              "    <tr>\n",
              "      <th>3</th>\n",
              "      <td>JB112852</td>\n",
              "      <td>61.099054</td>\n",
              "      <td>3.266667</td>\n",
              "      <td>1</td>\n",
              "    </tr>\n",
              "    <tr>\n",
              "      <th>4</th>\n",
              "      <td>AU5884</td>\n",
              "      <td>68.621962</td>\n",
              "      <td>1.833333</td>\n",
              "      <td>1</td>\n",
              "    </tr>\n",
              "    <tr>\n",
              "      <th>5</th>\n",
              "      <td>VA1330</td>\n",
              "      <td>72.915210</td>\n",
              "      <td>4.133333</td>\n",
              "      <td>1</td>\n",
              "    </tr>\n",
              "    <tr>\n",
              "      <th>6</th>\n",
              "      <td>RH090935</td>\n",
              "      <td>81.861285</td>\n",
              "      <td>10.433333</td>\n",
              "      <td>0</td>\n",
              "    </tr>\n",
              "    <tr>\n",
              "      <th>7</th>\n",
              "      <td>LO5004</td>\n",
              "      <td>90.954648</td>\n",
              "      <td>6.300000</td>\n",
              "      <td>1</td>\n",
              "    </tr>\n",
              "    <tr>\n",
              "      <th>8</th>\n",
              "      <td>DM123062</td>\n",
              "      <td>93.145815</td>\n",
              "      <td>1.900000</td>\n",
              "      <td>1</td>\n",
              "    </tr>\n",
              "    <tr>\n",
              "      <th>9</th>\n",
              "      <td>RO3338</td>\n",
              "      <td>95.004138</td>\n",
              "      <td>2.133333</td>\n",
              "      <td>1</td>\n",
              "    </tr>\n",
              "    <tr>\n",
              "      <th>10</th>\n",
              "      <td>BL3403</td>\n",
              "      <td>101.456077</td>\n",
              "      <td>6.500000</td>\n",
              "      <td>1</td>\n",
              "    </tr>\n",
              "    <tr>\n",
              "      <th>11</th>\n",
              "      <td>AL4602</td>\n",
              "      <td>106.054018</td>\n",
              "      <td>8.366667</td>\n",
              "      <td>0</td>\n",
              "    </tr>\n",
              "    <tr>\n",
              "      <th>12</th>\n",
              "      <td>GR0134</td>\n",
              "      <td>109.348146</td>\n",
              "      <td>8.300000</td>\n",
              "      <td>1</td>\n",
              "    </tr>\n",
              "    <tr>\n",
              "      <th>13</th>\n",
              "      <td>WA7899</td>\n",
              "      <td>121.003015</td>\n",
              "      <td>1.900000</td>\n",
              "      <td>1</td>\n",
              "    </tr>\n",
              "    <tr>\n",
              "      <th>14</th>\n",
              "      <td>SB010944</td>\n",
              "      <td>156.786619</td>\n",
              "      <td>27.300000</td>\n",
              "      <td>0</td>\n",
              "    </tr>\n",
              "    <tr>\n",
              "      <th>15</th>\n",
              "      <td>ZA6505</td>\n",
              "      <td>158.263659</td>\n",
              "      <td>1.933333</td>\n",
              "      <td>1</td>\n",
              "    </tr>\n",
              "    <tr>\n",
              "      <th>16</th>\n",
              "      <td>MA7027</td>\n",
              "      <td>159.822510</td>\n",
              "      <td>1.800000</td>\n",
              "      <td>1</td>\n",
              "    </tr>\n",
              "    <tr>\n",
              "      <th>17</th>\n",
              "      <td>GR4788</td>\n",
              "      <td>159.927352</td>\n",
              "      <td>1.866667</td>\n",
              "      <td>1</td>\n",
              "    </tr>\n",
              "    <tr>\n",
              "      <th>18</th>\n",
              "      <td>SC6470</td>\n",
              "      <td>167.959677</td>\n",
              "      <td>8.333333</td>\n",
              "      <td>1</td>\n",
              "    </tr>\n",
              "    <tr>\n",
              "      <th>19</th>\n",
              "      <td>Y2087</td>\n",
              "      <td>171.165744</td>\n",
              "      <td>8.333333</td>\n",
              "      <td>1</td>\n",
              "    </tr>\n",
              "    <tr>\n",
              "      <th>20</th>\n",
              "      <td>DI6359</td>\n",
              "      <td>191.144626</td>\n",
              "      <td>9.800000</td>\n",
              "      <td>0</td>\n",
              "    </tr>\n",
              "    <tr>\n",
              "      <th>21</th>\n",
              "      <td>M4945</td>\n",
              "      <td>210.231726</td>\n",
              "      <td>14.600000</td>\n",
              "      <td>0</td>\n",
              "    </tr>\n",
              "    <tr>\n",
              "      <th>22</th>\n",
              "      <td>SR070761</td>\n",
              "      <td>253.653872</td>\n",
              "      <td>3.433333</td>\n",
              "      <td>1</td>\n",
              "    </tr>\n",
              "    <tr>\n",
              "      <th>23</th>\n",
              "      <td>SC0899</td>\n",
              "      <td>264.638907</td>\n",
              "      <td>12.566667</td>\n",
              "      <td>0</td>\n",
              "    </tr>\n",
              "    <tr>\n",
              "      <th>24</th>\n",
              "      <td>CA9903</td>\n",
              "      <td>307.344186</td>\n",
              "      <td>14.500000</td>\n",
              "      <td>1</td>\n",
              "    </tr>\n",
              "    <tr>\n",
              "      <th>25</th>\n",
              "      <td>KA3947</td>\n",
              "      <td>376.814331</td>\n",
              "      <td>8.133333</td>\n",
              "      <td>1</td>\n",
              "    </tr>\n",
              "    <tr>\n",
              "      <th>26</th>\n",
              "      <td>TU0428</td>\n",
              "      <td>403.231694</td>\n",
              "      <td>2.066667</td>\n",
              "      <td>1</td>\n",
              "    </tr>\n",
              "    <tr>\n",
              "      <th>27</th>\n",
              "      <td>RI1933</td>\n",
              "      <td>478.358900</td>\n",
              "      <td>16.600000</td>\n",
              "      <td>0</td>\n",
              "    </tr>\n",
              "    <tr>\n",
              "      <th>28</th>\n",
              "      <td>HE3202</td>\n",
              "      <td>478.739410</td>\n",
              "      <td>14.666667</td>\n",
              "      <td>0</td>\n",
              "    </tr>\n",
              "    <tr>\n",
              "      <th>29</th>\n",
              "      <td>SA9755</td>\n",
              "      <td>820.646318</td>\n",
              "      <td>8.366667</td>\n",
              "      <td>0</td>\n",
              "    </tr>\n",
              "  </tbody>\n",
              "</table>\n",
              "</div>"
            ],
            "text/plain": [
              "       index  MutLoad_Pred        PFS  Event\n",
              "0     VA7859     55.593338   6.266667      1\n",
              "1     LO3793     55.593338   3.500000      1\n",
              "2     NI9507     55.593338   1.866667      1\n",
              "3   JB112852     61.099054   3.266667      1\n",
              "4     AU5884     68.621962   1.833333      1\n",
              "5     VA1330     72.915210   4.133333      1\n",
              "6   RH090935     81.861285  10.433333      0\n",
              "7     LO5004     90.954648   6.300000      1\n",
              "8   DM123062     93.145815   1.900000      1\n",
              "9     RO3338     95.004138   2.133333      1\n",
              "10    BL3403    101.456077   6.500000      1\n",
              "11    AL4602    106.054018   8.366667      0\n",
              "12    GR0134    109.348146   8.300000      1\n",
              "13    WA7899    121.003015   1.900000      1\n",
              "14  SB010944    156.786619  27.300000      0\n",
              "15    ZA6505    158.263659   1.933333      1\n",
              "16    MA7027    159.822510   1.800000      1\n",
              "17    GR4788    159.927352   1.866667      1\n",
              "18    SC6470    167.959677   8.333333      1\n",
              "19     Y2087    171.165744   8.333333      1\n",
              "20    DI6359    191.144626   9.800000      0\n",
              "21     M4945    210.231726  14.600000      0\n",
              "22  SR070761    253.653872   3.433333      1\n",
              "23    SC0899    264.638907  12.566667      0\n",
              "24    CA9903    307.344186  14.500000      1\n",
              "25    KA3947    376.814331   8.133333      1\n",
              "26    TU0428    403.231694   2.066667      1\n",
              "27    RI1933    478.358900  16.600000      0\n",
              "28    HE3202    478.739410  14.666667      0\n",
              "29    SA9755    820.646318   8.366667      0"
            ]
          },
          "metadata": {
            "tags": []
          },
          "execution_count": 142
        }
      ]
    },
    {
      "cell_type": "code",
      "metadata": {
        "id": "Gm76W_IBvw_h",
        "colab_type": "code",
        "outputId": "9d431f3f-236b-45ee-c43c-c1c08960547d",
        "colab": {
          "base_uri": "https://localhost:8080/",
          "height": 34
        }
      },
      "source": [
        "# define high and low estimated mutation load\n",
        "high_idx = val34_df.MutLoad_Pred>=150\n",
        "\n",
        "# The authors used log-rank test for this step (see Materials and Methods - Statistical analaysis)\n",
        "from lifelines.statistics import logrank_test\n",
        "sta_result = logrank_test(val34_df.PFS[high_idx], val34_df.PFS[~high_idx])\n",
        "sta_result.p_value"
      ],
      "execution_count": 143,
      "outputs": [
        {
          "output_type": "execute_result",
          "data": {
            "text/plain": [
              "0.008013858374298946"
            ]
          },
          "metadata": {
            "tags": []
          },
          "execution_count": 143
        }
      ]
    },
    {
      "cell_type": "code",
      "metadata": {
        "id": "jQu9hRkShRJO",
        "colab_type": "code",
        "outputId": "0f96cf1a-e1c9-4348-b1ec-b7d27a05dae0",
        "colab": {
          "base_uri": "https://localhost:8080/",
          "height": 693
        }
      },
      "source": [
        "from lifelines import KaplanMeierFitter\n",
        "import matplotlib.pyplot as plt\n",
        "\n",
        "fig, ax = plt.subplots(dpi=150, figsize=(5, 5))\n",
        "ax.text(20, 0.85, f\"P={round(sta_result.p_value, 4)}\")\n",
        "kmf = KaplanMeierFitter()\n",
        "kmf.fit(val34_df.PFS[high_idx], val34_df.Event[high_idx], label='High estimated mutation load')\n",
        "kmf.plot(ax=ax)\n",
        "kmf.fit(val34_df.PFS[~high_idx], val34_df.Event[~high_idx], label='Low estimated mutation load')\n",
        "kmf.plot(ax=ax)\n",
        "plt.xlabel('Months')\n",
        "plt.ylabel('Progression-free survival (%)')"
      ],
      "execution_count": 144,
      "outputs": [
        {
          "output_type": "execute_result",
          "data": {
            "text/plain": [
              "Text(0, 0.5, 'Progression-free survival (%)')"
            ]
          },
          "metadata": {
            "tags": []
          },
          "execution_count": 144
        },
        {
          "output_type": "display_data",
          "data": {
            "image/png": "[encoded data removed]",
            "text/plain": [
              "<Figure size 750x750 with 1 Axes>"
            ]
          },
          "metadata": {
            "tags": []
          }
        }
      ]
    },
    {
      "cell_type": "markdown",
      "metadata": {
        "id": "PrlRpBfXuDLz",
        "colab_type": "text"
      },
      "source": [
        "Our PFS plot looks similar to the authors'. The confidence interval of high estimated mutation load is wide, but it does not overlap too much with low estimated mutation load. The authors did not show confidence interval - theirs could be wide as well. "
      ]
    },
    {
      "cell_type": "markdown",
      "metadata": {
        "id": "Ov3wqQbdxwV4",
        "colab_type": "text"
      },
      "source": [
        "### Cox proportional-hazards model\n",
        "Compare Cox proportional-hazards between using acutual mutation load and mutation load predicted by our model."
      ]
    },
    {
      "cell_type": "code",
      "metadata": {
        "id": "9lYPJwurqmYO",
        "colab_type": "code",
        "outputId": "a750e2da-ffec-4c14-b959-00516b5d8b93",
        "colab": {
          "base_uri": "https://localhost:8080/",
          "height": 97
        }
      },
      "source": [
        "# CoxPH summary based on predicted mutation load\n",
        "from lifelines import CoxPHFitter\n",
        "cph = CoxPHFitter()\n",
        "cph.fit(val34_df, duration_col='PFS', event_col='Event')\n",
        "cph_sum = cph.summary\n",
        "cph_sum"
      ],
      "execution_count": 145,
      "outputs": [
        {
          "output_type": "execute_result",
          "data": {
            "text/html": [
              "<div>\n",
              "<style scoped>\n",
              "    .dataframe tbody tr th:only-of-type {\n",
              "        vertical-align: middle;\n",
              "    }\n",
              "\n",
              "    .dataframe tbody tr th {\n",
              "        vertical-align: top;\n",
              "    }\n",
              "\n",
              "    .dataframe thead th {\n",
              "        text-align: right;\n",
              "    }\n",
              "</style>\n",
              "<table border=\"1\" class=\"dataframe\">\n",
              "  <thead>\n",
              "    <tr style=\"text-align: right;\">\n",
              "      <th></th>\n",
              "      <th>coef</th>\n",
              "      <th>exp(coef)</th>\n",
              "      <th>se(coef)</th>\n",
              "      <th>coef lower 95%</th>\n",
              "      <th>coef upper 95%</th>\n",
              "      <th>exp(coef) lower 95%</th>\n",
              "      <th>exp(coef) upper 95%</th>\n",
              "      <th>z</th>\n",
              "      <th>p</th>\n",
              "      <th>-log2(p)</th>\n",
              "    </tr>\n",
              "  </thead>\n",
              "  <tbody>\n",
              "    <tr>\n",
              "      <th>MutLoad_Pred</th>\n",
              "      <td>-0.005079</td>\n",
              "      <td>0.994934</td>\n",
              "      <td>0.002341</td>\n",
              "      <td>-0.009667</td>\n",
              "      <td>-0.000491</td>\n",
              "      <td>0.990379</td>\n",
              "      <td>0.999509</td>\n",
              "      <td>-2.16972</td>\n",
              "      <td>0.030028</td>\n",
              "      <td>5.057546</td>\n",
              "    </tr>\n",
              "  </tbody>\n",
              "</table>\n",
              "</div>"
            ],
            "text/plain": [
              "                  coef  exp(coef)  se(coef)  coef lower 95%  coef upper 95%  \\\n",
              "MutLoad_Pred -0.005079   0.994934  0.002341       -0.009667       -0.000491   \n",
              "\n",
              "              exp(coef) lower 95%  exp(coef) upper 95%        z         p  \\\n",
              "MutLoad_Pred             0.990379             0.999509 -2.16972  0.030028   \n",
              "\n",
              "              -log2(p)  \n",
              "MutLoad_Pred  5.057546  "
            ]
          },
          "metadata": {
            "tags": []
          },
          "execution_count": 145
        }
      ]
    },
    {
      "cell_type": "code",
      "metadata": {
        "id": "hK1bbiB2qiGM",
        "colab_type": "code",
        "outputId": "5da70487-380b-4251-8c40-ab3577575680",
        "colab": {
          "base_uri": "https://localhost:8080/",
          "height": 204
        }
      },
      "source": [
        "val34_true = val34_df.drop(['MutLoad_Pred'], axis=1)\n",
        "val34_true['MutLoad'] = val34_mut_load\n",
        "val34_true.head()"
      ],
      "execution_count": 146,
      "outputs": [
        {
          "output_type": "execute_result",
          "data": {
            "text/html": [
              "<div>\n",
              "<style scoped>\n",
              "    .dataframe tbody tr th:only-of-type {\n",
              "        vertical-align: middle;\n",
              "    }\n",
              "\n",
              "    .dataframe tbody tr th {\n",
              "        vertical-align: top;\n",
              "    }\n",
              "\n",
              "    .dataframe thead th {\n",
              "        text-align: right;\n",
              "    }\n",
              "</style>\n",
              "<table border=\"1\" class=\"dataframe\">\n",
              "  <thead>\n",
              "    <tr style=\"text-align: right;\">\n",
              "      <th></th>\n",
              "      <th>PFS</th>\n",
              "      <th>Event</th>\n",
              "      <th>MutLoad</th>\n",
              "    </tr>\n",
              "  </thead>\n",
              "  <tbody>\n",
              "    <tr>\n",
              "      <th>VA7859</th>\n",
              "      <td>6.266667</td>\n",
              "      <td>1</td>\n",
              "      <td>11.0</td>\n",
              "    </tr>\n",
              "    <tr>\n",
              "      <th>LO3793</th>\n",
              "      <td>3.500000</td>\n",
              "      <td>1</td>\n",
              "      <td>109.0</td>\n",
              "    </tr>\n",
              "    <tr>\n",
              "      <th>NI9507</th>\n",
              "      <td>1.866667</td>\n",
              "      <td>1</td>\n",
              "      <td>35.0</td>\n",
              "    </tr>\n",
              "    <tr>\n",
              "      <th>JB112852</th>\n",
              "      <td>3.266667</td>\n",
              "      <td>1</td>\n",
              "      <td>190.0</td>\n",
              "    </tr>\n",
              "    <tr>\n",
              "      <th>AU5884</th>\n",
              "      <td>1.833333</td>\n",
              "      <td>1</td>\n",
              "      <td>34.0</td>\n",
              "    </tr>\n",
              "  </tbody>\n",
              "</table>\n",
              "</div>"
            ],
            "text/plain": [
              "               PFS  Event  MutLoad\n",
              "VA7859    6.266667      1     11.0\n",
              "LO3793    3.500000      1    109.0\n",
              "NI9507    1.866667      1     35.0\n",
              "JB112852  3.266667      1    190.0\n",
              "AU5884    1.833333      1     34.0"
            ]
          },
          "metadata": {
            "tags": []
          },
          "execution_count": 146
        }
      ]
    },
    {
      "cell_type": "code",
      "metadata": {
        "id": "gV2ITW3OqIJj",
        "colab_type": "code",
        "outputId": "91bdfc3b-bc79-4805-9229-6a89d3b3decf",
        "colab": {
          "base_uri": "https://localhost:8080/",
          "height": 97
        }
      },
      "source": [
        "# CoxPH summary based on actual mutation load\n",
        "cph_true = CoxPHFitter()\n",
        "cph_true.fit(val34_true, duration_col='PFS', event_col='Event')\n",
        "cph_true.summary"
      ],
      "execution_count": 147,
      "outputs": [
        {
          "output_type": "execute_result",
          "data": {
            "text/html": [
              "<div>\n",
              "<style scoped>\n",
              "    .dataframe tbody tr th:only-of-type {\n",
              "        vertical-align: middle;\n",
              "    }\n",
              "\n",
              "    .dataframe tbody tr th {\n",
              "        vertical-align: top;\n",
              "    }\n",
              "\n",
              "    .dataframe thead th {\n",
              "        text-align: right;\n",
              "    }\n",
              "</style>\n",
              "<table border=\"1\" class=\"dataframe\">\n",
              "  <thead>\n",
              "    <tr style=\"text-align: right;\">\n",
              "      <th></th>\n",
              "      <th>coef</th>\n",
              "      <th>exp(coef)</th>\n",
              "      <th>se(coef)</th>\n",
              "      <th>coef lower 95%</th>\n",
              "      <th>coef upper 95%</th>\n",
              "      <th>exp(coef) lower 95%</th>\n",
              "      <th>exp(coef) upper 95%</th>\n",
              "      <th>z</th>\n",
              "      <th>p</th>\n",
              "      <th>-log2(p)</th>\n",
              "    </tr>\n",
              "  </thead>\n",
              "  <tbody>\n",
              "    <tr>\n",
              "      <th>MutLoad</th>\n",
              "      <td>-0.003968</td>\n",
              "      <td>0.99604</td>\n",
              "      <td>0.001688</td>\n",
              "      <td>-0.007276</td>\n",
              "      <td>-0.00066</td>\n",
              "      <td>0.99275</td>\n",
              "      <td>0.99934</td>\n",
              "      <td>-2.350971</td>\n",
              "      <td>0.018725</td>\n",
              "      <td>5.738928</td>\n",
              "    </tr>\n",
              "  </tbody>\n",
              "</table>\n",
              "</div>"
            ],
            "text/plain": [
              "             coef  exp(coef)  se(coef)  coef lower 95%  coef upper 95%  \\\n",
              "MutLoad -0.003968    0.99604  0.001688       -0.007276        -0.00066   \n",
              "\n",
              "         exp(coef) lower 95%  exp(coef) upper 95%         z         p  \\\n",
              "MutLoad              0.99275              0.99934 -2.350971  0.018725   \n",
              "\n",
              "         -log2(p)  \n",
              "MutLoad  5.738928  "
            ]
          },
          "metadata": {
            "tags": []
          },
          "execution_count": 147
        }
      ]
    },
    {
      "cell_type": "markdown",
      "metadata": {
        "id": "JgOHOMf6oR4G",
        "colab_type": "text"
      },
      "source": [
        "### ROC curve (Fig.2(c))\n",
        "\n",
        "ROC curve is used to determine the discrimination threshold of DCB (durable clinical benefit) and NDB (no durable benefit)."
      ]
    },
    {
      "cell_type": "code",
      "metadata": {
        "id": "EO74HRY9olBs",
        "colab_type": "code",
        "outputId": "2062cb4e-b409-4de7-c157-58e5c855b5c1",
        "colab": {
          "base_uri": "https://localhost:8080/",
          "height": 102
        }
      },
      "source": [
        "val34_roc = pd.DataFrame(val34_pred, index=val34_mutmtx.columns, columns=['MutLoad_Pred'])\n",
        "val34_roc['MutLoad'] = val34_mut_load\n",
        "val34_roc['DCB'] = therapy['Durable Clinical Benefit']\n",
        "val34_roc.DCB[val34_roc.DCB=='NR'] = np.nan\n",
        "val34_roc = val34_roc.dropna()\n",
        "val34_roc['y_score'] = val34_roc.MutLoad_Pred/max(val34_roc.MutLoad_Pred)\n",
        "val34_roc.DCB = val34_roc.DCB=='DCB'"
      ],
      "execution_count": 148,
      "outputs": [
        {
          "output_type": "stream",
          "text": [
            "/usr/local/lib/python3.6/dist-packages/ipykernel_launcher.py:4: SettingWithCopyWarning: \n",
            "A value is trying to be set on a copy of a slice from a DataFrame\n",
            "\n",
            "See the caveats in the documentation: http://pandas.pydata.org/pandas-docs/stable/user_guide/indexing.html#returning-a-view-versus-a-copy\n",
            "  after removing the cwd from sys.path.\n"
          ],
          "name": "stderr"
        }
      ]
    },
    {
      "cell_type": "code",
      "metadata": {
        "id": "3AxEWZikxpwn",
        "colab_type": "code",
        "outputId": "901dc922-b2eb-42b7-b78f-68e165d012ad",
        "colab": {
          "base_uri": "https://localhost:8080/",
          "height": 272
        }
      },
      "source": [
        "from sklearn.metrics import roc_curve\n",
        "fpr, tpr, thresholds = roc_curve(val34_roc.DCB, val34_roc.y_score)\n",
        "np.c_[fpr, tpr, thresholds]"
      ],
      "execution_count": 149,
      "outputs": [
        {
          "output_type": "execute_result",
          "data": {
            "text/plain": [
              "array([[0.        , 0.        , 2.        ],\n",
              "       [0.        , 0.07142857, 1.        ],\n",
              "       [0.        , 0.21428571, 0.58290507],\n",
              "       [0.0625    , 0.21428571, 0.49135868],\n",
              "       [0.0625    , 0.42857143, 0.3224762 ],\n",
              "       [0.125     , 0.42857143, 0.30909037],\n",
              "       [0.125     , 0.71428571, 0.20466756],\n",
              "       [0.3125    , 0.71428571, 0.19285246],\n",
              "       [0.3125    , 0.78571429, 0.19105261],\n",
              "       [0.375     , 0.78571429, 0.14744843],\n",
              "       [0.375     , 0.92857143, 0.12923231],\n",
              "       [0.625     , 0.92857143, 0.11083294],\n",
              "       [0.625     , 1.        , 0.09975221],\n",
              "       [0.8125    , 1.        , 0.07445236],\n",
              "       [1.        , 1.        , 0.06774336]])"
            ]
          },
          "metadata": {
            "tags": []
          },
          "execution_count": 149
        }
      ]
    },
    {
      "cell_type": "code",
      "metadata": {
        "id": "MfovFCKNHn6B",
        "colab_type": "code",
        "outputId": "04d38730-9a7b-42ff-e9c6-4e7ec9dd3da4",
        "colab": {
          "base_uri": "https://localhost:8080/",
          "height": 701
        }
      },
      "source": [
        "fig, ax = plt.subplots(dpi=150, figsize=(5, 5))\n",
        "plt.plot(fpr, tpr, '-')\n",
        "plt.plot(0.125, 0.71428571, '.', color='red')\n",
        "plt.xlabel('1 - Specificity')\n",
        "plt.ylabel('Sensitivity')\n",
        "plt.axis([0, 1, 0, 1])"
      ],
      "execution_count": 150,
      "outputs": [
        {
          "output_type": "execute_result",
          "data": {
            "text/plain": [
              "[0, 1, 0, 1]"
            ]
          },
          "metadata": {
            "tags": []
          },
          "execution_count": 150
        },
        {
          "output_type": "display_data",
          "data": {
            "image/png": "[encoded data removed]",
            "text/plain": [
              "<Figure size 750x750 with 1 Axes>"
            ]
          },
          "metadata": {
            "tags": []
          }
        }
      ]
    },
    {
      "cell_type": "markdown",
      "metadata": {
        "id": "EIb2Tb4UH8Dm",
        "colab_type": "text"
      },
      "source": [
        "Notice that, in Fig.2 (C), the threshold is reported to be 141, and the AUC=0.8744. Here, we will also calculate the threshold and AUC as follows."
      ]
    },
    {
      "cell_type": "code",
      "metadata": {
        "id": "GXW3T5Z5DN_W",
        "colab_type": "code",
        "outputId": "343db6a7-2146-40cc-87c4-bc665cc28716",
        "colab": {
          "base_uri": "https://localhost:8080/",
          "height": 34
        }
      },
      "source": [
        "# Select threshold based on ROC curve\n",
        "threshold = 0.125*max(val34_roc.MutLoad_Pred)\n",
        "print(\"Optimal discrimination threshold:\", threshold)"
      ],
      "execution_count": 151,
      "outputs": [
        {
          "output_type": "stream",
          "text": [
            "Optimal discrimination threshold: 102.58078969722266\n"
          ],
          "name": "stdout"
        }
      ]
    },
    {
      "cell_type": "code",
      "metadata": {
        "id": "ZS-10C6ADjtI",
        "colab_type": "code",
        "outputId": "7512485b-a4d8-4f1f-b0e3-c7790aeaee5e",
        "colab": {
          "base_uri": "https://localhost:8080/",
          "height": 34
        }
      },
      "source": [
        "from sklearn.metrics import roc_auc_score\n",
        "print(\"AUC =\", roc_auc_score(val34_roc.DCB, val34_roc.y_score))"
      ],
      "execution_count": 152,
      "outputs": [
        {
          "output_type": "stream",
          "text": [
            "AUC = 0.8303571428571428\n"
          ],
          "name": "stdout"
        }
      ]
    },
    {
      "cell_type": "markdown",
      "metadata": {
        "id": "HotvztE5pSsq",
        "colab_type": "text"
      },
      "source": [
        "The threshold based on our results is the same as the authors'. AUC is slightly worse, but similar."
      ]
    },
    {
      "cell_type": "markdown",
      "metadata": {
        "id": "0S_4ePpYJExD",
        "colab_type": "text"
      },
      "source": [
        "### Immunotherapy response prediction"
      ]
    },
    {
      "cell_type": "code",
      "metadata": {
        "id": "KtngyIS6SWUC",
        "colab_type": "code",
        "outputId": "be580cff-6460-4df3-d916-fcb76c92a223",
        "colab": {
          "base_uri": "https://localhost:8080/",
          "height": 979
        }
      },
      "source": [
        "val34_roc['DCB_pred'] = val34_roc.MutLoad_Pred>threshold\n",
        "val34_roc"
      ],
      "execution_count": 153,
      "outputs": [
        {
          "output_type": "execute_result",
          "data": {
            "text/html": [
              "<div>\n",
              "<style scoped>\n",
              "    .dataframe tbody tr th:only-of-type {\n",
              "        vertical-align: middle;\n",
              "    }\n",
              "\n",
              "    .dataframe tbody tr th {\n",
              "        vertical-align: top;\n",
              "    }\n",
              "\n",
              "    .dataframe thead th {\n",
              "        text-align: right;\n",
              "    }\n",
              "</style>\n",
              "<table border=\"1\" class=\"dataframe\">\n",
              "  <thead>\n",
              "    <tr style=\"text-align: right;\">\n",
              "      <th></th>\n",
              "      <th>MutLoad_Pred</th>\n",
              "      <th>MutLoad</th>\n",
              "      <th>DCB</th>\n",
              "      <th>y_score</th>\n",
              "      <th>DCB_pred</th>\n",
              "    </tr>\n",
              "  </thead>\n",
              "  <tbody>\n",
              "    <tr>\n",
              "      <th>AL4602</th>\n",
              "      <td>106.054018</td>\n",
              "      <td>244.0</td>\n",
              "      <td>True</td>\n",
              "      <td>0.129232</td>\n",
              "      <td>True</td>\n",
              "    </tr>\n",
              "    <tr>\n",
              "      <th>AU5884</th>\n",
              "      <td>68.621962</td>\n",
              "      <td>34.0</td>\n",
              "      <td>False</td>\n",
              "      <td>0.083619</td>\n",
              "      <td>False</td>\n",
              "    </tr>\n",
              "    <tr>\n",
              "      <th>BL3403</th>\n",
              "      <td>101.456077</td>\n",
              "      <td>148.0</td>\n",
              "      <td>False</td>\n",
              "      <td>0.123629</td>\n",
              "      <td>False</td>\n",
              "    </tr>\n",
              "    <tr>\n",
              "      <th>CA9903</th>\n",
              "      <td>307.344186</td>\n",
              "      <td>324.0</td>\n",
              "      <td>True</td>\n",
              "      <td>0.374515</td>\n",
              "      <td>True</td>\n",
              "    </tr>\n",
              "    <tr>\n",
              "      <th>DI6359</th>\n",
              "      <td>191.144626</td>\n",
              "      <td>228.0</td>\n",
              "      <td>True</td>\n",
              "      <td>0.232920</td>\n",
              "      <td>True</td>\n",
              "    </tr>\n",
              "    <tr>\n",
              "      <th>DM123062</th>\n",
              "      <td>93.145815</td>\n",
              "      <td>134.0</td>\n",
              "      <td>False</td>\n",
              "      <td>0.113503</td>\n",
              "      <td>False</td>\n",
              "    </tr>\n",
              "    <tr>\n",
              "      <th>GR0134</th>\n",
              "      <td>109.348146</td>\n",
              "      <td>56.0</td>\n",
              "      <td>True</td>\n",
              "      <td>0.133246</td>\n",
              "      <td>True</td>\n",
              "    </tr>\n",
              "    <tr>\n",
              "      <th>GR4788</th>\n",
              "      <td>159.927352</td>\n",
              "      <td>170.0</td>\n",
              "      <td>False</td>\n",
              "      <td>0.194880</td>\n",
              "      <td>True</td>\n",
              "    </tr>\n",
              "    <tr>\n",
              "      <th>HE3202</th>\n",
              "      <td>478.739410</td>\n",
              "      <td>746.0</td>\n",
              "      <td>True</td>\n",
              "      <td>0.583369</td>\n",
              "      <td>True</td>\n",
              "    </tr>\n",
              "    <tr>\n",
              "      <th>JB112852</th>\n",
              "      <td>61.099054</td>\n",
              "      <td>190.0</td>\n",
              "      <td>False</td>\n",
              "      <td>0.074452</td>\n",
              "      <td>False</td>\n",
              "    </tr>\n",
              "    <tr>\n",
              "      <th>KA3947</th>\n",
              "      <td>376.814331</td>\n",
              "      <td>302.0</td>\n",
              "      <td>True</td>\n",
              "      <td>0.459168</td>\n",
              "      <td>True</td>\n",
              "    </tr>\n",
              "    <tr>\n",
              "      <th>LO3793</th>\n",
              "      <td>55.593338</td>\n",
              "      <td>109.0</td>\n",
              "      <td>False</td>\n",
              "      <td>0.067743</td>\n",
              "      <td>False</td>\n",
              "    </tr>\n",
              "    <tr>\n",
              "      <th>LO5004</th>\n",
              "      <td>90.954648</td>\n",
              "      <td>79.0</td>\n",
              "      <td>False</td>\n",
              "      <td>0.110833</td>\n",
              "      <td>False</td>\n",
              "    </tr>\n",
              "    <tr>\n",
              "      <th>M4945</th>\n",
              "      <td>210.231726</td>\n",
              "      <td>427.0</td>\n",
              "      <td>True</td>\n",
              "      <td>0.256178</td>\n",
              "      <td>True</td>\n",
              "    </tr>\n",
              "    <tr>\n",
              "      <th>MA7027</th>\n",
              "      <td>159.822510</td>\n",
              "      <td>292.0</td>\n",
              "      <td>False</td>\n",
              "      <td>0.194752</td>\n",
              "      <td>True</td>\n",
              "    </tr>\n",
              "    <tr>\n",
              "      <th>NI9507</th>\n",
              "      <td>55.593338</td>\n",
              "      <td>35.0</td>\n",
              "      <td>False</td>\n",
              "      <td>0.067743</td>\n",
              "      <td>False</td>\n",
              "    </tr>\n",
              "    <tr>\n",
              "      <th>RH090935</th>\n",
              "      <td>81.861285</td>\n",
              "      <td>201.0</td>\n",
              "      <td>True</td>\n",
              "      <td>0.099752</td>\n",
              "      <td>False</td>\n",
              "    </tr>\n",
              "    <tr>\n",
              "      <th>RI1933</th>\n",
              "      <td>478.358900</td>\n",
              "      <td>473.0</td>\n",
              "      <td>True</td>\n",
              "      <td>0.582905</td>\n",
              "      <td>True</td>\n",
              "    </tr>\n",
              "    <tr>\n",
              "      <th>RO3338</th>\n",
              "      <td>95.004138</td>\n",
              "      <td>106.0</td>\n",
              "      <td>False</td>\n",
              "      <td>0.115767</td>\n",
              "      <td>False</td>\n",
              "    </tr>\n",
              "    <tr>\n",
              "      <th>SA9755</th>\n",
              "      <td>820.646318</td>\n",
              "      <td>1192.0</td>\n",
              "      <td>True</td>\n",
              "      <td>1.000000</td>\n",
              "      <td>True</td>\n",
              "    </tr>\n",
              "    <tr>\n",
              "      <th>SB010944</th>\n",
              "      <td>156.786619</td>\n",
              "      <td>198.0</td>\n",
              "      <td>True</td>\n",
              "      <td>0.191053</td>\n",
              "      <td>True</td>\n",
              "    </tr>\n",
              "    <tr>\n",
              "      <th>SC0899</th>\n",
              "      <td>264.638907</td>\n",
              "      <td>296.0</td>\n",
              "      <td>True</td>\n",
              "      <td>0.322476</td>\n",
              "      <td>True</td>\n",
              "    </tr>\n",
              "    <tr>\n",
              "      <th>SC6470</th>\n",
              "      <td>167.959677</td>\n",
              "      <td>185.0</td>\n",
              "      <td>True</td>\n",
              "      <td>0.204668</td>\n",
              "      <td>True</td>\n",
              "    </tr>\n",
              "    <tr>\n",
              "      <th>SR070761</th>\n",
              "      <td>253.653872</td>\n",
              "      <td>184.0</td>\n",
              "      <td>False</td>\n",
              "      <td>0.309090</td>\n",
              "      <td>True</td>\n",
              "    </tr>\n",
              "    <tr>\n",
              "      <th>TU0428</th>\n",
              "      <td>403.231694</td>\n",
              "      <td>626.0</td>\n",
              "      <td>False</td>\n",
              "      <td>0.491359</td>\n",
              "      <td>True</td>\n",
              "    </tr>\n",
              "    <tr>\n",
              "      <th>VA1330</th>\n",
              "      <td>72.915210</td>\n",
              "      <td>44.0</td>\n",
              "      <td>False</td>\n",
              "      <td>0.088851</td>\n",
              "      <td>False</td>\n",
              "    </tr>\n",
              "    <tr>\n",
              "      <th>VA7859</th>\n",
              "      <td>55.593338</td>\n",
              "      <td>11.0</td>\n",
              "      <td>False</td>\n",
              "      <td>0.067743</td>\n",
              "      <td>False</td>\n",
              "    </tr>\n",
              "    <tr>\n",
              "      <th>WA7899</th>\n",
              "      <td>121.003015</td>\n",
              "      <td>127.0</td>\n",
              "      <td>False</td>\n",
              "      <td>0.147448</td>\n",
              "      <td>True</td>\n",
              "    </tr>\n",
              "    <tr>\n",
              "      <th>Y2087</th>\n",
              "      <td>171.165744</td>\n",
              "      <td>507.0</td>\n",
              "      <td>True</td>\n",
              "      <td>0.208574</td>\n",
              "      <td>True</td>\n",
              "    </tr>\n",
              "    <tr>\n",
              "      <th>ZA6505</th>\n",
              "      <td>158.263659</td>\n",
              "      <td>378.0</td>\n",
              "      <td>False</td>\n",
              "      <td>0.192852</td>\n",
              "      <td>True</td>\n",
              "    </tr>\n",
              "  </tbody>\n",
              "</table>\n",
              "</div>"
            ],
            "text/plain": [
              "          MutLoad_Pred  MutLoad    DCB   y_score  DCB_pred\n",
              "AL4602      106.054018    244.0   True  0.129232      True\n",
              "AU5884       68.621962     34.0  False  0.083619     False\n",
              "BL3403      101.456077    148.0  False  0.123629     False\n",
              "CA9903      307.344186    324.0   True  0.374515      True\n",
              "DI6359      191.144626    228.0   True  0.232920      True\n",
              "DM123062     93.145815    134.0  False  0.113503     False\n",
              "GR0134      109.348146     56.0   True  0.133246      True\n",
              "GR4788      159.927352    170.0  False  0.194880      True\n",
              "HE3202      478.739410    746.0   True  0.583369      True\n",
              "JB112852     61.099054    190.0  False  0.074452     False\n",
              "KA3947      376.814331    302.0   True  0.459168      True\n",
              "LO3793       55.593338    109.0  False  0.067743     False\n",
              "LO5004       90.954648     79.0  False  0.110833     False\n",
              "M4945       210.231726    427.0   True  0.256178      True\n",
              "MA7027      159.822510    292.0  False  0.194752      True\n",
              "NI9507       55.593338     35.0  False  0.067743     False\n",
              "RH090935     81.861285    201.0   True  0.099752     False\n",
              "RI1933      478.358900    473.0   True  0.582905      True\n",
              "RO3338       95.004138    106.0  False  0.115767     False\n",
              "SA9755      820.646318   1192.0   True  1.000000      True\n",
              "SB010944    156.786619    198.0   True  0.191053      True\n",
              "SC0899      264.638907    296.0   True  0.322476      True\n",
              "SC6470      167.959677    185.0   True  0.204668      True\n",
              "SR070761    253.653872    184.0  False  0.309090      True\n",
              "TU0428      403.231694    626.0  False  0.491359      True\n",
              "VA1330       72.915210     44.0  False  0.088851     False\n",
              "VA7859       55.593338     11.0  False  0.067743     False\n",
              "WA7899      121.003015    127.0  False  0.147448      True\n",
              "Y2087       171.165744    507.0   True  0.208574      True\n",
              "ZA6505      158.263659    378.0  False  0.192852      True"
            ]
          },
          "metadata": {
            "tags": []
          },
          "execution_count": 153
        }
      ]
    },
    {
      "cell_type": "code",
      "metadata": {
        "id": "fqrMvSIntIO3",
        "colab_type": "code",
        "colab": {}
      },
      "source": [
        "#Classify all the patients into 4 categories: True Positive, False Positive, True Negative and False Negative.\n",
        "TP = val34_roc.loc[(val34_roc['DCB'] == True) & (val34_roc['DCB_pred'] == True)] #True Positive\n",
        "FP = val34_roc.loc[(val34_roc['DCB'] == False) & (val34_roc['DCB_pred'] == True)] #False Positive\n",
        "TN = val34_roc.loc[(val34_roc['DCB'] == False) & (val34_roc['DCB_pred'] == False)] #True Negative\n",
        "FN = val34_roc.loc[(val34_roc['DCB'] == True) & (val34_roc['DCB_pred'] == False)] #False Negative"
      ],
      "execution_count": 0,
      "outputs": []
    },
    {
      "cell_type": "code",
      "metadata": {
        "id": "NRWeCMm3tMip",
        "colab_type": "code",
        "outputId": "78ac84a0-b735-468f-a016-bd91bd01d603",
        "colab": {
          "base_uri": "https://localhost:8080/",
          "height": 701
        }
      },
      "source": [
        "import matplotlib.pyplot as plt\n",
        "\n",
        "# we make the figure large here to have better resolution in the report\n",
        "# change the figure in proper size in the report\n",
        "fig, ax = plt.subplots(dpi=150, figsize=(5, 5))\n",
        "plt.plot([0, 1200], [0, 1200], linestyle='-', color='gray')  #draw the diagonal\n",
        "\n",
        "plt.plot(TP['MutLoad'], TP['MutLoad_Pred'], '.', color='blue', \n",
        "         label='True positive ({})'.format(str(TP.shape[0]))) \n",
        "plt.plot(FP['MutLoad'], FP['MutLoad_Pred'], '.', color='purple', \n",
        "         label='False positive ({})'.format(str(FP.shape[0])))\n",
        "plt.plot(TN['MutLoad'], TN['MutLoad_Pred'], '.', color='green', \n",
        "         label='True negative ({})'.format(str(TN.shape[0])))\n",
        "plt.plot(FN['MutLoad'], FN['MutLoad_Pred'], '.', color='red', \n",
        "         label='False negative ({})'.format(str(FN.shape[0])))\n",
        "\n",
        "plt.hlines(threshold, 0, 1200, colors='gold', linestyles='solid') #draw the threshold line\n",
        "plt.legend(loc='upper left')\n",
        "plt.xlabel('Actual mutation load')\n",
        "plt.ylabel('Estimated mutation load')\n",
        "plt.axis([0, 1200, 0, 1200])"
      ],
      "execution_count": 155,
      "outputs": [
        {
          "output_type": "execute_result",
          "data": {
            "text/plain": [
              "[0, 1200, 0, 1200]"
            ]
          },
          "metadata": {
            "tags": []
          },
          "execution_count": 155
        },
        {
          "output_type": "display_data",
          "data": {
            "image/png": "[encoded data removed]",
            "text/plain": [
              "<Figure size 750x750 with 1 Axes>"
            ]
          },
          "metadata": {
            "tags": []
          }
        }
      ]
    },
    {
      "cell_type": "code",
      "metadata": {
        "id": "eCTu9bSBtXaj",
        "colab_type": "code",
        "outputId": "f8887c34-85c4-44fd-a216-c9278372c763",
        "colab": {
          "base_uri": "https://localhost:8080/",
          "height": 54
        }
      },
      "source": [
        "   #calculate the sensitivity and specificity\n",
        "sensitivity = TP.shape[0]/(TP.shape[0] + FN.shape[0]) #the probability that a test will indicate 'disease' among those with the disease\n",
        "sensitivity\n",
        "\n",
        "specificity = TN.shape[0]/(TN.shape[0] + FP.shape[0]) #the fraction of those without disease who will have a negative test result\n",
        "specificity\n",
        "\n",
        "print('The sensitivity and specificity of DCB/NDB classification using our constructed model were shown to be {} and {}, respectively.'.format(sensitivity, specificity))"
      ],
      "execution_count": 156,
      "outputs": [
        {
          "output_type": "stream",
          "text": [
            "The sensitivity and specificity of DCB/NDB classification using our constructed model were shown to be 0.9285714285714286 and 0.625, respectively.\n"
          ],
          "name": "stdout"
        }
      ]
    }
  ]
}